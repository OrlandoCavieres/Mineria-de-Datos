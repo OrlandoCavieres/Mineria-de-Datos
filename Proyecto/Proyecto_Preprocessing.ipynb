{
 "cells": [
  {
   "cell_type": "code",
   "execution_count": 1,
   "source": [
    "from currency_converter import CurrencyConverter\r\n",
    "import pandas as pd\r\n",
    "import plotly.graph_objects as go"
   ],
   "outputs": [],
   "metadata": {
    "collapsed": false,
    "pycharm": {
     "name": "#%%\n"
    }
   }
  },
  {
   "cell_type": "markdown",
   "source": [
    "# Descripción del set de datos"
   ],
   "metadata": {
    "collapsed": false
   }
  },
  {
   "cell_type": "markdown",
   "source": [
    "Dataset de estudio: https://www.kaggle.com/gauthamp10/google-playstore-apps.\r\n",
    "\r\n",
    "Dataset usado en el trabajo: \r\n",
    "https://drive.google.com/file/d/16Mc_UjQ5XtlYTL9KMtzdHyiJ61OulY5S/view?usp=sharing\r\n"
   ],
   "metadata": {}
  },
  {
   "cell_type": "code",
   "execution_count": 2,
   "source": [
    "datos = pd.read_csv('Google-Playstore.csv', sep = ',', parse_dates = ['Last Updated', 'Released'])"
   ],
   "outputs": [],
   "metadata": {
    "collapsed": false,
    "pycharm": {
     "name": "#%%\n"
    }
   }
  },
  {
   "cell_type": "code",
   "execution_count": 3,
   "source": [
    "datos.shape"
   ],
   "outputs": [
    {
     "output_type": "execute_result",
     "data": {
      "text/plain": [
       "(1118136, 23)"
      ]
     },
     "metadata": {},
     "execution_count": 3
    }
   ],
   "metadata": {
    "collapsed": false,
    "pycharm": {
     "name": "#%%\n"
    }
   }
  },
  {
   "cell_type": "code",
   "execution_count": 4,
   "source": [
    "datos.info()"
   ],
   "outputs": [
    {
     "output_type": "stream",
     "name": "stdout",
     "text": [
      "<class 'pandas.core.frame.DataFrame'>\n",
      "RangeIndex: 1118136 entries, 0 to 1118135\n",
      "Data columns (total 23 columns):\n",
      " #   Column             Non-Null Count    Dtype         \n",
      "---  ------             --------------    -----         \n",
      " 0   App Name           1118135 non-null  object        \n",
      " 1   App Id             1118136 non-null  object        \n",
      " 2   Category           1118133 non-null  object        \n",
      " 3   Rating             1111286 non-null  float64       \n",
      " 4   Rating Count       1111286 non-null  float64       \n",
      " 5   Installs           1117975 non-null  object        \n",
      " 6   Minimum Installs   1117975 non-null  float64       \n",
      " 7   Maximum Installs   1118136 non-null  int64         \n",
      " 8   Free               1118136 non-null  bool          \n",
      " 9   Price              1118136 non-null  float64       \n",
      " 10  Currency           1117975 non-null  object        \n",
      " 11  Size               1118136 non-null  object        \n",
      " 12  Minimum Android    1116123 non-null  object        \n",
      " 13  Developer Id       1118134 non-null  object        \n",
      " 14  Developer Website  703770 non-null   object        \n",
      " 15  Developer Email    1118114 non-null  object        \n",
      " 16  Released           1110406 non-null  datetime64[ns]\n",
      " 17  Last Updated       1118136 non-null  datetime64[ns]\n",
      " 18  Content Rating     1118136 non-null  object        \n",
      " 19  Privacy Policy     964612 non-null   object        \n",
      " 20  Ad Supported       1118136 non-null  bool          \n",
      " 21  In App Purchases   1118136 non-null  bool          \n",
      " 22  Editors Choice     1118136 non-null  bool          \n",
      "dtypes: bool(4), datetime64[ns](2), float64(4), int64(1), object(12)\n",
      "memory usage: 166.3+ MB\n"
     ]
    }
   ],
   "metadata": {
    "collapsed": false,
    "pycharm": {
     "name": "#%%\n"
    }
   }
  },
  {
   "cell_type": "code",
   "execution_count": 5,
   "source": [
    "datos.describe().apply(lambda s: s.apply(lambda x: format(x, '.4f')))"
   ],
   "outputs": [
    {
     "output_type": "execute_result",
     "data": {
      "text/plain": [
       "             Rating    Rating Count  Minimum Installs  Maximum Installs  \\\n",
       "count  1111286.0000    1111286.0000      1117975.0000      1118136.0000   \n",
       "mean         2.4903       5159.6332       313643.2314       544453.3725   \n",
       "std          2.0540     272409.4451     20439406.3541     30310580.6522   \n",
       "min          0.0000          0.0000            0.0000            0.0000   \n",
       "25%          0.0000          0.0000          100.0000          160.0000   \n",
       "50%          3.6000         11.0000         1000.0000         1719.0000   \n",
       "75%          4.3000        100.0000        10000.0000        19116.0000   \n",
       "max          5.0000  125380770.0000  10000000000.0000  10772700105.0000   \n",
       "\n",
       "              Price  \n",
       "count  1118136.0000  \n",
       "mean         0.2051  \n",
       "std          3.5410  \n",
       "min          0.0000  \n",
       "25%          0.0000  \n",
       "50%          0.0000  \n",
       "75%          0.0000  \n",
       "max        400.0000  "
      ],
      "text/html": [
       "<div>\n",
       "<style scoped>\n",
       "    .dataframe tbody tr th:only-of-type {\n",
       "        vertical-align: middle;\n",
       "    }\n",
       "\n",
       "    .dataframe tbody tr th {\n",
       "        vertical-align: top;\n",
       "    }\n",
       "\n",
       "    .dataframe thead th {\n",
       "        text-align: right;\n",
       "    }\n",
       "</style>\n",
       "<table border=\"1\" class=\"dataframe\">\n",
       "  <thead>\n",
       "    <tr style=\"text-align: right;\">\n",
       "      <th></th>\n",
       "      <th>Rating</th>\n",
       "      <th>Rating Count</th>\n",
       "      <th>Minimum Installs</th>\n",
       "      <th>Maximum Installs</th>\n",
       "      <th>Price</th>\n",
       "    </tr>\n",
       "  </thead>\n",
       "  <tbody>\n",
       "    <tr>\n",
       "      <th>count</th>\n",
       "      <td>1111286.0000</td>\n",
       "      <td>1111286.0000</td>\n",
       "      <td>1117975.0000</td>\n",
       "      <td>1118136.0000</td>\n",
       "      <td>1118136.0000</td>\n",
       "    </tr>\n",
       "    <tr>\n",
       "      <th>mean</th>\n",
       "      <td>2.4903</td>\n",
       "      <td>5159.6332</td>\n",
       "      <td>313643.2314</td>\n",
       "      <td>544453.3725</td>\n",
       "      <td>0.2051</td>\n",
       "    </tr>\n",
       "    <tr>\n",
       "      <th>std</th>\n",
       "      <td>2.0540</td>\n",
       "      <td>272409.4451</td>\n",
       "      <td>20439406.3541</td>\n",
       "      <td>30310580.6522</td>\n",
       "      <td>3.5410</td>\n",
       "    </tr>\n",
       "    <tr>\n",
       "      <th>min</th>\n",
       "      <td>0.0000</td>\n",
       "      <td>0.0000</td>\n",
       "      <td>0.0000</td>\n",
       "      <td>0.0000</td>\n",
       "      <td>0.0000</td>\n",
       "    </tr>\n",
       "    <tr>\n",
       "      <th>25%</th>\n",
       "      <td>0.0000</td>\n",
       "      <td>0.0000</td>\n",
       "      <td>100.0000</td>\n",
       "      <td>160.0000</td>\n",
       "      <td>0.0000</td>\n",
       "    </tr>\n",
       "    <tr>\n",
       "      <th>50%</th>\n",
       "      <td>3.6000</td>\n",
       "      <td>11.0000</td>\n",
       "      <td>1000.0000</td>\n",
       "      <td>1719.0000</td>\n",
       "      <td>0.0000</td>\n",
       "    </tr>\n",
       "    <tr>\n",
       "      <th>75%</th>\n",
       "      <td>4.3000</td>\n",
       "      <td>100.0000</td>\n",
       "      <td>10000.0000</td>\n",
       "      <td>19116.0000</td>\n",
       "      <td>0.0000</td>\n",
       "    </tr>\n",
       "    <tr>\n",
       "      <th>max</th>\n",
       "      <td>5.0000</td>\n",
       "      <td>125380770.0000</td>\n",
       "      <td>10000000000.0000</td>\n",
       "      <td>10772700105.0000</td>\n",
       "      <td>400.0000</td>\n",
       "    </tr>\n",
       "  </tbody>\n",
       "</table>\n",
       "</div>"
      ]
     },
     "metadata": {},
     "execution_count": 5
    }
   ],
   "metadata": {
    "collapsed": false,
    "pycharm": {
     "name": "#%%\n"
    }
   }
  },
  {
   "cell_type": "code",
   "execution_count": 6,
   "source": [
    "datos.describe(include = [bool])"
   ],
   "outputs": [
    {
     "output_type": "execute_result",
     "data": {
      "text/plain": [
       "           Free Ad Supported In App Purchases Editors Choice\n",
       "count   1118136      1118136          1118136        1118136\n",
       "unique        2            2                2              2\n",
       "top        True         True            False          False\n",
       "freq    1071333       725816           998025        1117388"
      ],
      "text/html": [
       "<div>\n",
       "<style scoped>\n",
       "    .dataframe tbody tr th:only-of-type {\n",
       "        vertical-align: middle;\n",
       "    }\n",
       "\n",
       "    .dataframe tbody tr th {\n",
       "        vertical-align: top;\n",
       "    }\n",
       "\n",
       "    .dataframe thead th {\n",
       "        text-align: right;\n",
       "    }\n",
       "</style>\n",
       "<table border=\"1\" class=\"dataframe\">\n",
       "  <thead>\n",
       "    <tr style=\"text-align: right;\">\n",
       "      <th></th>\n",
       "      <th>Free</th>\n",
       "      <th>Ad Supported</th>\n",
       "      <th>In App Purchases</th>\n",
       "      <th>Editors Choice</th>\n",
       "    </tr>\n",
       "  </thead>\n",
       "  <tbody>\n",
       "    <tr>\n",
       "      <th>count</th>\n",
       "      <td>1118136</td>\n",
       "      <td>1118136</td>\n",
       "      <td>1118136</td>\n",
       "      <td>1118136</td>\n",
       "    </tr>\n",
       "    <tr>\n",
       "      <th>unique</th>\n",
       "      <td>2</td>\n",
       "      <td>2</td>\n",
       "      <td>2</td>\n",
       "      <td>2</td>\n",
       "    </tr>\n",
       "    <tr>\n",
       "      <th>top</th>\n",
       "      <td>True</td>\n",
       "      <td>True</td>\n",
       "      <td>False</td>\n",
       "      <td>False</td>\n",
       "    </tr>\n",
       "    <tr>\n",
       "      <th>freq</th>\n",
       "      <td>1071333</td>\n",
       "      <td>725816</td>\n",
       "      <td>998025</td>\n",
       "      <td>1117388</td>\n",
       "    </tr>\n",
       "  </tbody>\n",
       "</table>\n",
       "</div>"
      ]
     },
     "metadata": {},
     "execution_count": 6
    }
   ],
   "metadata": {
    "collapsed": false,
    "pycharm": {
     "name": "#%%\n"
    }
   }
  },
  {
   "cell_type": "code",
   "execution_count": 7,
   "source": [
    "datos.describe(include = [object])"
   ],
   "outputs": [
    {
     "output_type": "execute_result",
     "data": {
      "text/plain": [
       "           App Name               App Id   Category Installs Currency  \\\n",
       "count       1118135              1118136    1118133  1117975  1117975   \n",
       "unique      1046869              1118136         48       22       54   \n",
       "top     Tic Tac Toe  com.httrack.android  Education   1,000+      USD   \n",
       "freq            143                    1     115242   198309  1075136   \n",
       "\n",
       "                      Size Minimum Android   Developer Id  \\\n",
       "count              1118136         1116123        1118134   \n",
       "unique                1482             139         165593   \n",
       "top     Varies with device      4.1 and up  Subsplash Inc   \n",
       "freq                 37254          344239            538   \n",
       "\n",
       "                Developer Website       Developer Email Content Rating  \\\n",
       "count                      703770               1118114        1118136   \n",
       "unique                     256899                261786              6   \n",
       "top     http://www.subsplash.com/  support@classplus.co       Everyone   \n",
       "freq                          706                  1529         968246   \n",
       "\n",
       "                                           Privacy Policy  \n",
       "count                                              964612  \n",
       "unique                                             380030  \n",
       "top     http://www.cmcm.com/protocol/launcher-theme/pr...  \n",
       "freq                                                 1805  "
      ],
      "text/html": [
       "<div>\n",
       "<style scoped>\n",
       "    .dataframe tbody tr th:only-of-type {\n",
       "        vertical-align: middle;\n",
       "    }\n",
       "\n",
       "    .dataframe tbody tr th {\n",
       "        vertical-align: top;\n",
       "    }\n",
       "\n",
       "    .dataframe thead th {\n",
       "        text-align: right;\n",
       "    }\n",
       "</style>\n",
       "<table border=\"1\" class=\"dataframe\">\n",
       "  <thead>\n",
       "    <tr style=\"text-align: right;\">\n",
       "      <th></th>\n",
       "      <th>App Name</th>\n",
       "      <th>App Id</th>\n",
       "      <th>Category</th>\n",
       "      <th>Installs</th>\n",
       "      <th>Currency</th>\n",
       "      <th>Size</th>\n",
       "      <th>Minimum Android</th>\n",
       "      <th>Developer Id</th>\n",
       "      <th>Developer Website</th>\n",
       "      <th>Developer Email</th>\n",
       "      <th>Content Rating</th>\n",
       "      <th>Privacy Policy</th>\n",
       "    </tr>\n",
       "  </thead>\n",
       "  <tbody>\n",
       "    <tr>\n",
       "      <th>count</th>\n",
       "      <td>1118135</td>\n",
       "      <td>1118136</td>\n",
       "      <td>1118133</td>\n",
       "      <td>1117975</td>\n",
       "      <td>1117975</td>\n",
       "      <td>1118136</td>\n",
       "      <td>1116123</td>\n",
       "      <td>1118134</td>\n",
       "      <td>703770</td>\n",
       "      <td>1118114</td>\n",
       "      <td>1118136</td>\n",
       "      <td>964612</td>\n",
       "    </tr>\n",
       "    <tr>\n",
       "      <th>unique</th>\n",
       "      <td>1046869</td>\n",
       "      <td>1118136</td>\n",
       "      <td>48</td>\n",
       "      <td>22</td>\n",
       "      <td>54</td>\n",
       "      <td>1482</td>\n",
       "      <td>139</td>\n",
       "      <td>165593</td>\n",
       "      <td>256899</td>\n",
       "      <td>261786</td>\n",
       "      <td>6</td>\n",
       "      <td>380030</td>\n",
       "    </tr>\n",
       "    <tr>\n",
       "      <th>top</th>\n",
       "      <td>Tic Tac Toe</td>\n",
       "      <td>com.httrack.android</td>\n",
       "      <td>Education</td>\n",
       "      <td>1,000+</td>\n",
       "      <td>USD</td>\n",
       "      <td>Varies with device</td>\n",
       "      <td>4.1 and up</td>\n",
       "      <td>Subsplash Inc</td>\n",
       "      <td>http://www.subsplash.com/</td>\n",
       "      <td>support@classplus.co</td>\n",
       "      <td>Everyone</td>\n",
       "      <td>http://www.cmcm.com/protocol/launcher-theme/pr...</td>\n",
       "    </tr>\n",
       "    <tr>\n",
       "      <th>freq</th>\n",
       "      <td>143</td>\n",
       "      <td>1</td>\n",
       "      <td>115242</td>\n",
       "      <td>198309</td>\n",
       "      <td>1075136</td>\n",
       "      <td>37254</td>\n",
       "      <td>344239</td>\n",
       "      <td>538</td>\n",
       "      <td>706</td>\n",
       "      <td>1529</td>\n",
       "      <td>968246</td>\n",
       "      <td>1805</td>\n",
       "    </tr>\n",
       "  </tbody>\n",
       "</table>\n",
       "</div>"
      ]
     },
     "metadata": {},
     "execution_count": 7
    }
   ],
   "metadata": {
    "collapsed": false,
    "pycharm": {
     "name": "#%%\n"
    }
   }
  },
  {
   "cell_type": "code",
   "execution_count": 8,
   "source": [
    "datos.isnull().sum()"
   ],
   "outputs": [
    {
     "output_type": "execute_result",
     "data": {
      "text/plain": [
       "App Name                  1\n",
       "App Id                    0\n",
       "Category                  3\n",
       "Rating                 6850\n",
       "Rating Count           6850\n",
       "Installs                161\n",
       "Minimum Installs        161\n",
       "Maximum Installs          0\n",
       "Free                      0\n",
       "Price                     0\n",
       "Currency                161\n",
       "Size                      0\n",
       "Minimum Android        2013\n",
       "Developer Id              2\n",
       "Developer Website    414366\n",
       "Developer Email          22\n",
       "Released               7730\n",
       "Last Updated              0\n",
       "Content Rating            0\n",
       "Privacy Policy       153524\n",
       "Ad Supported              0\n",
       "In App Purchases          0\n",
       "Editors Choice            0\n",
       "dtype: int64"
      ]
     },
     "metadata": {},
     "execution_count": 8
    }
   ],
   "metadata": {
    "collapsed": false,
    "pycharm": {
     "name": "#%%\n"
    }
   }
  },
  {
   "cell_type": "code",
   "execution_count": 9,
   "source": [
    "datos.Category.value_counts()"
   ],
   "outputs": [
    {
     "output_type": "execute_result",
     "data": {
      "text/plain": [
       "Education                  115242\n",
       "Music & Audio              104541\n",
       "Entertainment               82079\n",
       "Books & Reference           78969\n",
       "Personalization             73538\n",
       "Tools                       68953\n",
       "Lifestyle                   54586\n",
       "Business                    42210\n",
       "Health & Fitness            31532\n",
       "Productivity                30450\n",
       "Photography                 28942\n",
       "Travel & Local              25971\n",
       "Puzzle                      24954\n",
       "Finance                     24846\n",
       "Food & Drink                24250\n",
       "Sports                      22094\n",
       "News & Magazines            21553\n",
       "Casual                      20509\n",
       "Shopping                    20440\n",
       "Communication               18391\n",
       "Arcade                      17715\n",
       "Social                      16987\n",
       "Simulation                  15372\n",
       "Action                      12628\n",
       "Medical                     12554\n",
       "Art & Design                12322\n",
       "Educational                 11351\n",
       "Maps & Navigation           10468\n",
       "Adventure                   10124\n",
       "Video Players & Editors      9095\n",
       "Auto & Vehicles              6872\n",
       "Beauty                       6236\n",
       "Racing                       6004\n",
       "Role Playing                 5632\n",
       "House & Home                 5475\n",
       "Trivia                       5470\n",
       "Board                        5261\n",
       "Word                         4677\n",
       "Card                         4674\n",
       "Strategy                     4071\n",
       "Events                       3788\n",
       "Weather                      2958\n",
       "Dating                       2883\n",
       "Casino                       2648\n",
       "Music                        2515\n",
       "Libraries & Demo             2382\n",
       "Comics                       2137\n",
       "Parenting                    1784\n",
       "Name: Category, dtype: int64"
      ]
     },
     "metadata": {},
     "execution_count": 9
    }
   ],
   "metadata": {
    "collapsed": false,
    "pycharm": {
     "name": "#%%\n"
    }
   }
  },
  {
   "cell_type": "code",
   "execution_count": 10,
   "source": [
    "datos.Rating.value_counts().sort_index()"
   ],
   "outputs": [
    {
     "output_type": "execute_result",
     "data": {
      "text/plain": [
       "0.0    433265\n",
       "1.0       356\n",
       "1.1        90\n",
       "1.2       227\n",
       "1.3       270\n",
       "1.4       468\n",
       "1.5       544\n",
       "1.6       773\n",
       "1.7       879\n",
       "1.8      1489\n",
       "1.9      1222\n",
       "2.0      1843\n",
       "2.1      1850\n",
       "2.2      2483\n",
       "2.3      2683\n",
       "2.4      2926\n",
       "2.5      3352\n",
       "2.6      4573\n",
       "2.7      4661\n",
       "2.8      6233\n",
       "2.9      6007\n",
       "3.0      8958\n",
       "3.1      8334\n",
       "3.2     11684\n",
       "3.3     12231\n",
       "3.4     15733\n",
       "3.5     17644\n",
       "3.6     20384\n",
       "3.7     24926\n",
       "3.8     31853\n",
       "3.9     33301\n",
       "4.0     40589\n",
       "4.1     42762\n",
       "4.2     53072\n",
       "4.3     50928\n",
       "4.4     52815\n",
       "4.5     47129\n",
       "4.6     46051\n",
       "4.7     35208\n",
       "4.8     29950\n",
       "4.9     18053\n",
       "5.0     33487\n",
       "Name: Rating, dtype: int64"
      ]
     },
     "metadata": {},
     "execution_count": 10
    }
   ],
   "metadata": {
    "collapsed": false,
    "pycharm": {
     "name": "#%%\n"
    }
   }
  },
  {
   "cell_type": "code",
   "execution_count": 11,
   "source": [
    "datos.Installs.value_counts()"
   ],
   "outputs": [
    {
     "output_type": "execute_result",
     "data": {
      "text/plain": [
       "1,000+             198309\n",
       "100+               177415\n",
       "10,000+            157976\n",
       "10+                103845\n",
       "500+                83289\n",
       "100,000+            80344\n",
       "5,000+              80221\n",
       "50+                 61717\n",
       "50,000+             51541\n",
       "1+                  28981\n",
       "1,000,000+          27071\n",
       "5+                  25668\n",
       "500,000+            20730\n",
       "0+                   8964\n",
       "5,000,000+           5501\n",
       "10,000,000+          5170\n",
       "50,000,000+           695\n",
       "100,000,000+          424\n",
       "500,000,000+           54\n",
       "1,000,000,000+         47\n",
       "5,000,000,000+         12\n",
       "10,000,000,000+         1\n",
       "Name: Installs, dtype: int64"
      ]
     },
     "metadata": {},
     "execution_count": 11
    }
   ],
   "metadata": {
    "collapsed": false,
    "pycharm": {
     "name": "#%%\n"
    }
   }
  },
  {
   "cell_type": "code",
   "execution_count": 12,
   "source": [
    "datos['Minimum Android'].value_counts()"
   ],
   "outputs": [
    {
     "output_type": "execute_result",
     "data": {
      "text/plain": [
       "4.1 and up      344239\n",
       "4.4 and up      165618\n",
       "5.0 and up      138141\n",
       "4.0.3 and up    117939\n",
       "4.0 and up       89365\n",
       "                 ...  \n",
       "4.3 - 4.4            1\n",
       "5.1 - 6.0            1\n",
       "2.1 - 6.0            1\n",
       "5.1 - 7.1.1          1\n",
       "3.2 - 4.4W           1\n",
       "Name: Minimum Android, Length: 139, dtype: int64"
      ]
     },
     "metadata": {},
     "execution_count": 12
    }
   ],
   "metadata": {
    "collapsed": false,
    "pycharm": {
     "name": "#%%\n"
    }
   }
  },
  {
   "cell_type": "code",
   "execution_count": 13,
   "source": [
    "datos['Content Rating'].value_counts()"
   ],
   "outputs": [
    {
     "output_type": "execute_result",
     "data": {
      "text/plain": [
       "Everyone           968246\n",
       "Teen                99775\n",
       "Mature 17+          31965\n",
       "Everyone 10+        18030\n",
       "Unrated                66\n",
       "Adults only 18+        54\n",
       "Name: Content Rating, dtype: int64"
      ]
     },
     "metadata": {},
     "execution_count": 13
    }
   ],
   "metadata": {
    "collapsed": false,
    "pycharm": {
     "name": "#%%\n"
    }
   }
  },
  {
   "cell_type": "code",
   "execution_count": 14,
   "source": [
    "datos.Currency.value_counts()"
   ],
   "outputs": [
    {
     "output_type": "execute_result",
     "data": {
      "text/plain": [
       "USD    1075136\n",
       "XXX      42099\n",
       "EUR        124\n",
       "INR        104\n",
       "PKR         62\n",
       "TRY         41\n",
       "BRL         40\n",
       "GBP         38\n",
       "RUB         31\n",
       "HKD         19\n",
       "VND         18\n",
       "IDR         16\n",
       "JPY         16\n",
       "CHF         15\n",
       "SAR         15\n",
       "CAD         14\n",
       "BDT         13\n",
       "ILS         12\n",
       "KRW         12\n",
       "SGD         11\n",
       "AED          9\n",
       "UAH          9\n",
       "NGN          9\n",
       "AUD          9\n",
       "BGN          8\n",
       "THB          7\n",
       "PLN          7\n",
       "SEK          7\n",
       "MXN          6\n",
       "NOK          5\n",
       "COP          5\n",
       "RON          4\n",
       "LKR          4\n",
       "PHP          4\n",
       "KES          4\n",
       "TWD          4\n",
       "CZK          4\n",
       "EGP          4\n",
       "MYR          3\n",
       "ZAR          3\n",
       "PEN          3\n",
       "CLP          3\n",
       "GHS          3\n",
       "LBP          2\n",
       "HUF          2\n",
       "DKK          2\n",
       "NZD          2\n",
       "TZS          1\n",
       "DZD          1\n",
       "CRC          1\n",
       "BOB          1\n",
       "HRK          1\n",
       "KZT          1\n",
       "RSD          1\n",
       "Name: Currency, dtype: int64"
      ]
     },
     "metadata": {},
     "execution_count": 14
    }
   ],
   "metadata": {
    "collapsed": false,
    "pycharm": {
     "name": "#%%\n"
    }
   }
  },
  {
   "cell_type": "markdown",
   "source": [
    "# Análisis preliminar inicial (Cleaning)\n",
    "\n",
    "**Eliminar columnas \"Developer Website\", \"Developer Email\", \"Privacy Policy\", \"Last Updated\" e \"Installs\"**"
   ],
   "metadata": {
    "collapsed": false
   }
  },
  {
   "cell_type": "code",
   "execution_count": 15,
   "source": [
    "datos = datos.drop(columns = ['Developer Id', 'Developer Website', 'Developer Email', 'Privacy Policy'])\r\n",
    "datos"
   ],
   "outputs": [
    {
     "output_type": "execute_result",
     "data": {
      "text/plain": [
       "                                                  App Name  \\\n",
       "0                                   HTTrack Website Copier   \n",
       "1                            World War 2: Offline Strategy   \n",
       "2                                                   WPSApp   \n",
       "3        OfficeSuite - Office, PDF, Word, Excel, PowerP...   \n",
       "4                                         Loud Player Free   \n",
       "...                                                    ...   \n",
       "1118131                                        FleetEnable   \n",
       "1118132                                          AutoThink   \n",
       "1118133                                        FieldEnable   \n",
       "1118134                                       Live Concert   \n",
       "1118135                                       Rajput India   \n",
       "\n",
       "                                  App Id       Category  Rating  Rating Count  \\\n",
       "0                    com.httrack.android  Communication     3.6        2848.0   \n",
       "1                        com.skizze.wwii       Strategy     4.3       17297.0   \n",
       "2                  com.themausoft.wpsapp          Tools     4.2      488639.0   \n",
       "3                 com.mobisystems.office       Business     4.2     1224420.0   \n",
       "4               com.arthelion.loudplayer  Music & Audio     4.2         665.0   \n",
       "...                                  ...            ...     ...           ...   \n",
       "1118131              com.fleetenable.app   Productivity     NaN           NaN   \n",
       "1118132        com.fleetenable.autothink   Productivity     0.0           0.0   \n",
       "1118133  com.fieldenable.app.fieldenable       Business     0.0           0.0   \n",
       "1118134           com.varbin.liveconcert         Events     0.0           0.0   \n",
       "1118135           com.varbin.rajputindia         Social     4.6          81.0   \n",
       "\n",
       "             Installs  Minimum Installs  Maximum Installs  Free  Price  \\\n",
       "0            100,000+          100000.0            351560  True    0.0   \n",
       "1          1,000,000+         1000000.0           2161778  True    0.0   \n",
       "2         50,000,000+        50000000.0          79304739  True    0.0   \n",
       "3        100,000,000+       100000000.0         163660067  True    0.0   \n",
       "4             50,000+           50000.0             73463  True    0.0   \n",
       "...               ...               ...               ...   ...    ...   \n",
       "1118131           10+              10.0                10  True    0.0   \n",
       "1118132          100+             100.0               127  True    0.0   \n",
       "1118133          100+             100.0               282  True    0.0   \n",
       "1118134          500+             500.0               986  True    0.0   \n",
       "1118135       10,000+           10000.0             18892  True    0.0   \n",
       "\n",
       "        Currency                Size     Minimum Android   Released  \\\n",
       "0            USD                2.7M          2.3 and up 2013-08-12   \n",
       "1            USD                 86M          5.1 and up 2018-07-19   \n",
       "2            USD                5.8M          4.1 and up 2016-03-07   \n",
       "3            USD                 59M          4.4 and up 2011-12-22   \n",
       "4            USD                 29M          5.0 and up 2016-09-24   \n",
       "...          ...                 ...                 ...        ...   \n",
       "1118131      USD  Varies with device  Varies with device        NaT   \n",
       "1118132      USD                4.7M          4.1 and up 2019-11-26   \n",
       "1118133      USD                 28M          5.0 and up 2018-04-30   \n",
       "1118134      USD                8.1M          4.1 and up 2017-12-20   \n",
       "1118135      USD                8.8M          4.1 and up 2017-06-15   \n",
       "\n",
       "        Last Updated Content Rating  Ad Supported  In App Purchases  \\\n",
       "0         2017-05-20       Everyone         False             False   \n",
       "1         2020-11-26   Everyone 10+          True              True   \n",
       "2         2020-10-21       Everyone          True             False   \n",
       "3         2020-11-23       Everyone          True              True   \n",
       "4         2020-11-22       Everyone         False             False   \n",
       "...              ...            ...           ...               ...   \n",
       "1118131   2020-06-30       Everyone         False             False   \n",
       "1118132   2020-11-13       Everyone         False             False   \n",
       "1118133   2020-11-30       Everyone         False             False   \n",
       "1118134   2017-12-20       Everyone         False             False   \n",
       "1118135   2018-09-27           Teen          True             False   \n",
       "\n",
       "         Editors Choice  \n",
       "0                 False  \n",
       "1                 False  \n",
       "2                 False  \n",
       "3                 False  \n",
       "4                 False  \n",
       "...                 ...  \n",
       "1118131           False  \n",
       "1118132           False  \n",
       "1118133           False  \n",
       "1118134           False  \n",
       "1118135           False  \n",
       "\n",
       "[1118136 rows x 19 columns]"
      ],
      "text/html": [
       "<div>\n",
       "<style scoped>\n",
       "    .dataframe tbody tr th:only-of-type {\n",
       "        vertical-align: middle;\n",
       "    }\n",
       "\n",
       "    .dataframe tbody tr th {\n",
       "        vertical-align: top;\n",
       "    }\n",
       "\n",
       "    .dataframe thead th {\n",
       "        text-align: right;\n",
       "    }\n",
       "</style>\n",
       "<table border=\"1\" class=\"dataframe\">\n",
       "  <thead>\n",
       "    <tr style=\"text-align: right;\">\n",
       "      <th></th>\n",
       "      <th>App Name</th>\n",
       "      <th>App Id</th>\n",
       "      <th>Category</th>\n",
       "      <th>Rating</th>\n",
       "      <th>Rating Count</th>\n",
       "      <th>Installs</th>\n",
       "      <th>Minimum Installs</th>\n",
       "      <th>Maximum Installs</th>\n",
       "      <th>Free</th>\n",
       "      <th>Price</th>\n",
       "      <th>Currency</th>\n",
       "      <th>Size</th>\n",
       "      <th>Minimum Android</th>\n",
       "      <th>Released</th>\n",
       "      <th>Last Updated</th>\n",
       "      <th>Content Rating</th>\n",
       "      <th>Ad Supported</th>\n",
       "      <th>In App Purchases</th>\n",
       "      <th>Editors Choice</th>\n",
       "    </tr>\n",
       "  </thead>\n",
       "  <tbody>\n",
       "    <tr>\n",
       "      <th>0</th>\n",
       "      <td>HTTrack Website Copier</td>\n",
       "      <td>com.httrack.android</td>\n",
       "      <td>Communication</td>\n",
       "      <td>3.6</td>\n",
       "      <td>2848.0</td>\n",
       "      <td>100,000+</td>\n",
       "      <td>100000.0</td>\n",
       "      <td>351560</td>\n",
       "      <td>True</td>\n",
       "      <td>0.0</td>\n",
       "      <td>USD</td>\n",
       "      <td>2.7M</td>\n",
       "      <td>2.3 and up</td>\n",
       "      <td>2013-08-12</td>\n",
       "      <td>2017-05-20</td>\n",
       "      <td>Everyone</td>\n",
       "      <td>False</td>\n",
       "      <td>False</td>\n",
       "      <td>False</td>\n",
       "    </tr>\n",
       "    <tr>\n",
       "      <th>1</th>\n",
       "      <td>World War 2: Offline Strategy</td>\n",
       "      <td>com.skizze.wwii</td>\n",
       "      <td>Strategy</td>\n",
       "      <td>4.3</td>\n",
       "      <td>17297.0</td>\n",
       "      <td>1,000,000+</td>\n",
       "      <td>1000000.0</td>\n",
       "      <td>2161778</td>\n",
       "      <td>True</td>\n",
       "      <td>0.0</td>\n",
       "      <td>USD</td>\n",
       "      <td>86M</td>\n",
       "      <td>5.1 and up</td>\n",
       "      <td>2018-07-19</td>\n",
       "      <td>2020-11-26</td>\n",
       "      <td>Everyone 10+</td>\n",
       "      <td>True</td>\n",
       "      <td>True</td>\n",
       "      <td>False</td>\n",
       "    </tr>\n",
       "    <tr>\n",
       "      <th>2</th>\n",
       "      <td>WPSApp</td>\n",
       "      <td>com.themausoft.wpsapp</td>\n",
       "      <td>Tools</td>\n",
       "      <td>4.2</td>\n",
       "      <td>488639.0</td>\n",
       "      <td>50,000,000+</td>\n",
       "      <td>50000000.0</td>\n",
       "      <td>79304739</td>\n",
       "      <td>True</td>\n",
       "      <td>0.0</td>\n",
       "      <td>USD</td>\n",
       "      <td>5.8M</td>\n",
       "      <td>4.1 and up</td>\n",
       "      <td>2016-03-07</td>\n",
       "      <td>2020-10-21</td>\n",
       "      <td>Everyone</td>\n",
       "      <td>True</td>\n",
       "      <td>False</td>\n",
       "      <td>False</td>\n",
       "    </tr>\n",
       "    <tr>\n",
       "      <th>3</th>\n",
       "      <td>OfficeSuite - Office, PDF, Word, Excel, PowerP...</td>\n",
       "      <td>com.mobisystems.office</td>\n",
       "      <td>Business</td>\n",
       "      <td>4.2</td>\n",
       "      <td>1224420.0</td>\n",
       "      <td>100,000,000+</td>\n",
       "      <td>100000000.0</td>\n",
       "      <td>163660067</td>\n",
       "      <td>True</td>\n",
       "      <td>0.0</td>\n",
       "      <td>USD</td>\n",
       "      <td>59M</td>\n",
       "      <td>4.4 and up</td>\n",
       "      <td>2011-12-22</td>\n",
       "      <td>2020-11-23</td>\n",
       "      <td>Everyone</td>\n",
       "      <td>True</td>\n",
       "      <td>True</td>\n",
       "      <td>False</td>\n",
       "    </tr>\n",
       "    <tr>\n",
       "      <th>4</th>\n",
       "      <td>Loud Player Free</td>\n",
       "      <td>com.arthelion.loudplayer</td>\n",
       "      <td>Music &amp; Audio</td>\n",
       "      <td>4.2</td>\n",
       "      <td>665.0</td>\n",
       "      <td>50,000+</td>\n",
       "      <td>50000.0</td>\n",
       "      <td>73463</td>\n",
       "      <td>True</td>\n",
       "      <td>0.0</td>\n",
       "      <td>USD</td>\n",
       "      <td>29M</td>\n",
       "      <td>5.0 and up</td>\n",
       "      <td>2016-09-24</td>\n",
       "      <td>2020-11-22</td>\n",
       "      <td>Everyone</td>\n",
       "      <td>False</td>\n",
       "      <td>False</td>\n",
       "      <td>False</td>\n",
       "    </tr>\n",
       "    <tr>\n",
       "      <th>...</th>\n",
       "      <td>...</td>\n",
       "      <td>...</td>\n",
       "      <td>...</td>\n",
       "      <td>...</td>\n",
       "      <td>...</td>\n",
       "      <td>...</td>\n",
       "      <td>...</td>\n",
       "      <td>...</td>\n",
       "      <td>...</td>\n",
       "      <td>...</td>\n",
       "      <td>...</td>\n",
       "      <td>...</td>\n",
       "      <td>...</td>\n",
       "      <td>...</td>\n",
       "      <td>...</td>\n",
       "      <td>...</td>\n",
       "      <td>...</td>\n",
       "      <td>...</td>\n",
       "      <td>...</td>\n",
       "    </tr>\n",
       "    <tr>\n",
       "      <th>1118131</th>\n",
       "      <td>FleetEnable</td>\n",
       "      <td>com.fleetenable.app</td>\n",
       "      <td>Productivity</td>\n",
       "      <td>NaN</td>\n",
       "      <td>NaN</td>\n",
       "      <td>10+</td>\n",
       "      <td>10.0</td>\n",
       "      <td>10</td>\n",
       "      <td>True</td>\n",
       "      <td>0.0</td>\n",
       "      <td>USD</td>\n",
       "      <td>Varies with device</td>\n",
       "      <td>Varies with device</td>\n",
       "      <td>NaT</td>\n",
       "      <td>2020-06-30</td>\n",
       "      <td>Everyone</td>\n",
       "      <td>False</td>\n",
       "      <td>False</td>\n",
       "      <td>False</td>\n",
       "    </tr>\n",
       "    <tr>\n",
       "      <th>1118132</th>\n",
       "      <td>AutoThink</td>\n",
       "      <td>com.fleetenable.autothink</td>\n",
       "      <td>Productivity</td>\n",
       "      <td>0.0</td>\n",
       "      <td>0.0</td>\n",
       "      <td>100+</td>\n",
       "      <td>100.0</td>\n",
       "      <td>127</td>\n",
       "      <td>True</td>\n",
       "      <td>0.0</td>\n",
       "      <td>USD</td>\n",
       "      <td>4.7M</td>\n",
       "      <td>4.1 and up</td>\n",
       "      <td>2019-11-26</td>\n",
       "      <td>2020-11-13</td>\n",
       "      <td>Everyone</td>\n",
       "      <td>False</td>\n",
       "      <td>False</td>\n",
       "      <td>False</td>\n",
       "    </tr>\n",
       "    <tr>\n",
       "      <th>1118133</th>\n",
       "      <td>FieldEnable</td>\n",
       "      <td>com.fieldenable.app.fieldenable</td>\n",
       "      <td>Business</td>\n",
       "      <td>0.0</td>\n",
       "      <td>0.0</td>\n",
       "      <td>100+</td>\n",
       "      <td>100.0</td>\n",
       "      <td>282</td>\n",
       "      <td>True</td>\n",
       "      <td>0.0</td>\n",
       "      <td>USD</td>\n",
       "      <td>28M</td>\n",
       "      <td>5.0 and up</td>\n",
       "      <td>2018-04-30</td>\n",
       "      <td>2020-11-30</td>\n",
       "      <td>Everyone</td>\n",
       "      <td>False</td>\n",
       "      <td>False</td>\n",
       "      <td>False</td>\n",
       "    </tr>\n",
       "    <tr>\n",
       "      <th>1118134</th>\n",
       "      <td>Live Concert</td>\n",
       "      <td>com.varbin.liveconcert</td>\n",
       "      <td>Events</td>\n",
       "      <td>0.0</td>\n",
       "      <td>0.0</td>\n",
       "      <td>500+</td>\n",
       "      <td>500.0</td>\n",
       "      <td>986</td>\n",
       "      <td>True</td>\n",
       "      <td>0.0</td>\n",
       "      <td>USD</td>\n",
       "      <td>8.1M</td>\n",
       "      <td>4.1 and up</td>\n",
       "      <td>2017-12-20</td>\n",
       "      <td>2017-12-20</td>\n",
       "      <td>Everyone</td>\n",
       "      <td>False</td>\n",
       "      <td>False</td>\n",
       "      <td>False</td>\n",
       "    </tr>\n",
       "    <tr>\n",
       "      <th>1118135</th>\n",
       "      <td>Rajput India</td>\n",
       "      <td>com.varbin.rajputindia</td>\n",
       "      <td>Social</td>\n",
       "      <td>4.6</td>\n",
       "      <td>81.0</td>\n",
       "      <td>10,000+</td>\n",
       "      <td>10000.0</td>\n",
       "      <td>18892</td>\n",
       "      <td>True</td>\n",
       "      <td>0.0</td>\n",
       "      <td>USD</td>\n",
       "      <td>8.8M</td>\n",
       "      <td>4.1 and up</td>\n",
       "      <td>2017-06-15</td>\n",
       "      <td>2018-09-27</td>\n",
       "      <td>Teen</td>\n",
       "      <td>True</td>\n",
       "      <td>False</td>\n",
       "      <td>False</td>\n",
       "    </tr>\n",
       "  </tbody>\n",
       "</table>\n",
       "<p>1118136 rows × 19 columns</p>\n",
       "</div>"
      ]
     },
     "metadata": {},
     "execution_count": 15
    }
   ],
   "metadata": {
    "collapsed": false,
    "pycharm": {
     "name": "#%%\n"
    }
   }
  },
  {
   "cell_type": "markdown",
   "source": [
    "**Corrección de los precios a USD**\n",
    "\n",
    "*Se establece una función que convierte cualquier divisa dentro de lo posible a USD, empleando la librería\n",
    "CurrencyConverter.*"
   ],
   "metadata": {
    "collapsed": false
   }
  },
  {
   "cell_type": "code",
   "execution_count": 16,
   "source": [
    "converter = CurrencyConverter()\r\n",
    "\r\n",
    "def currency_to_usd(data):\r\n",
    "    # AdultChain\r\n",
    "    if data == 'XXX':\r\n",
    "        return 0.00014177\r\n",
    "    # Monedas no oficiales\r\n",
    "    elif data not in converter.currencies:\r\n",
    "        return 1\r\n",
    "    # Monedas oficiales\r\n",
    "    else:\r\n",
    "        return converter.convert(1, data, 'USD')"
   ],
   "outputs": [],
   "metadata": {
    "collapsed": false,
    "pycharm": {
     "name": "#%%\n"
    }
   }
  },
  {
   "cell_type": "code",
   "execution_count": 17,
   "source": [
    "convertion_unit_USD = []\r\n",
    "for currency in datos['Currency']:\r\n",
    "    convertion_unit_USD.append(currency_to_usd(currency))\r\n",
    "datos.loc[:, 'Currency'] = pd.Series(convertion_unit_USD)\r\n",
    "datos.loc[:, 'Price USD'] = datos.Price * datos.Currency\r\n",
    "datos = datos.drop(columns = ['Currency', 'Price'])"
   ],
   "outputs": [],
   "metadata": {
    "collapsed": false,
    "pycharm": {
     "name": "#%%\n"
    }
   }
  },
  {
   "cell_type": "markdown",
   "source": [
    "*Verificación de correcta conversión de divisas monetarias a USD.*"
   ],
   "metadata": {
    "collapsed": false
   }
  },
  {
   "cell_type": "code",
   "execution_count": 18,
   "source": [
    "datos['Price USD'].value_counts()"
   ],
   "outputs": [
    {
     "output_type": "execute_result",
     "data": {
      "text/plain": [
       "0.00     1071494\n",
       "0.99       14157\n",
       "1.99        5889\n",
       "1.49        4377\n",
       "2.99        3955\n",
       "          ...   \n",
       "3.17           1\n",
       "12.70          1\n",
       "18.00          1\n",
       "17.84          1\n",
       "3.58           1\n",
       "Name: Price USD, Length: 705, dtype: int64"
      ]
     },
     "metadata": {},
     "execution_count": 18
    }
   ],
   "metadata": {
    "collapsed": false,
    "pycharm": {
     "name": "#%%\n"
    }
   }
  },
  {
   "cell_type": "markdown",
   "source": [
    "**Agrupar todas las categorías de juego en una clase Juego dentro de la columna Category. Creación de nueva columna\n",
    "para guardar las categorías de juego**\n",
    "\n",
    "*Verificar existencia de categorías de juego en columna Category y cambiarlas por “Game”*\n",
    "\n",
    "*Establecer nueva columna “Game category” que guarde las categorías de juego borradas de la columna “Category” y\n",
    "estipule el valor “No Game” en las filas que no corresponden a Category igual a “Game”.*"
   ],
   "metadata": {
    "collapsed": false
   }
  },
  {
   "cell_type": "code",
   "execution_count": 19,
   "source": [
    "game_categories = ['Action', 'Adventure', 'Racing', 'Card', 'Casino', 'Educational', 'Strategy', 'Board', 'Word',\r\n",
    "                   'Role Playing', 'Casual', 'Music', 'Trivia', ' Puzzle', 'Arcade', 'Simulation']\r\n",
    "datos['Game Category'] = datos['Category']\r\n",
    "\r\n",
    "for index, row in datos.iterrows():\r\n",
    "    if row['Game Category'] not in game_categories:\r\n",
    "        datos.at[index, 'Game Category'] = 'No Juego'\r\n",
    "    if row['Category'] in game_categories:\r\n",
    "        datos.at[index, 'Category'] = 'Game'\r\n",
    "datos"
   ],
   "outputs": [
    {
     "output_type": "execute_result",
     "data": {
      "text/plain": [
       "                                                  App Name  \\\n",
       "0                                   HTTrack Website Copier   \n",
       "1                            World War 2: Offline Strategy   \n",
       "2                                                   WPSApp   \n",
       "3        OfficeSuite - Office, PDF, Word, Excel, PowerP...   \n",
       "4                                         Loud Player Free   \n",
       "...                                                    ...   \n",
       "1118131                                        FleetEnable   \n",
       "1118132                                          AutoThink   \n",
       "1118133                                        FieldEnable   \n",
       "1118134                                       Live Concert   \n",
       "1118135                                       Rajput India   \n",
       "\n",
       "                                  App Id       Category  Rating  Rating Count  \\\n",
       "0                    com.httrack.android  Communication     3.6        2848.0   \n",
       "1                        com.skizze.wwii           Game     4.3       17297.0   \n",
       "2                  com.themausoft.wpsapp          Tools     4.2      488639.0   \n",
       "3                 com.mobisystems.office       Business     4.2     1224420.0   \n",
       "4               com.arthelion.loudplayer  Music & Audio     4.2         665.0   \n",
       "...                                  ...            ...     ...           ...   \n",
       "1118131              com.fleetenable.app   Productivity     NaN           NaN   \n",
       "1118132        com.fleetenable.autothink   Productivity     0.0           0.0   \n",
       "1118133  com.fieldenable.app.fieldenable       Business     0.0           0.0   \n",
       "1118134           com.varbin.liveconcert         Events     0.0           0.0   \n",
       "1118135           com.varbin.rajputindia         Social     4.6          81.0   \n",
       "\n",
       "             Installs  Minimum Installs  Maximum Installs  Free  \\\n",
       "0            100,000+          100000.0            351560  True   \n",
       "1          1,000,000+         1000000.0           2161778  True   \n",
       "2         50,000,000+        50000000.0          79304739  True   \n",
       "3        100,000,000+       100000000.0         163660067  True   \n",
       "4             50,000+           50000.0             73463  True   \n",
       "...               ...               ...               ...   ...   \n",
       "1118131           10+              10.0                10  True   \n",
       "1118132          100+             100.0               127  True   \n",
       "1118133          100+             100.0               282  True   \n",
       "1118134          500+             500.0               986  True   \n",
       "1118135       10,000+           10000.0             18892  True   \n",
       "\n",
       "                       Size     Minimum Android   Released Last Updated  \\\n",
       "0                      2.7M          2.3 and up 2013-08-12   2017-05-20   \n",
       "1                       86M          5.1 and up 2018-07-19   2020-11-26   \n",
       "2                      5.8M          4.1 and up 2016-03-07   2020-10-21   \n",
       "3                       59M          4.4 and up 2011-12-22   2020-11-23   \n",
       "4                       29M          5.0 and up 2016-09-24   2020-11-22   \n",
       "...                     ...                 ...        ...          ...   \n",
       "1118131  Varies with device  Varies with device        NaT   2020-06-30   \n",
       "1118132                4.7M          4.1 and up 2019-11-26   2020-11-13   \n",
       "1118133                 28M          5.0 and up 2018-04-30   2020-11-30   \n",
       "1118134                8.1M          4.1 and up 2017-12-20   2017-12-20   \n",
       "1118135                8.8M          4.1 and up 2017-06-15   2018-09-27   \n",
       "\n",
       "        Content Rating  Ad Supported  In App Purchases  Editors Choice  \\\n",
       "0             Everyone         False             False           False   \n",
       "1         Everyone 10+          True              True           False   \n",
       "2             Everyone          True             False           False   \n",
       "3             Everyone          True              True           False   \n",
       "4             Everyone         False             False           False   \n",
       "...                ...           ...               ...             ...   \n",
       "1118131       Everyone         False             False           False   \n",
       "1118132       Everyone         False             False           False   \n",
       "1118133       Everyone         False             False           False   \n",
       "1118134       Everyone         False             False           False   \n",
       "1118135           Teen          True             False           False   \n",
       "\n",
       "         Price USD Game Category  \n",
       "0              0.0      No Juego  \n",
       "1              0.0      Strategy  \n",
       "2              0.0      No Juego  \n",
       "3              0.0      No Juego  \n",
       "4              0.0      No Juego  \n",
       "...            ...           ...  \n",
       "1118131        0.0      No Juego  \n",
       "1118132        0.0      No Juego  \n",
       "1118133        0.0      No Juego  \n",
       "1118134        0.0      No Juego  \n",
       "1118135        0.0      No Juego  \n",
       "\n",
       "[1118136 rows x 19 columns]"
      ],
      "text/html": [
       "<div>\n",
       "<style scoped>\n",
       "    .dataframe tbody tr th:only-of-type {\n",
       "        vertical-align: middle;\n",
       "    }\n",
       "\n",
       "    .dataframe tbody tr th {\n",
       "        vertical-align: top;\n",
       "    }\n",
       "\n",
       "    .dataframe thead th {\n",
       "        text-align: right;\n",
       "    }\n",
       "</style>\n",
       "<table border=\"1\" class=\"dataframe\">\n",
       "  <thead>\n",
       "    <tr style=\"text-align: right;\">\n",
       "      <th></th>\n",
       "      <th>App Name</th>\n",
       "      <th>App Id</th>\n",
       "      <th>Category</th>\n",
       "      <th>Rating</th>\n",
       "      <th>Rating Count</th>\n",
       "      <th>Installs</th>\n",
       "      <th>Minimum Installs</th>\n",
       "      <th>Maximum Installs</th>\n",
       "      <th>Free</th>\n",
       "      <th>Size</th>\n",
       "      <th>Minimum Android</th>\n",
       "      <th>Released</th>\n",
       "      <th>Last Updated</th>\n",
       "      <th>Content Rating</th>\n",
       "      <th>Ad Supported</th>\n",
       "      <th>In App Purchases</th>\n",
       "      <th>Editors Choice</th>\n",
       "      <th>Price USD</th>\n",
       "      <th>Game Category</th>\n",
       "    </tr>\n",
       "  </thead>\n",
       "  <tbody>\n",
       "    <tr>\n",
       "      <th>0</th>\n",
       "      <td>HTTrack Website Copier</td>\n",
       "      <td>com.httrack.android</td>\n",
       "      <td>Communication</td>\n",
       "      <td>3.6</td>\n",
       "      <td>2848.0</td>\n",
       "      <td>100,000+</td>\n",
       "      <td>100000.0</td>\n",
       "      <td>351560</td>\n",
       "      <td>True</td>\n",
       "      <td>2.7M</td>\n",
       "      <td>2.3 and up</td>\n",
       "      <td>2013-08-12</td>\n",
       "      <td>2017-05-20</td>\n",
       "      <td>Everyone</td>\n",
       "      <td>False</td>\n",
       "      <td>False</td>\n",
       "      <td>False</td>\n",
       "      <td>0.0</td>\n",
       "      <td>No Juego</td>\n",
       "    </tr>\n",
       "    <tr>\n",
       "      <th>1</th>\n",
       "      <td>World War 2: Offline Strategy</td>\n",
       "      <td>com.skizze.wwii</td>\n",
       "      <td>Game</td>\n",
       "      <td>4.3</td>\n",
       "      <td>17297.0</td>\n",
       "      <td>1,000,000+</td>\n",
       "      <td>1000000.0</td>\n",
       "      <td>2161778</td>\n",
       "      <td>True</td>\n",
       "      <td>86M</td>\n",
       "      <td>5.1 and up</td>\n",
       "      <td>2018-07-19</td>\n",
       "      <td>2020-11-26</td>\n",
       "      <td>Everyone 10+</td>\n",
       "      <td>True</td>\n",
       "      <td>True</td>\n",
       "      <td>False</td>\n",
       "      <td>0.0</td>\n",
       "      <td>Strategy</td>\n",
       "    </tr>\n",
       "    <tr>\n",
       "      <th>2</th>\n",
       "      <td>WPSApp</td>\n",
       "      <td>com.themausoft.wpsapp</td>\n",
       "      <td>Tools</td>\n",
       "      <td>4.2</td>\n",
       "      <td>488639.0</td>\n",
       "      <td>50,000,000+</td>\n",
       "      <td>50000000.0</td>\n",
       "      <td>79304739</td>\n",
       "      <td>True</td>\n",
       "      <td>5.8M</td>\n",
       "      <td>4.1 and up</td>\n",
       "      <td>2016-03-07</td>\n",
       "      <td>2020-10-21</td>\n",
       "      <td>Everyone</td>\n",
       "      <td>True</td>\n",
       "      <td>False</td>\n",
       "      <td>False</td>\n",
       "      <td>0.0</td>\n",
       "      <td>No Juego</td>\n",
       "    </tr>\n",
       "    <tr>\n",
       "      <th>3</th>\n",
       "      <td>OfficeSuite - Office, PDF, Word, Excel, PowerP...</td>\n",
       "      <td>com.mobisystems.office</td>\n",
       "      <td>Business</td>\n",
       "      <td>4.2</td>\n",
       "      <td>1224420.0</td>\n",
       "      <td>100,000,000+</td>\n",
       "      <td>100000000.0</td>\n",
       "      <td>163660067</td>\n",
       "      <td>True</td>\n",
       "      <td>59M</td>\n",
       "      <td>4.4 and up</td>\n",
       "      <td>2011-12-22</td>\n",
       "      <td>2020-11-23</td>\n",
       "      <td>Everyone</td>\n",
       "      <td>True</td>\n",
       "      <td>True</td>\n",
       "      <td>False</td>\n",
       "      <td>0.0</td>\n",
       "      <td>No Juego</td>\n",
       "    </tr>\n",
       "    <tr>\n",
       "      <th>4</th>\n",
       "      <td>Loud Player Free</td>\n",
       "      <td>com.arthelion.loudplayer</td>\n",
       "      <td>Music &amp; Audio</td>\n",
       "      <td>4.2</td>\n",
       "      <td>665.0</td>\n",
       "      <td>50,000+</td>\n",
       "      <td>50000.0</td>\n",
       "      <td>73463</td>\n",
       "      <td>True</td>\n",
       "      <td>29M</td>\n",
       "      <td>5.0 and up</td>\n",
       "      <td>2016-09-24</td>\n",
       "      <td>2020-11-22</td>\n",
       "      <td>Everyone</td>\n",
       "      <td>False</td>\n",
       "      <td>False</td>\n",
       "      <td>False</td>\n",
       "      <td>0.0</td>\n",
       "      <td>No Juego</td>\n",
       "    </tr>\n",
       "    <tr>\n",
       "      <th>...</th>\n",
       "      <td>...</td>\n",
       "      <td>...</td>\n",
       "      <td>...</td>\n",
       "      <td>...</td>\n",
       "      <td>...</td>\n",
       "      <td>...</td>\n",
       "      <td>...</td>\n",
       "      <td>...</td>\n",
       "      <td>...</td>\n",
       "      <td>...</td>\n",
       "      <td>...</td>\n",
       "      <td>...</td>\n",
       "      <td>...</td>\n",
       "      <td>...</td>\n",
       "      <td>...</td>\n",
       "      <td>...</td>\n",
       "      <td>...</td>\n",
       "      <td>...</td>\n",
       "      <td>...</td>\n",
       "    </tr>\n",
       "    <tr>\n",
       "      <th>1118131</th>\n",
       "      <td>FleetEnable</td>\n",
       "      <td>com.fleetenable.app</td>\n",
       "      <td>Productivity</td>\n",
       "      <td>NaN</td>\n",
       "      <td>NaN</td>\n",
       "      <td>10+</td>\n",
       "      <td>10.0</td>\n",
       "      <td>10</td>\n",
       "      <td>True</td>\n",
       "      <td>Varies with device</td>\n",
       "      <td>Varies with device</td>\n",
       "      <td>NaT</td>\n",
       "      <td>2020-06-30</td>\n",
       "      <td>Everyone</td>\n",
       "      <td>False</td>\n",
       "      <td>False</td>\n",
       "      <td>False</td>\n",
       "      <td>0.0</td>\n",
       "      <td>No Juego</td>\n",
       "    </tr>\n",
       "    <tr>\n",
       "      <th>1118132</th>\n",
       "      <td>AutoThink</td>\n",
       "      <td>com.fleetenable.autothink</td>\n",
       "      <td>Productivity</td>\n",
       "      <td>0.0</td>\n",
       "      <td>0.0</td>\n",
       "      <td>100+</td>\n",
       "      <td>100.0</td>\n",
       "      <td>127</td>\n",
       "      <td>True</td>\n",
       "      <td>4.7M</td>\n",
       "      <td>4.1 and up</td>\n",
       "      <td>2019-11-26</td>\n",
       "      <td>2020-11-13</td>\n",
       "      <td>Everyone</td>\n",
       "      <td>False</td>\n",
       "      <td>False</td>\n",
       "      <td>False</td>\n",
       "      <td>0.0</td>\n",
       "      <td>No Juego</td>\n",
       "    </tr>\n",
       "    <tr>\n",
       "      <th>1118133</th>\n",
       "      <td>FieldEnable</td>\n",
       "      <td>com.fieldenable.app.fieldenable</td>\n",
       "      <td>Business</td>\n",
       "      <td>0.0</td>\n",
       "      <td>0.0</td>\n",
       "      <td>100+</td>\n",
       "      <td>100.0</td>\n",
       "      <td>282</td>\n",
       "      <td>True</td>\n",
       "      <td>28M</td>\n",
       "      <td>5.0 and up</td>\n",
       "      <td>2018-04-30</td>\n",
       "      <td>2020-11-30</td>\n",
       "      <td>Everyone</td>\n",
       "      <td>False</td>\n",
       "      <td>False</td>\n",
       "      <td>False</td>\n",
       "      <td>0.0</td>\n",
       "      <td>No Juego</td>\n",
       "    </tr>\n",
       "    <tr>\n",
       "      <th>1118134</th>\n",
       "      <td>Live Concert</td>\n",
       "      <td>com.varbin.liveconcert</td>\n",
       "      <td>Events</td>\n",
       "      <td>0.0</td>\n",
       "      <td>0.0</td>\n",
       "      <td>500+</td>\n",
       "      <td>500.0</td>\n",
       "      <td>986</td>\n",
       "      <td>True</td>\n",
       "      <td>8.1M</td>\n",
       "      <td>4.1 and up</td>\n",
       "      <td>2017-12-20</td>\n",
       "      <td>2017-12-20</td>\n",
       "      <td>Everyone</td>\n",
       "      <td>False</td>\n",
       "      <td>False</td>\n",
       "      <td>False</td>\n",
       "      <td>0.0</td>\n",
       "      <td>No Juego</td>\n",
       "    </tr>\n",
       "    <tr>\n",
       "      <th>1118135</th>\n",
       "      <td>Rajput India</td>\n",
       "      <td>com.varbin.rajputindia</td>\n",
       "      <td>Social</td>\n",
       "      <td>4.6</td>\n",
       "      <td>81.0</td>\n",
       "      <td>10,000+</td>\n",
       "      <td>10000.0</td>\n",
       "      <td>18892</td>\n",
       "      <td>True</td>\n",
       "      <td>8.8M</td>\n",
       "      <td>4.1 and up</td>\n",
       "      <td>2017-06-15</td>\n",
       "      <td>2018-09-27</td>\n",
       "      <td>Teen</td>\n",
       "      <td>True</td>\n",
       "      <td>False</td>\n",
       "      <td>False</td>\n",
       "      <td>0.0</td>\n",
       "      <td>No Juego</td>\n",
       "    </tr>\n",
       "  </tbody>\n",
       "</table>\n",
       "<p>1118136 rows × 19 columns</p>\n",
       "</div>"
      ]
     },
     "metadata": {},
     "execution_count": 19
    }
   ],
   "metadata": {
    "collapsed": false,
    "pycharm": {
     "name": "#%%\n"
    }
   }
  },
  {
   "cell_type": "code",
   "execution_count": 20,
   "source": [
    "datos['Game Category'].value_counts()"
   ],
   "outputs": [
    {
     "output_type": "execute_result",
     "data": {
      "text/plain": [
       "No Juego        989485\n",
       "Casual           20509\n",
       "Arcade           17715\n",
       "Simulation       15372\n",
       "Action           12628\n",
       "Educational      11351\n",
       "Adventure        10124\n",
       "Racing            6004\n",
       "Role Playing      5632\n",
       "Trivia            5470\n",
       "Board             5261\n",
       "Word              4677\n",
       "Card              4674\n",
       "Strategy          4071\n",
       "Casino            2648\n",
       "Music             2515\n",
       "Name: Game Category, dtype: int64"
      ]
     },
     "metadata": {},
     "execution_count": 20
    }
   ],
   "metadata": {
    "collapsed": false,
    "pycharm": {
     "name": "#%%\n"
    }
   }
  },
  {
   "cell_type": "code",
   "execution_count": 21,
   "source": [
    "datos['Category'].value_counts()"
   ],
   "outputs": [
    {
     "output_type": "execute_result",
     "data": {
      "text/plain": [
       "Game                       128651\n",
       "Education                  115242\n",
       "Music & Audio              104541\n",
       "Entertainment               82079\n",
       "Books & Reference           78969\n",
       "Personalization             73538\n",
       "Tools                       68953\n",
       "Lifestyle                   54586\n",
       "Business                    42210\n",
       "Health & Fitness            31532\n",
       "Productivity                30450\n",
       "Photography                 28942\n",
       "Travel & Local              25971\n",
       "Puzzle                      24954\n",
       "Finance                     24846\n",
       "Food & Drink                24250\n",
       "Sports                      22094\n",
       "News & Magazines            21553\n",
       "Shopping                    20440\n",
       "Communication               18391\n",
       "Social                      16987\n",
       "Medical                     12554\n",
       "Art & Design                12322\n",
       "Maps & Navigation           10468\n",
       "Video Players & Editors      9095\n",
       "Auto & Vehicles              6872\n",
       "Beauty                       6236\n",
       "House & Home                 5475\n",
       "Events                       3788\n",
       "Weather                      2958\n",
       "Dating                       2883\n",
       "Libraries & Demo             2382\n",
       "Comics                       2137\n",
       "Parenting                    1784\n",
       "Name: Category, dtype: int64"
      ]
     },
     "metadata": {},
     "execution_count": 21
    }
   ],
   "metadata": {
    "collapsed": false,
    "pycharm": {
     "name": "#%%\n"
    }
   }
  },
  {
   "cell_type": "markdown",
   "source": [
    "**Corregir columna Minimum Installs**\n",
    "\n",
    "*Se corrige valores nulos por cero y adicional a ello, se convierte todos los valores a entero en vez de flotante.*"
   ],
   "metadata": {
    "collapsed": false
   }
  },
  {
   "cell_type": "code",
   "execution_count": 22,
   "source": [
    "def fix_minimum_installs(value):\r\n",
    "    if pd.isna(value):\r\n",
    "        return 0\r\n",
    "    else:\r\n",
    "        return int(value)"
   ],
   "outputs": [],
   "metadata": {
    "collapsed": false,
    "pycharm": {
     "name": "#%%\n"
    }
   }
  },
  {
   "cell_type": "code",
   "execution_count": 23,
   "source": [
    "datos['Minimum Installs'] = datos['Minimum Installs'].apply(fix_minimum_installs)\r\n",
    "datos['Minimum Installs'].value_counts()"
   ],
   "outputs": [
    {
     "output_type": "execute_result",
     "data": {
      "text/plain": [
       "1000           198309\n",
       "100            177415\n",
       "10000          157976\n",
       "10             103845\n",
       "500             83289\n",
       "100000          80344\n",
       "5000            80221\n",
       "50              61717\n",
       "50000           51541\n",
       "1               28981\n",
       "1000000         27071\n",
       "5               25668\n",
       "500000          20730\n",
       "0                9125\n",
       "5000000          5501\n",
       "10000000         5170\n",
       "50000000          695\n",
       "100000000         424\n",
       "500000000          54\n",
       "1000000000         47\n",
       "5000000000         12\n",
       "10000000000         1\n",
       "Name: Minimum Installs, dtype: int64"
      ]
     },
     "metadata": {},
     "execution_count": 23
    }
   ],
   "metadata": {
    "collapsed": false,
    "pycharm": {
     "name": "#%%\n"
    }
   }
  },
  {
   "cell_type": "code",
   "execution_count": 24,
   "source": [
    "# datos[datos.duplicated()]"
   ],
   "outputs": [],
   "metadata": {
    "collapsed": false,
    "pycharm": {
     "name": "#%%\n"
    }
   }
  },
  {
   "cell_type": "markdown",
   "source": [
    "**Drop de valores nulos no estimables**"
   ],
   "metadata": {
    "collapsed": false
   }
  },
  {
   "cell_type": "code",
   "execution_count": 25,
   "source": [
    "datos = datos[datos['Rating'].notna()]\r\n",
    "datos = datos[datos['Released'].notna()]\r\n",
    "datos = datos[datos['App Name'].notna()]\r\n",
    "datos = datos[datos['Category'].notna()]\r\n",
    "datos = datos[datos['Minimum Android'].notna()]\r\n",
    "datos.info()"
   ],
   "outputs": [
    {
     "output_type": "stream",
     "name": "stdout",
     "text": [
      "<class 'pandas.core.frame.DataFrame'>\n",
      "Int64Index: 1108326 entries, 0 to 1118135\n",
      "Data columns (total 19 columns):\n",
      " #   Column            Non-Null Count    Dtype         \n",
      "---  ------            --------------    -----         \n",
      " 0   App Name          1108326 non-null  object        \n",
      " 1   App Id            1108326 non-null  object        \n",
      " 2   Category          1108326 non-null  object        \n",
      " 3   Rating            1108326 non-null  float64       \n",
      " 4   Rating Count      1108326 non-null  float64       \n",
      " 5   Installs          1108326 non-null  object        \n",
      " 6   Minimum Installs  1108326 non-null  int64         \n",
      " 7   Maximum Installs  1108326 non-null  int64         \n",
      " 8   Free              1108326 non-null  bool          \n",
      " 9   Size              1108326 non-null  object        \n",
      " 10  Minimum Android   1108326 non-null  object        \n",
      " 11  Released          1108326 non-null  datetime64[ns]\n",
      " 12  Last Updated      1108326 non-null  datetime64[ns]\n",
      " 13  Content Rating    1108326 non-null  object        \n",
      " 14  Ad Supported      1108326 non-null  bool          \n",
      " 15  In App Purchases  1108326 non-null  bool          \n",
      " 16  Editors Choice    1108326 non-null  bool          \n",
      " 17  Price USD         1108326 non-null  float64       \n",
      " 18  Game Category     1108326 non-null  object        \n",
      "dtypes: bool(4), datetime64[ns](2), float64(3), int64(2), object(8)\n",
      "memory usage: 139.5+ MB\n"
     ]
    }
   ],
   "metadata": {
    "collapsed": false,
    "pycharm": {
     "name": "#%%\n"
    }
   }
  },
  {
   "cell_type": "markdown",
   "source": [
    "**Corregir valores de columna Minimum Android**\n",
    "\n",
    "*Se establece como mínimo absoluto moderno la versión 4.0 de Android. Así las aplicaciones que no poseen una versión\n",
    "mínima se les atribuye esta versión como tal.*\n",
    "\n",
    "*También se establece la versión 4.0 como la mínima para aquellos valores nulos.*\n",
    "\n",
    "*Para el caso de valores que tengan la forma “X.X. …” Se corta el string en la primera version nombrada y esta es\n",
    "transformada a float.*"
   ],
   "metadata": {
    "collapsed": false
   }
  },
  {
   "cell_type": "code",
   "execution_count": 26,
   "source": [
    "datos['Minimum Android'].value_counts()"
   ],
   "outputs": [
    {
     "output_type": "execute_result",
     "data": {
      "text/plain": [
       "4.1 and up      344073\n",
       "4.4 and up      165508\n",
       "5.0 and up      137942\n",
       "4.0.3 and up    117892\n",
       "4.0 and up       89262\n",
       "                 ...  \n",
       "5.0 - 8.0            1\n",
       "3.0 - 3.2            1\n",
       "2.2                  1\n",
       "4.1 - 4.4W           1\n",
       "3.2 - 4.4W           1\n",
       "Name: Minimum Android, Length: 137, dtype: int64"
      ]
     },
     "metadata": {},
     "execution_count": 26
    }
   ],
   "metadata": {
    "collapsed": false,
    "pycharm": {
     "name": "#%%\n"
    }
   }
  },
  {
   "cell_type": "code",
   "execution_count": 27,
   "source": [
    "def fix_minimum_android(data):\r\n",
    "    parte = data.split()\r\n",
    "    if data == 'Varies with device':\r\n",
    "        return 4.0\r\n",
    "    else:\r\n",
    "        return float(parte[0][:3])"
   ],
   "outputs": [],
   "metadata": {
    "collapsed": false,
    "pycharm": {
     "name": "#%%\n"
    }
   }
  },
  {
   "cell_type": "code",
   "execution_count": 28,
   "source": [
    "datos['Minimum Android'] = datos['Minimum Android'].apply(fix_minimum_android)\r\n",
    "datos['Minimum Android'].value_counts()"
   ],
   "outputs": [
    {
     "output_type": "execute_result",
     "data": {
      "text/plain": [
       "4.1    344115\n",
       "4.0    222279\n",
       "4.4    170717\n",
       "5.0    137948\n",
       "4.2     60337\n",
       "2.3     54812\n",
       "6.0     23560\n",
       "4.3     20819\n",
       "5.1     15237\n",
       "2.2     14857\n",
       "3.0     10255\n",
       "7.0      9093\n",
       "2.1      8415\n",
       "1.6      5394\n",
       "8.0      3429\n",
       "2.0      2117\n",
       "3.2      1589\n",
       "1.5      1423\n",
       "3.1       910\n",
       "7.1       667\n",
       "1.0       215\n",
       "1.1       138\n",
       "Name: Minimum Android, dtype: int64"
      ]
     },
     "metadata": {},
     "execution_count": 28
    }
   ],
   "metadata": {
    "collapsed": false,
    "pycharm": {
     "name": "#%%\n"
    }
   }
  },
  {
   "cell_type": "code",
   "execution_count": 29,
   "source": [
    "def fix_size(data):\r\n",
    "    data = data.replace(',', '')\r\n",
    "    number = data[:-1]\r\n",
    "    if data[-1] in 'Kk':\r\n",
    "        return float(number)\r\n",
    "    elif data[-1] in 'Mm':\r\n",
    "        return float(number) * 1000\r\n",
    "    elif data[-1] in 'Gg':\r\n",
    "        return float(number) * 1000000\r\n",
    "    else:\r\n",
    "        return 1000"
   ],
   "outputs": [],
   "metadata": {
    "collapsed": false,
    "pycharm": {
     "name": "#%%\n"
    }
   }
  },
  {
   "cell_type": "code",
   "execution_count": 30,
   "source": [
    "datos['Size'] = datos['Size'].apply(fix_size)\r\n",
    "datos['Size'].value_counts()"
   ],
   "outputs": [
    {
     "output_type": "execute_result",
     "data": {
      "text/plain": [
       "1000.0       31499\n",
       "11000.0      29333\n",
       "12000.0      26418\n",
       "13000.0      22864\n",
       "14000.0      21651\n",
       "             ...  \n",
       "275000.0         1\n",
       "248000.0         1\n",
       "1000000.0        1\n",
       "572000.0         1\n",
       "262000.0         1\n",
       "Name: Size, Length: 1477, dtype: int64"
      ]
     },
     "metadata": {},
     "execution_count": 30
    }
   ],
   "metadata": {
    "collapsed": false,
    "pycharm": {
     "name": "#%%\n"
    }
   }
  },
  {
   "cell_type": "code",
   "execution_count": 31,
   "source": [
    "datos.info()"
   ],
   "outputs": [
    {
     "output_type": "stream",
     "name": "stdout",
     "text": [
      "<class 'pandas.core.frame.DataFrame'>\n",
      "Int64Index: 1108326 entries, 0 to 1118135\n",
      "Data columns (total 19 columns):\n",
      " #   Column            Non-Null Count    Dtype         \n",
      "---  ------            --------------    -----         \n",
      " 0   App Name          1108326 non-null  object        \n",
      " 1   App Id            1108326 non-null  object        \n",
      " 2   Category          1108326 non-null  object        \n",
      " 3   Rating            1108326 non-null  float64       \n",
      " 4   Rating Count      1108326 non-null  float64       \n",
      " 5   Installs          1108326 non-null  object        \n",
      " 6   Minimum Installs  1108326 non-null  int64         \n",
      " 7   Maximum Installs  1108326 non-null  int64         \n",
      " 8   Free              1108326 non-null  bool          \n",
      " 9   Size              1108326 non-null  float64       \n",
      " 10  Minimum Android   1108326 non-null  float64       \n",
      " 11  Released          1108326 non-null  datetime64[ns]\n",
      " 12  Last Updated      1108326 non-null  datetime64[ns]\n",
      " 13  Content Rating    1108326 non-null  object        \n",
      " 14  Ad Supported      1108326 non-null  bool          \n",
      " 15  In App Purchases  1108326 non-null  bool          \n",
      " 16  Editors Choice    1108326 non-null  bool          \n",
      " 17  Price USD         1108326 non-null  float64       \n",
      " 18  Game Category     1108326 non-null  object        \n",
      "dtypes: bool(4), datetime64[ns](2), float64(5), int64(2), object(6)\n",
      "memory usage: 139.5+ MB\n"
     ]
    }
   ],
   "metadata": {
    "collapsed": false,
    "pycharm": {
     "name": "#%%\n"
    }
   }
  },
  {
   "cell_type": "markdown",
   "source": [
    "# EXAMEN EXPLORATORIO UNIVARIABLE"
   ],
   "metadata": {
    "collapsed": false
   }
  },
  {
   "cell_type": "markdown",
   "source": [
    "## RATING"
   ],
   "metadata": {
    "collapsed": false
   }
  },
  {
   "cell_type": "code",
   "execution_count": 32,
   "source": [
    "datos = datos[datos['Rating'] > 0]\r\n",
    "datos.info()"
   ],
   "outputs": [
    {
     "output_type": "stream",
     "name": "stdout",
     "text": [
      "<class 'pandas.core.frame.DataFrame'>\n",
      "Int64Index: 676334 entries, 0 to 1118135\n",
      "Data columns (total 19 columns):\n",
      " #   Column            Non-Null Count   Dtype         \n",
      "---  ------            --------------   -----         \n",
      " 0   App Name          676334 non-null  object        \n",
      " 1   App Id            676334 non-null  object        \n",
      " 2   Category          676334 non-null  object        \n",
      " 3   Rating            676334 non-null  float64       \n",
      " 4   Rating Count      676334 non-null  float64       \n",
      " 5   Installs          676334 non-null  object        \n",
      " 6   Minimum Installs  676334 non-null  int64         \n",
      " 7   Maximum Installs  676334 non-null  int64         \n",
      " 8   Free              676334 non-null  bool          \n",
      " 9   Size              676334 non-null  float64       \n",
      " 10  Minimum Android   676334 non-null  float64       \n",
      " 11  Released          676334 non-null  datetime64[ns]\n",
      " 12  Last Updated      676334 non-null  datetime64[ns]\n",
      " 13  Content Rating    676334 non-null  object        \n",
      " 14  Ad Supported      676334 non-null  bool          \n",
      " 15  In App Purchases  676334 non-null  bool          \n",
      " 16  Editors Choice    676334 non-null  bool          \n",
      " 17  Price USD         676334 non-null  float64       \n",
      " 18  Game Category     676334 non-null  object        \n",
      "dtypes: bool(4), datetime64[ns](2), float64(5), int64(2), object(6)\n",
      "memory usage: 85.1+ MB\n"
     ]
    }
   ],
   "metadata": {
    "collapsed": false,
    "pycharm": {
     "name": "#%%\n"
    }
   }
  },
  {
   "cell_type": "markdown",
   "source": [
    "Al realizar el filtrado para aplicaciones cuyo rating sea mayor que cero, se obtienen **676.334** aplicaciones. A partir de esto es posible graficar la distribución mediante un histograma:"
   ],
   "metadata": {
    "collapsed": false
   }
  },
  {
   "cell_type": "code",
   "execution_count": 33,
   "source": [
    "rating_hist = go.Figure()\r\n",
    "\r\n",
    "rating_hist.add_trace(go.Histogram(\r\n",
    "    x = datos['Rating'],\r\n",
    "    marker = dict(color = '#00621A')\r\n",
    "))\r\n",
    "rating_hist.update_layout(\r\n",
    "    margin = dict(r = 50, t = 80, b = 60),\r\n",
    "    plot_bgcolor = '#E3E3D6',\r\n",
    "    title = dict(\r\n",
    "        font = dict(size = 26, color = '#00621A'),\r\n",
    "        text = 'Histograma Rating Aplicaciones',\r\n",
    "        x = 0.5,\r\n",
    "    ),\r\n",
    "    xaxis_title_text = 'Rating',\r\n",
    "    yaxis_title_text = 'Frecuencia',\r\n",
    "    width = 800\r\n",
    ")\r\n",
    "rating_hist.show(renderer = 'svg')"
   ],
   "outputs": [
    {
     "output_type": "display_data",
     "data": {
      "image/svg+xml": "<svg class=\"main-svg\" xmlns=\"http://www.w3.org/2000/svg\" xmlns:xlink=\"http://www.w3.org/1999/xlink\" width=\"800\" height=\"500\" style=\"\" viewBox=\"0 0 800 500\"><rect x=\"0\" y=\"0\" width=\"800\" height=\"500\" style=\"fill: rgb(255, 255, 255); fill-opacity: 1;\"/><defs id=\"defs-d4776e\"><g class=\"clips\"><clipPath id=\"clipd4776exyplot\" class=\"plotclip\"><rect width=\"670\" height=\"360\"/></clipPath><clipPath class=\"axesclip\" id=\"clipd4776ex\"><rect x=\"80\" y=\"0\" width=\"670\" height=\"500\"/></clipPath><clipPath class=\"axesclip\" id=\"clipd4776ey\"><rect x=\"0\" y=\"80\" width=\"800\" height=\"360\"/></clipPath><clipPath class=\"axesclip\" id=\"clipd4776exy\"><rect x=\"80\" y=\"80\" width=\"670\" height=\"360\"/></clipPath></g><g class=\"gradients\"/><g class=\"patterns\"/></defs><g class=\"bglayer\"><rect class=\"bg\" x=\"80\" y=\"80\" width=\"670\" height=\"360\" style=\"fill: rgb(227, 227, 214); fill-opacity: 1; stroke-width: 0;\"/></g><g class=\"layer-below\"><g class=\"imagelayer\"/><g class=\"shapelayer\"/></g><g class=\"cartesianlayer\"><g class=\"subplot xy\"><g class=\"layer-subplot\"><g class=\"shapelayer\"/><g class=\"imagelayer\"/></g><g class=\"gridlayer\"><g class=\"x\"/><g class=\"y\"><path class=\"ygrid crisp\" transform=\"translate(0,375.36)\" d=\"M80,0h670\" style=\"stroke: rgb(255, 255, 255); stroke-opacity: 1; stroke-width: 1px;\"/><path class=\"ygrid crisp\" transform=\"translate(0,310.73)\" d=\"M80,0h670\" style=\"stroke: rgb(255, 255, 255); stroke-opacity: 1; stroke-width: 1px;\"/><path class=\"ygrid crisp\" transform=\"translate(0,246.09)\" d=\"M80,0h670\" style=\"stroke: rgb(255, 255, 255); stroke-opacity: 1; stroke-width: 1px;\"/><path class=\"ygrid crisp\" transform=\"translate(0,181.45999999999998)\" d=\"M80,0h670\" style=\"stroke: rgb(255, 255, 255); stroke-opacity: 1; stroke-width: 1px;\"/><path class=\"ygrid crisp\" transform=\"translate(0,116.82)\" d=\"M80,0h670\" style=\"stroke: rgb(255, 255, 255); stroke-opacity: 1; stroke-width: 1px;\"/></g></g><g class=\"zerolinelayer\"><path class=\"yzl zl crisp\" transform=\"translate(0,440)\" d=\"M80,0h670\" style=\"stroke: rgb(255, 255, 255); stroke-opacity: 1; stroke-width: 2px;\"/></g><path class=\"xlines-below\"/><path class=\"ylines-below\"/><g class=\"overlines-below\"/><g class=\"xaxislayer-below\"/><g class=\"yaxislayer-below\"/><g class=\"overaxes-below\"/><g class=\"plot\" transform=\"translate(80,80)\" clip-path=\"url(#clipd4776exyplot)\"><g class=\"barlayer mlayer\"><g class=\"trace bars\" shape-rendering=\"crispEdges\" style=\"opacity: 1;\"><g class=\"points\"><g class=\"point\"><path d=\"M0,360V357.71H16.34V360Z\" style=\"vector-effect: non-scaling-stroke; opacity: 1; stroke-width: 0px; fill: rgb(0, 98, 26); fill-opacity: 1;\"/></g><g class=\"point\"><path d=\"M16.34,360V359.42H32.68V360Z\" style=\"vector-effect: non-scaling-stroke; opacity: 1; stroke-width: 0px; fill: rgb(0, 98, 26); fill-opacity: 1;\"/></g><g class=\"point\"><path d=\"M32.68,360V358.53H49.02V360Z\" style=\"vector-effect: non-scaling-stroke; opacity: 1; stroke-width: 0px; fill: rgb(0, 98, 26); fill-opacity: 1;\"/></g><g class=\"point\"><path d=\"M49.02,360V358.25H65.37V360Z\" style=\"vector-effect: non-scaling-stroke; opacity: 1; stroke-width: 0px; fill: rgb(0, 98, 26); fill-opacity: 1;\"/></g><g class=\"point\"><path d=\"M65.37,360V356.98H81.71V360Z\" style=\"vector-effect: non-scaling-stroke; opacity: 1; stroke-width: 0px; fill: rgb(0, 98, 26); fill-opacity: 1;\"/></g><g class=\"point\"><path d=\"M81.71,360V356.5H98.05V360Z\" style=\"vector-effect: non-scaling-stroke; opacity: 1; stroke-width: 0px; fill: rgb(0, 98, 26); fill-opacity: 1;\"/></g><g class=\"point\"><path d=\"M98.05,360V355.02H114.39V360Z\" style=\"vector-effect: non-scaling-stroke; opacity: 1; stroke-width: 0px; fill: rgb(0, 98, 26); fill-opacity: 1;\"/></g><g class=\"point\"><path d=\"M114.39,360V354.32H130.73V360Z\" style=\"vector-effect: non-scaling-stroke; opacity: 1; stroke-width: 0px; fill: rgb(0, 98, 26); fill-opacity: 1;\"/></g><g class=\"point\"><path d=\"M130.73,360V350.44H147.07V360Z\" style=\"vector-effect: non-scaling-stroke; opacity: 1; stroke-width: 0px; fill: rgb(0, 98, 26); fill-opacity: 1;\"/></g><g class=\"point\"><path d=\"M147.07,360V352.13H163.41V360Z\" style=\"vector-effect: non-scaling-stroke; opacity: 1; stroke-width: 0px; fill: rgb(0, 98, 26); fill-opacity: 1;\"/></g><g class=\"point\"><path d=\"M163.41,360V348.15H179.76V360Z\" style=\"vector-effect: non-scaling-stroke; opacity: 1; stroke-width: 0px; fill: rgb(0, 98, 26); fill-opacity: 1;\"/></g><g class=\"point\"><path d=\"M179.76,360V348.08H196.1V360Z\" style=\"vector-effect: non-scaling-stroke; opacity: 1; stroke-width: 0px; fill: rgb(0, 98, 26); fill-opacity: 1;\"/></g><g class=\"point\"><path d=\"M196.1,360V343.98H212.44V360Z\" style=\"vector-effect: non-scaling-stroke; opacity: 1; stroke-width: 0px; fill: rgb(0, 98, 26); fill-opacity: 1;\"/></g><g class=\"point\"><path d=\"M212.44,360V342.71H228.78V360Z\" style=\"vector-effect: non-scaling-stroke; opacity: 1; stroke-width: 0px; fill: rgb(0, 98, 26); fill-opacity: 1;\"/></g><g class=\"point\"><path d=\"M228.78,360V341.16H245.12V360Z\" style=\"vector-effect: non-scaling-stroke; opacity: 1; stroke-width: 0px; fill: rgb(0, 98, 26); fill-opacity: 1;\"/></g><g class=\"point\"><path d=\"M245.12,360V338.37H261.46V360Z\" style=\"vector-effect: non-scaling-stroke; opacity: 1; stroke-width: 0px; fill: rgb(0, 98, 26); fill-opacity: 1;\"/></g><g class=\"point\"><path d=\"M261.46,360V330.53H277.8V360Z\" style=\"vector-effect: non-scaling-stroke; opacity: 1; stroke-width: 0px; fill: rgb(0, 98, 26); fill-opacity: 1;\"/></g><g class=\"point\"><path d=\"M277.8,360V330H294.15V360Z\" style=\"vector-effect: non-scaling-stroke; opacity: 1; stroke-width: 0px; fill: rgb(0, 98, 26); fill-opacity: 1;\"/></g><g class=\"point\"><path d=\"M294.15,360V319.82H310.49V360Z\" style=\"vector-effect: non-scaling-stroke; opacity: 1; stroke-width: 0px; fill: rgb(0, 98, 26); fill-opacity: 1;\"/></g><g class=\"point\"><path d=\"M310.49,360V321.3H326.83V360Z\" style=\"vector-effect: non-scaling-stroke; opacity: 1; stroke-width: 0px; fill: rgb(0, 98, 26); fill-opacity: 1;\"/></g><g class=\"point\"><path d=\"M326.83,360V302.21H343.17V360Z\" style=\"vector-effect: non-scaling-stroke; opacity: 1; stroke-width: 0px; fill: rgb(0, 98, 26); fill-opacity: 1;\"/></g><g class=\"point\"><path d=\"M343.17,360V306.3H359.51V360Z\" style=\"vector-effect: non-scaling-stroke; opacity: 1; stroke-width: 0px; fill: rgb(0, 98, 26); fill-opacity: 1;\"/></g><g class=\"point\"><path d=\"M359.51,360V284.65H375.85V360Z\" style=\"vector-effect: non-scaling-stroke; opacity: 1; stroke-width: 0px; fill: rgb(0, 98, 26); fill-opacity: 1;\"/></g><g class=\"point\"><path d=\"M375.85,360V281.14H392.2V360Z\" style=\"vector-effect: non-scaling-stroke; opacity: 1; stroke-width: 0px; fill: rgb(0, 98, 26); fill-opacity: 1;\"/></g><g class=\"point\"><path d=\"M392.2,360V258.59H408.54V360Z\" style=\"vector-effect: non-scaling-stroke; opacity: 1; stroke-width: 0px; fill: rgb(0, 98, 26); fill-opacity: 1;\"/></g><g class=\"point\"><path d=\"M408.54,360V246.25H424.88V360Z\" style=\"vector-effect: non-scaling-stroke; opacity: 1; stroke-width: 0px; fill: rgb(0, 98, 26); fill-opacity: 1;\"/></g><g class=\"point\"><path d=\"M424.88,360V228.65H441.22V360Z\" style=\"vector-effect: non-scaling-stroke; opacity: 1; stroke-width: 0px; fill: rgb(0, 98, 26); fill-opacity: 1;\"/></g><g class=\"point\"><path d=\"M441.22,360V199.27H457.56V360Z\" style=\"vector-effect: non-scaling-stroke; opacity: 1; stroke-width: 0px; fill: rgb(0, 98, 26); fill-opacity: 1;\"/></g><g class=\"point\"><path d=\"M457.56,360V154.61H473.9V360Z\" style=\"vector-effect: non-scaling-stroke; opacity: 1; stroke-width: 0px; fill: rgb(0, 98, 26); fill-opacity: 1;\"/></g><g class=\"point\"><path d=\"M473.9,360V145.38H490.24V360Z\" style=\"vector-effect: non-scaling-stroke; opacity: 1; stroke-width: 0px; fill: rgb(0, 98, 26); fill-opacity: 1;\"/></g><g class=\"point\"><path d=\"M490.24,360V98.48H506.59V360Z\" style=\"vector-effect: non-scaling-stroke; opacity: 1; stroke-width: 0px; fill: rgb(0, 98, 26); fill-opacity: 1;\"/></g><g class=\"point\"><path d=\"M506.59,360V84.5H522.93V360Z\" style=\"vector-effect: non-scaling-stroke; opacity: 1; stroke-width: 0px; fill: rgb(0, 98, 26); fill-opacity: 1;\"/></g><g class=\"point\"><path d=\"M522.93,360V18H539.27V360Z\" style=\"vector-effect: non-scaling-stroke; opacity: 1; stroke-width: 0px; fill: rgb(0, 98, 26); fill-opacity: 1;\"/></g><g class=\"point\"><path d=\"M539.27,360V31.7H555.61V360Z\" style=\"vector-effect: non-scaling-stroke; opacity: 1; stroke-width: 0px; fill: rgb(0, 98, 26); fill-opacity: 1;\"/></g><g class=\"point\"><path d=\"M555.61,360V19.4H571.95V360Z\" style=\"vector-effect: non-scaling-stroke; opacity: 1; stroke-width: 0px; fill: rgb(0, 98, 26); fill-opacity: 1;\"/></g><g class=\"point\"><path d=\"M571.95,360V56.03H588.29V360Z\" style=\"vector-effect: non-scaling-stroke; opacity: 1; stroke-width: 0px; fill: rgb(0, 98, 26); fill-opacity: 1;\"/></g><g class=\"point\"><path d=\"M588.29,360V62.89H604.63V360Z\" style=\"vector-effect: non-scaling-stroke; opacity: 1; stroke-width: 0px; fill: rgb(0, 98, 26); fill-opacity: 1;\"/></g><g class=\"point\"><path d=\"M604.63,360V132.83H620.98V360Z\" style=\"vector-effect: non-scaling-stroke; opacity: 1; stroke-width: 0px; fill: rgb(0, 98, 26); fill-opacity: 1;\"/></g><g class=\"point\"><path d=\"M620.98,360V166.74H637.32V360Z\" style=\"vector-effect: non-scaling-stroke; opacity: 1; stroke-width: 0px; fill: rgb(0, 98, 26); fill-opacity: 1;\"/></g><g class=\"point\"><path d=\"M637.32,360V243.49H653.66V360Z\" style=\"vector-effect: non-scaling-stroke; opacity: 1; stroke-width: 0px; fill: rgb(0, 98, 26); fill-opacity: 1;\"/></g><g class=\"point\"><path d=\"M653.66,360V143.97H670V360Z\" style=\"vector-effect: non-scaling-stroke; opacity: 1; stroke-width: 0px; fill: rgb(0, 98, 26); fill-opacity: 1;\"/></g></g></g></g></g><g class=\"overplot\"/><path class=\"xlines-above crisp\" d=\"M0,0\" style=\"fill: none;\"/><path class=\"ylines-above crisp\" d=\"M0,0\" style=\"fill: none;\"/><g class=\"overlines-above\"/><g class=\"xaxislayer-above\"><g class=\"xtick\"><text text-anchor=\"middle\" x=\"0\" y=\"453\" transform=\"translate(88.17,0)\" style=\"font-family: 'Open Sans', verdana, arial, sans-serif; font-size: 12px; fill: rgb(42, 63, 95); fill-opacity: 1; white-space: pre; opacity: 1;\">1</text></g><g class=\"xtick\"><text text-anchor=\"middle\" x=\"0\" y=\"453\" style=\"font-family: 'Open Sans', verdana, arial, sans-serif; font-size: 12px; fill: rgb(42, 63, 95); fill-opacity: 1; white-space: pre; opacity: 1;\" transform=\"translate(169.88,0)\">1.5</text></g><g class=\"xtick\"><text text-anchor=\"middle\" x=\"0\" y=\"453\" style=\"font-family: 'Open Sans', verdana, arial, sans-serif; font-size: 12px; fill: rgb(42, 63, 95); fill-opacity: 1; white-space: pre; opacity: 1;\" transform=\"translate(251.59,0)\">2</text></g><g class=\"xtick\"><text text-anchor=\"middle\" x=\"0\" y=\"453\" style=\"font-family: 'Open Sans', verdana, arial, sans-serif; font-size: 12px; fill: rgb(42, 63, 95); fill-opacity: 1; white-space: pre; opacity: 1;\" transform=\"translate(333.28999999999996,0)\">2.5</text></g><g class=\"xtick\"><text text-anchor=\"middle\" x=\"0\" y=\"453\" style=\"font-family: 'Open Sans', verdana, arial, sans-serif; font-size: 12px; fill: rgb(42, 63, 95); fill-opacity: 1; white-space: pre; opacity: 1;\" transform=\"translate(415,0)\">3</text></g><g class=\"xtick\"><text text-anchor=\"middle\" x=\"0\" y=\"453\" style=\"font-family: 'Open Sans', verdana, arial, sans-serif; font-size: 12px; fill: rgb(42, 63, 95); fill-opacity: 1; white-space: pre; opacity: 1;\" transform=\"translate(496.71,0)\">3.5</text></g><g class=\"xtick\"><text text-anchor=\"middle\" x=\"0\" y=\"453\" style=\"font-family: 'Open Sans', verdana, arial, sans-serif; font-size: 12px; fill: rgb(42, 63, 95); fill-opacity: 1; white-space: pre; opacity: 1;\" transform=\"translate(578.4100000000001,0)\">4</text></g><g class=\"xtick\"><text text-anchor=\"middle\" x=\"0\" y=\"453\" style=\"font-family: 'Open Sans', verdana, arial, sans-serif; font-size: 12px; fill: rgb(42, 63, 95); fill-opacity: 1; white-space: pre; opacity: 1;\" transform=\"translate(660.12,0)\">4.5</text></g><g class=\"xtick\"><text text-anchor=\"middle\" x=\"0\" y=\"453\" style=\"font-family: 'Open Sans', verdana, arial, sans-serif; font-size: 12px; fill: rgb(42, 63, 95); fill-opacity: 1; white-space: pre; opacity: 1;\" transform=\"translate(741.83,0)\">5</text></g></g><g class=\"yaxislayer-above\"><g class=\"ytick\"><text text-anchor=\"end\" x=\"79\" y=\"4.199999999999999\" transform=\"translate(0,440)\" style=\"font-family: 'Open Sans', verdana, arial, sans-serif; font-size: 12px; fill: rgb(42, 63, 95); fill-opacity: 1; white-space: pre; opacity: 1;\">0</text></g><g class=\"ytick\"><text text-anchor=\"end\" x=\"79\" y=\"4.199999999999999\" style=\"font-family: 'Open Sans', verdana, arial, sans-serif; font-size: 12px; fill: rgb(42, 63, 95); fill-opacity: 1; white-space: pre; opacity: 1;\" transform=\"translate(0,375.36)\">10k</text></g><g class=\"ytick\"><text text-anchor=\"end\" x=\"79\" y=\"4.199999999999999\" style=\"font-family: 'Open Sans', verdana, arial, sans-serif; font-size: 12px; fill: rgb(42, 63, 95); fill-opacity: 1; white-space: pre; opacity: 1;\" transform=\"translate(0,310.73)\">20k</text></g><g class=\"ytick\"><text text-anchor=\"end\" x=\"79\" y=\"4.199999999999999\" style=\"font-family: 'Open Sans', verdana, arial, sans-serif; font-size: 12px; fill: rgb(42, 63, 95); fill-opacity: 1; white-space: pre; opacity: 1;\" transform=\"translate(0,246.09)\">30k</text></g><g class=\"ytick\"><text text-anchor=\"end\" x=\"79\" y=\"4.199999999999999\" style=\"font-family: 'Open Sans', verdana, arial, sans-serif; font-size: 12px; fill: rgb(42, 63, 95); fill-opacity: 1; white-space: pre; opacity: 1;\" transform=\"translate(0,181.45999999999998)\">40k</text></g><g class=\"ytick\"><text text-anchor=\"end\" x=\"79\" y=\"4.199999999999999\" style=\"font-family: 'Open Sans', verdana, arial, sans-serif; font-size: 12px; fill: rgb(42, 63, 95); fill-opacity: 1; white-space: pre; opacity: 1;\" transform=\"translate(0,116.82)\">50k</text></g></g><g class=\"overaxes-above\"/></g></g><g class=\"polarlayer\"/><g class=\"ternarylayer\"/><g class=\"geolayer\"/><g class=\"funnelarealayer\"/><g class=\"pielayer\"/><g class=\"iciclelayer\"/><g class=\"treemaplayer\"/><g class=\"sunburstlayer\"/><g class=\"glimages\"/><defs id=\"topdefs-d4776e\"><g class=\"clips\"/></defs><g class=\"layer-above\"><g class=\"imagelayer\"/><g class=\"shapelayer\"/></g><g class=\"infolayer\"><g class=\"g-gtitle\"><text class=\"gtitle\" x=\"400\" y=\"40\" text-anchor=\"middle\" dy=\"0em\" style=\"font-family: 'Open Sans', verdana, arial, sans-serif; font-size: 26px; fill: rgb(0, 98, 26); opacity: 1; font-weight: normal; white-space: pre;\">Histograma Rating Aplicaciones</text></g><g class=\"g-xtitle\"><text class=\"xtitle\" x=\"415\" y=\"480.8\" text-anchor=\"middle\" style=\"font-family: 'Open Sans', verdana, arial, sans-serif; font-size: 14px; fill: rgb(42, 63, 95); opacity: 1; font-weight: normal; white-space: pre;\">Rating</text></g><g class=\"g-ytitle\"><text class=\"ytitle\" transform=\"rotate(-90,31.840625000000003,260)\" x=\"31.840625000000003\" y=\"260\" text-anchor=\"middle\" style=\"font-family: 'Open Sans', verdana, arial, sans-serif; font-size: 14px; fill: rgb(42, 63, 95); opacity: 1; font-weight: normal; white-space: pre;\">Frecuencia</text></g></g></svg>"
     },
     "metadata": {}
    }
   ],
   "metadata": {
    "collapsed": false,
    "pycharm": {
     "name": "#%%\n"
    }
   }
  },
  {
   "cell_type": "markdown",
   "source": [
    "## CATEGORÍAS"
   ],
   "metadata": {
    "collapsed": false
   }
  },
  {
   "cell_type": "code",
   "execution_count": 34,
   "source": [
    "categories_frequency = datos['Category'].value_counts()"
   ],
   "outputs": [],
   "metadata": {
    "collapsed": false,
    "pycharm": {
     "name": "#%%\n"
    }
   }
  },
  {
   "cell_type": "markdown",
   "source": [
    "Se contabilizan las frecuencias de las categorías para posteriormente graficarlas:"
   ],
   "metadata": {
    "collapsed": false
   }
  },
  {
   "cell_type": "code",
   "execution_count": 35,
   "source": [
    "category_hist = go.Figure()\r\n",
    "\r\n",
    "category_hist.add_trace(go.Bar(\r\n",
    "    y = categories_frequency.index,\r\n",
    "    x = categories_frequency,\r\n",
    "    marker = dict(color = '#761A16'),\r\n",
    "    orientation = 'h',\r\n",
    "    text = categories_frequency,\r\n",
    "    textfont = dict(color = '#761A16', size = 10),\r\n",
    "    textposition = 'outside',\r\n",
    "    texttemplate = [f'{y:,}' for y in categories_frequency]\r\n",
    "))\r\n",
    "category_hist.update_layout(\r\n",
    "    height = 850,\r\n",
    "    width = 800,\r\n",
    "    margin = dict(r = 40),\r\n",
    "    plot_bgcolor = '#E3E3D6',\r\n",
    "    title = dict(\r\n",
    "        font = dict(size = 26, color = '#761A16'),\r\n",
    "        text = 'Histograma Categorías Aplicaciones',\r\n",
    "        x = 0.5,\r\n",
    "    ),\r\n",
    "    xaxis = dict(\r\n",
    "        tick0 = 0, dtick = 10000, range = (0, 110000),\r\n",
    "        title_text = 'Frecuencia'\r\n",
    "    )\r\n",
    ")\r\n",
    "category_hist.show(renderer = 'svg')"
   ],
   "outputs": [
    {
     "output_type": "display_data",
     "data": {
      "image/svg+xml": "<svg class=\"main-svg\" xmlns=\"http://www.w3.org/2000/svg\" xmlns:xlink=\"http://www.w3.org/1999/xlink\" width=\"800\" height=\"850\" style=\"\" viewBox=\"0 0 800 850\"><rect x=\"0\" y=\"0\" width=\"800\" height=\"850\" style=\"fill: rgb(255, 255, 255); fill-opacity: 1;\"/><defs id=\"defs-650b5f\"><g class=\"clips\"><clipPath id=\"clip650b5fxyplot\" class=\"plotclip\"><rect width=\"606\" height=\"670\"/></clipPath><clipPath class=\"axesclip\" id=\"clip650b5fx\"><rect x=\"154\" y=\"0\" width=\"606\" height=\"850\"/></clipPath><clipPath class=\"axesclip\" id=\"clip650b5fy\"><rect x=\"0\" y=\"100\" width=\"800\" height=\"670\"/></clipPath><clipPath class=\"axesclip\" id=\"clip650b5fxy\"><rect x=\"154\" y=\"100\" width=\"606\" height=\"670\"/></clipPath></g><g class=\"gradients\"/><g class=\"patterns\"/></defs><g class=\"bglayer\"><rect class=\"bg\" x=\"154\" y=\"100\" width=\"606\" height=\"670\" style=\"fill: rgb(227, 227, 214); fill-opacity: 1; stroke-width: 0;\"/></g><g class=\"layer-below\"><g class=\"imagelayer\"/><g class=\"shapelayer\"/></g><g class=\"cartesianlayer\"><g class=\"subplot xy\"><g class=\"layer-subplot\"><g class=\"shapelayer\"/><g class=\"imagelayer\"/></g><g class=\"gridlayer\"><g class=\"x\"><path class=\"xgrid crisp\" transform=\"translate(209.09,0)\" d=\"M0,100v670\" style=\"stroke: rgb(255, 255, 255); stroke-opacity: 1; stroke-width: 1px;\"/><path class=\"xgrid crisp\" transform=\"translate(264.18,0)\" d=\"M0,100v670\" style=\"stroke: rgb(255, 255, 255); stroke-opacity: 1; stroke-width: 1px;\"/><path class=\"xgrid crisp\" transform=\"translate(319.27,0)\" d=\"M0,100v670\" style=\"stroke: rgb(255, 255, 255); stroke-opacity: 1; stroke-width: 1px;\"/><path class=\"xgrid crisp\" transform=\"translate(374.36,0)\" d=\"M0,100v670\" style=\"stroke: rgb(255, 255, 255); stroke-opacity: 1; stroke-width: 1px;\"/><path class=\"xgrid crisp\" transform=\"translate(429.45,0)\" d=\"M0,100v670\" style=\"stroke: rgb(255, 255, 255); stroke-opacity: 1; stroke-width: 1px;\"/><path class=\"xgrid crisp\" transform=\"translate(484.55,0)\" d=\"M0,100v670\" style=\"stroke: rgb(255, 255, 255); stroke-opacity: 1; stroke-width: 1px;\"/><path class=\"xgrid crisp\" transform=\"translate(539.64,0)\" d=\"M0,100v670\" style=\"stroke: rgb(255, 255, 255); stroke-opacity: 1; stroke-width: 1px;\"/><path class=\"xgrid crisp\" transform=\"translate(594.73,0)\" d=\"M0,100v670\" style=\"stroke: rgb(255, 255, 255); stroke-opacity: 1; stroke-width: 1px;\"/><path class=\"xgrid crisp\" transform=\"translate(649.8199999999999,0)\" d=\"M0,100v670\" style=\"stroke: rgb(255, 255, 255); stroke-opacity: 1; stroke-width: 1px;\"/><path class=\"xgrid crisp\" transform=\"translate(704.91,0)\" d=\"M0,100v670\" style=\"stroke: rgb(255, 255, 255); stroke-opacity: 1; stroke-width: 1px;\"/></g><g class=\"y\"/></g><g class=\"zerolinelayer\"><path class=\"xzl zl crisp\" transform=\"translate(154,0)\" d=\"M0,100v670\" style=\"stroke: rgb(255, 255, 255); stroke-opacity: 1; stroke-width: 2px;\"/></g><path class=\"xlines-below\"/><path class=\"ylines-below\"/><g class=\"overlines-below\"/><g class=\"xaxislayer-below\"/><g class=\"yaxislayer-below\"/><g class=\"overaxes-below\"/><g class=\"plot\" transform=\"translate(154,100)\" clip-path=\"url(#clip650b5fxyplot)\"><g class=\"barlayer mlayer\"><g class=\"trace bars\" style=\"opacity: 1;\"><g class=\"points\"><g class=\"point\"><path d=\"M0,668.03V652.26H537.35V668.03Z\" style=\"vector-effect: non-scaling-stroke; opacity: 1; stroke-width: 0.5px; fill: rgb(118, 26, 22); fill-opacity: 1; stroke: rgb(229, 236, 246); stroke-opacity: 1;\"/><text class=\"bartext bartext-outside\" text-anchor=\"middle\" data-notex=\"1\" x=\"0\" y=\"0\" style=\"font-family: 'Open Sans', verdana, arial, sans-serif; font-size: 10px; fill: rgb(118, 26, 22); fill-opacity: 1; white-space: pre;\" transform=\"translate(558.06875,664.145)\">97,539</text></g><g class=\"point\"><path d=\"M0,648.32V632.56H373.14V648.32Z\" style=\"vector-effect: non-scaling-stroke; opacity: 1; stroke-width: 0.5px; fill: rgb(118, 26, 22); fill-opacity: 1; stroke: rgb(229, 236, 246); stroke-opacity: 1;\"/><text class=\"bartext bartext-outside\" text-anchor=\"middle\" data-notex=\"1\" x=\"0\" y=\"0\" style=\"font-family: 'Open Sans', verdana, arial, sans-serif; font-size: 10px; fill: rgb(118, 26, 22); fill-opacity: 1; white-space: pre;\" transform=\"translate(393.85875,644.44)\">67,732</text></g><g class=\"point\"><path d=\"M0,628.62V612.85H306.15V628.62Z\" style=\"vector-effect: non-scaling-stroke; opacity: 1; stroke-width: 0.5px; fill: rgb(118, 26, 22); fill-opacity: 1; stroke: rgb(229, 236, 246); stroke-opacity: 1;\"/><text class=\"bartext bartext-outside\" text-anchor=\"middle\" data-notex=\"1\" x=\"0\" y=\"0\" style=\"font-family: 'Open Sans', verdana, arial, sans-serif; font-size: 10px; fill: rgb(118, 26, 22); fill-opacity: 1; white-space: pre;\" transform=\"translate(326.86875,624.735)\">55,572</text></g><g class=\"point\"><path d=\"M0,608.91V593.15H275.15V608.91Z\" style=\"vector-effect: non-scaling-stroke; opacity: 1; stroke-width: 0.5px; fill: rgb(118, 26, 22); fill-opacity: 1; stroke: rgb(229, 236, 246); stroke-opacity: 1;\"/><text class=\"bartext bartext-outside\" text-anchor=\"middle\" data-notex=\"1\" x=\"0\" y=\"0\" style=\"font-family: 'Open Sans', verdana, arial, sans-serif; font-size: 10px; fill: rgb(118, 26, 22); fill-opacity: 1; white-space: pre;\" transform=\"translate(295.86875,605.03)\">49,944</text></g><g class=\"point\"><path d=\"M0,589.21V573.44H263.28V589.21Z\" style=\"vector-effect: non-scaling-stroke; opacity: 1; stroke-width: 0.5px; fill: rgb(118, 26, 22); fill-opacity: 1; stroke: rgb(229, 236, 246); stroke-opacity: 1;\"/><text class=\"bartext bartext-outside\" text-anchor=\"middle\" data-notex=\"1\" x=\"0\" y=\"0\" style=\"font-family: 'Open Sans', verdana, arial, sans-serif; font-size: 10px; fill: rgb(118, 26, 22); fill-opacity: 1; white-space: pre;\" transform=\"translate(283.99875,585.325)\">47,791</text></g><g class=\"point\"><path d=\"M0,569.5V553.74H262.13V569.5Z\" style=\"vector-effect: non-scaling-stroke; opacity: 1; stroke-width: 0.5px; fill: rgb(118, 26, 22); fill-opacity: 1; stroke: rgb(229, 236, 246); stroke-opacity: 1;\"/><text class=\"bartext bartext-outside\" text-anchor=\"middle\" data-notex=\"1\" x=\"0\" y=\"0\" style=\"font-family: 'Open Sans', verdana, arial, sans-serif; font-size: 10px; fill: rgb(118, 26, 22); fill-opacity: 1; white-space: pre;\" transform=\"translate(282.84875,565.62)\">47,581</text></g><g class=\"point\"><path d=\"M0,549.79V534.03H258.16V549.79Z\" style=\"vector-effect: non-scaling-stroke; opacity: 1; stroke-width: 0.5px; fill: rgb(118, 26, 22); fill-opacity: 1; stroke: rgb(229, 236, 246); stroke-opacity: 1;\"/><text class=\"bartext bartext-outside\" text-anchor=\"middle\" data-notex=\"1\" x=\"0\" y=\"0\" style=\"font-family: 'Open Sans', verdana, arial, sans-serif; font-size: 10px; fill: rgb(118, 26, 22); fill-opacity: 1; white-space: pre;\" transform=\"translate(278.87875,545.91)\">46,861</text></g><g class=\"point\"><path d=\"M0,530.09V514.32H172.48V530.09Z\" style=\"vector-effect: non-scaling-stroke; opacity: 1; stroke-width: 0.5px; fill: rgb(118, 26, 22); fill-opacity: 1; stroke: rgb(229, 236, 246); stroke-opacity: 1;\"/><text class=\"bartext bartext-outside\" text-anchor=\"middle\" data-notex=\"1\" x=\"0\" y=\"0\" style=\"font-family: 'Open Sans', verdana, arial, sans-serif; font-size: 10px; fill: rgb(118, 26, 22); fill-opacity: 1; white-space: pre;\" transform=\"translate(193.19875,526.205)\">31,308</text></g><g class=\"point\"><path d=\"M0,510.38V494.62H100.78V510.38Z\" style=\"vector-effect: non-scaling-stroke; opacity: 1; stroke-width: 0.5px; fill: rgb(118, 26, 22); fill-opacity: 1; stroke: rgb(229, 236, 246); stroke-opacity: 1;\"/><text class=\"bartext bartext-outside\" text-anchor=\"middle\" data-notex=\"1\" x=\"0\" y=\"0\" style=\"font-family: 'Open Sans', verdana, arial, sans-serif; font-size: 10px; fill: rgb(118, 26, 22); fill-opacity: 1; white-space: pre;\" transform=\"translate(121.49875,506.5)\">18,293</text></g><g class=\"point\"><path d=\"M0,490.68V474.91H98.4V490.68Z\" style=\"vector-effect: non-scaling-stroke; opacity: 1; stroke-width: 0.5px; fill: rgb(118, 26, 22); fill-opacity: 1; stroke: rgb(229, 236, 246); stroke-opacity: 1;\"/><text class=\"bartext bartext-outside\" text-anchor=\"middle\" data-notex=\"1\" x=\"0\" y=\"0\" style=\"font-family: 'Open Sans', verdana, arial, sans-serif; font-size: 10px; fill: rgb(118, 26, 22); fill-opacity: 1; white-space: pre;\" transform=\"translate(119.11875,486.795)\">17,862</text></g><g class=\"point\"><path d=\"M0,470.97V455.21H96.54V470.97Z\" style=\"vector-effect: non-scaling-stroke; opacity: 1; stroke-width: 0.5px; fill: rgb(118, 26, 22); fill-opacity: 1; stroke: rgb(229, 236, 246); stroke-opacity: 1;\"/><text class=\"bartext bartext-outside\" text-anchor=\"middle\" data-notex=\"1\" x=\"0\" y=\"0\" style=\"font-family: 'Open Sans', verdana, arial, sans-serif; font-size: 10px; fill: rgb(118, 26, 22); fill-opacity: 1; white-space: pre;\" transform=\"translate(117.25875,467.09000000000003)\">17,524</text></g><g class=\"point\"><path d=\"M0,451.26V435.5H95.68V451.26Z\" style=\"vector-effect: non-scaling-stroke; opacity: 1; stroke-width: 0.5px; fill: rgb(118, 26, 22); fill-opacity: 1; stroke: rgb(229, 236, 246); stroke-opacity: 1;\"/><text class=\"bartext bartext-outside\" text-anchor=\"middle\" data-notex=\"1\" x=\"0\" y=\"0\" style=\"font-family: 'Open Sans', verdana, arial, sans-serif; font-size: 10px; fill: rgb(118, 26, 22); fill-opacity: 1; white-space: pre;\" transform=\"translate(116.39875,447.38)\">17,367</text></g><g class=\"point\"><path d=\"M0,431.56V415.79H91.94V431.56Z\" style=\"vector-effect: non-scaling-stroke; opacity: 1; stroke-width: 0.5px; fill: rgb(118, 26, 22); fill-opacity: 1; stroke: rgb(229, 236, 246); stroke-opacity: 1;\"/><text class=\"bartext bartext-outside\" text-anchor=\"middle\" data-notex=\"1\" x=\"0\" y=\"0\" style=\"font-family: 'Open Sans', verdana, arial, sans-serif; font-size: 10px; fill: rgb(118, 26, 22); fill-opacity: 1; white-space: pre;\" transform=\"translate(112.65875,427.675)\">16,689</text></g><g class=\"point\"><path d=\"M0,411.85V396.09H89.81V411.85Z\" style=\"vector-effect: non-scaling-stroke; opacity: 1; stroke-width: 0.5px; fill: rgb(118, 26, 22); fill-opacity: 1; stroke: rgb(229, 236, 246); stroke-opacity: 1;\"/><text class=\"bartext bartext-outside\" text-anchor=\"middle\" data-notex=\"1\" x=\"0\" y=\"0\" style=\"font-family: 'Open Sans', verdana, arial, sans-serif; font-size: 10px; fill: rgb(118, 26, 22); fill-opacity: 1; white-space: pre;\" transform=\"translate(110.52875,407.97)\">16,303</text></g><g class=\"point\"><path d=\"M0,392.15V376.38H79.76V392.15Z\" style=\"vector-effect: non-scaling-stroke; opacity: 1; stroke-width: 0.5px; fill: rgb(118, 26, 22); fill-opacity: 1; stroke: rgb(229, 236, 246); stroke-opacity: 1;\"/><text class=\"bartext bartext-outside\" text-anchor=\"middle\" data-notex=\"1\" x=\"0\" y=\"0\" style=\"font-family: 'Open Sans', verdana, arial, sans-serif; font-size: 10px; fill: rgb(118, 26, 22); fill-opacity: 1; white-space: pre;\" transform=\"translate(100.47875,388.265)\">14,478</text></g><g class=\"point\"><path d=\"M0,372.44V356.68H77.65V372.44Z\" style=\"vector-effect: non-scaling-stroke; opacity: 1; stroke-width: 0.5px; fill: rgb(118, 26, 22); fill-opacity: 1; stroke: rgb(229, 236, 246); stroke-opacity: 1;\"/><text class=\"bartext bartext-outside\" text-anchor=\"middle\" data-notex=\"1\" x=\"0\" y=\"0\" style=\"font-family: 'Open Sans', verdana, arial, sans-serif; font-size: 10px; fill: rgb(118, 26, 22); fill-opacity: 1; white-space: pre;\" transform=\"translate(98.36875,368.56)\">14,094</text></g><g class=\"point\"><path d=\"M0,352.74V336.97H76.16V352.74Z\" style=\"vector-effect: non-scaling-stroke; opacity: 1; stroke-width: 0.5px; fill: rgb(118, 26, 22); fill-opacity: 1; stroke: rgb(229, 236, 246); stroke-opacity: 1;\"/><text class=\"bartext bartext-outside\" text-anchor=\"middle\" data-notex=\"1\" x=\"0\" y=\"0\" style=\"font-family: 'Open Sans', verdana, arial, sans-serif; font-size: 10px; fill: rgb(118, 26, 22); fill-opacity: 1; white-space: pre;\" transform=\"translate(96.87875,348.855)\">13,824</text></g><g class=\"point\"><path d=\"M0,333.03V317.26H61.38V333.03Z\" style=\"vector-effect: non-scaling-stroke; opacity: 1; stroke-width: 0.5px; fill: rgb(118, 26, 22); fill-opacity: 1; stroke: rgb(229, 236, 246); stroke-opacity: 1;\"/><text class=\"bartext bartext-outside\" text-anchor=\"middle\" data-notex=\"1\" x=\"0\" y=\"0\" style=\"font-family: 'Open Sans', verdana, arial, sans-serif; font-size: 10px; fill: rgb(118, 26, 22); fill-opacity: 1; white-space: pre;\" transform=\"translate(82.09875,329.145)\">11,141</text></g><g class=\"point\"><path d=\"M0,313.32V297.56H57.83V313.32Z\" style=\"vector-effect: non-scaling-stroke; opacity: 1; stroke-width: 0.5px; fill: rgb(118, 26, 22); fill-opacity: 1; stroke: rgb(229, 236, 246); stroke-opacity: 1;\"/><text class=\"bartext bartext-outside\" text-anchor=\"middle\" data-notex=\"1\" x=\"0\" y=\"0\" style=\"font-family: 'Open Sans', verdana, arial, sans-serif; font-size: 10px; fill: rgb(118, 26, 22); fill-opacity: 1; white-space: pre;\" transform=\"translate(78.54875,309.44)\">10,497</text></g><g class=\"point\"><path d=\"M0,293.62V277.85H55.54V293.62Z\" style=\"vector-effect: non-scaling-stroke; opacity: 1; stroke-width: 0.5px; fill: rgb(118, 26, 22); fill-opacity: 1; stroke: rgb(229, 236, 246); stroke-opacity: 1;\"/><text class=\"bartext bartext-outside\" text-anchor=\"middle\" data-notex=\"1\" x=\"0\" y=\"0\" style=\"font-family: 'Open Sans', verdana, arial, sans-serif; font-size: 10px; fill: rgb(118, 26, 22); fill-opacity: 1; white-space: pre;\" transform=\"translate(76.25874999999999,289.735)\">10,081</text></g><g class=\"point\"><path d=\"M0,273.91V258.15H47.62V273.91Z\" style=\"vector-effect: non-scaling-stroke; opacity: 1; stroke-width: 0.5px; fill: rgb(118, 26, 22); fill-opacity: 1; stroke: rgb(229, 236, 246); stroke-opacity: 1;\"/><text class=\"bartext bartext-outside\" text-anchor=\"middle\" data-notex=\"1\" x=\"0\" y=\"0\" style=\"font-family: 'Open Sans', verdana, arial, sans-serif; font-size: 10px; fill: rgb(118, 26, 22); fill-opacity: 1; white-space: pre;\" transform=\"translate(65.166875,270.03)\">8,644</text></g><g class=\"point\"><path d=\"M0,254.21V238.44H37.86V254.21Z\" style=\"vector-effect: non-scaling-stroke; opacity: 1; stroke-width: 0.5px; fill: rgb(118, 26, 22); fill-opacity: 1; stroke: rgb(229, 236, 246); stroke-opacity: 1;\"/><text class=\"bartext bartext-outside\" text-anchor=\"middle\" data-notex=\"1\" x=\"0\" y=\"0\" style=\"font-family: 'Open Sans', verdana, arial, sans-serif; font-size: 10px; fill: rgb(118, 26, 22); fill-opacity: 1; white-space: pre;\" transform=\"translate(55.406875,250.325)\">6,872</text></g><g class=\"point\"><path d=\"M0,234.5V218.74H37.42V234.5Z\" style=\"vector-effect: non-scaling-stroke; opacity: 1; stroke-width: 0.5px; fill: rgb(118, 26, 22); fill-opacity: 1; stroke: rgb(229, 236, 246); stroke-opacity: 1;\"/><text class=\"bartext bartext-outside\" text-anchor=\"middle\" data-notex=\"1\" x=\"0\" y=\"0\" style=\"font-family: 'Open Sans', verdana, arial, sans-serif; font-size: 10px; fill: rgb(118, 26, 22); fill-opacity: 1; white-space: pre;\" transform=\"translate(54.966875,230.62)\">6,792</text></g><g class=\"point\"><path d=\"M0,214.79V199.03H36.91V214.79Z\" style=\"vector-effect: non-scaling-stroke; opacity: 1; stroke-width: 0.5px; fill: rgb(118, 26, 22); fill-opacity: 1; stroke: rgb(229, 236, 246); stroke-opacity: 1;\"/><text class=\"bartext bartext-outside\" text-anchor=\"middle\" data-notex=\"1\" x=\"0\" y=\"0\" style=\"font-family: 'Open Sans', verdana, arial, sans-serif; font-size: 10px; fill: rgb(118, 26, 22); fill-opacity: 1; white-space: pre;\" transform=\"translate(54.456875,210.91)\">6,699</text></g><g class=\"point\"><path d=\"M0,195.09V179.32H33.1V195.09Z\" style=\"vector-effect: non-scaling-stroke; opacity: 1; stroke-width: 0.5px; fill: rgb(118, 26, 22); fill-opacity: 1; stroke: rgb(229, 236, 246); stroke-opacity: 1;\"/><text class=\"bartext bartext-outside\" text-anchor=\"middle\" data-notex=\"1\" x=\"0\" y=\"0\" style=\"font-family: 'Open Sans', verdana, arial, sans-serif; font-size: 10px; fill: rgb(118, 26, 22); fill-opacity: 1; white-space: pre;\" transform=\"translate(50.646875,191.20499999999998)\">6,009</text></g><g class=\"point\"><path d=\"M0,175.38V159.62H21.94V175.38Z\" style=\"vector-effect: non-scaling-stroke; opacity: 1; stroke-width: 0.5px; fill: rgb(118, 26, 22); fill-opacity: 1; stroke: rgb(229, 236, 246); stroke-opacity: 1;\"/><text class=\"bartext bartext-outside\" text-anchor=\"middle\" data-notex=\"1\" x=\"0\" y=\"0\" style=\"font-family: 'Open Sans', verdana, arial, sans-serif; font-size: 10px; fill: rgb(118, 26, 22); fill-opacity: 1; white-space: pre;\" transform=\"translate(39.486875,171.5)\">3,983</text></g><g class=\"point\"><path d=\"M0,155.68V139.91H14.59V155.68Z\" style=\"vector-effect: non-scaling-stroke; opacity: 1; stroke-width: 0.5px; fill: rgb(118, 26, 22); fill-opacity: 1; stroke: rgb(229, 236, 246); stroke-opacity: 1;\"/><text class=\"bartext bartext-outside\" text-anchor=\"middle\" data-notex=\"1\" x=\"0\" y=\"0\" style=\"font-family: 'Open Sans', verdana, arial, sans-serif; font-size: 10px; fill: rgb(118, 26, 22); fill-opacity: 1; white-space: pre;\" transform=\"translate(32.136875,151.79500000000002)\">2,648</text></g><g class=\"point\"><path d=\"M0,135.97V120.21H13.44V135.97Z\" style=\"vector-effect: non-scaling-stroke; opacity: 1; stroke-width: 0.5px; fill: rgb(118, 26, 22); fill-opacity: 1; stroke: rgb(229, 236, 246); stroke-opacity: 1;\"/><text class=\"bartext bartext-outside\" text-anchor=\"middle\" data-notex=\"1\" x=\"0\" y=\"0\" style=\"font-family: 'Open Sans', verdana, arial, sans-serif; font-size: 10px; fill: rgb(118, 26, 22); fill-opacity: 1; white-space: pre;\" transform=\"translate(30.986874999999998,132.09)\">2,439</text></g><g class=\"point\"><path d=\"M0,116.26V100.5H12.6V116.26Z\" style=\"vector-effect: non-scaling-stroke; opacity: 1; stroke-width: 0.5px; fill: rgb(118, 26, 22); fill-opacity: 1; stroke: rgb(229, 236, 246); stroke-opacity: 1;\"/><text class=\"bartext bartext-outside\" text-anchor=\"middle\" data-notex=\"1\" x=\"0\" y=\"0\" style=\"font-family: 'Open Sans', verdana, arial, sans-serif; font-size: 10px; fill: rgb(118, 26, 22); fill-opacity: 1; white-space: pre;\" transform=\"translate(30.146875,112.38)\">2,288</text></g><g class=\"point\"><path d=\"M0,96.56V80.79H11.27V96.56Z\" style=\"vector-effect: non-scaling-stroke; opacity: 1; stroke-width: 0.5px; fill: rgb(118, 26, 22); fill-opacity: 1; stroke: rgb(229, 236, 246); stroke-opacity: 1;\"/><text class=\"bartext bartext-outside\" text-anchor=\"middle\" data-notex=\"1\" x=\"0\" y=\"0\" style=\"font-family: 'Open Sans', verdana, arial, sans-serif; font-size: 10px; fill: rgb(118, 26, 22); fill-opacity: 1; white-space: pre;\" transform=\"translate(28.816875,92.67500000000001)\">2,045</text></g><g class=\"point\"><path d=\"M0,76.85V61.09H8.77V76.85Z\" style=\"vector-effect: non-scaling-stroke; opacity: 1; stroke-width: 0.5px; fill: rgb(118, 26, 22); fill-opacity: 1; stroke: rgb(229, 236, 246); stroke-opacity: 1;\"/><text class=\"bartext bartext-outside\" text-anchor=\"middle\" data-notex=\"1\" x=\"0\" y=\"0\" style=\"font-family: 'Open Sans', verdana, arial, sans-serif; font-size: 10px; fill: rgb(118, 26, 22); fill-opacity: 1; white-space: pre;\" transform=\"translate(26.316875,72.97)\">1,592</text></g><g class=\"point\"><path d=\"M0,57.15V41.38H7.94V57.15Z\" style=\"vector-effect: non-scaling-stroke; opacity: 1; stroke-width: 0.5px; fill: rgb(118, 26, 22); fill-opacity: 1; stroke: rgb(229, 236, 246); stroke-opacity: 1;\"/><text class=\"bartext bartext-outside\" text-anchor=\"middle\" data-notex=\"1\" x=\"0\" y=\"0\" style=\"font-family: 'Open Sans', verdana, arial, sans-serif; font-size: 10px; fill: rgb(118, 26, 22); fill-opacity: 1; white-space: pre;\" transform=\"translate(25.486875,53.265)\">1,442</text></g><g class=\"point\"><path d=\"M0,37.44V21.68H6.88V37.44Z\" style=\"vector-effect: non-scaling-stroke; opacity: 1; stroke-width: 0.5px; fill: rgb(118, 26, 22); fill-opacity: 1; stroke: rgb(229, 236, 246); stroke-opacity: 1;\"/><text class=\"bartext bartext-outside\" text-anchor=\"middle\" data-notex=\"1\" x=\"0\" y=\"0\" style=\"font-family: 'Open Sans', verdana, arial, sans-serif; font-size: 10px; fill: rgb(118, 26, 22); fill-opacity: 1; white-space: pre;\" transform=\"translate(24.426875,33.56)\">1,248</text></g><g class=\"point\"><path d=\"M0,17.74V1.97H6.35V17.74Z\" style=\"vector-effect: non-scaling-stroke; opacity: 1; stroke-width: 0.5px; fill: rgb(118, 26, 22); fill-opacity: 1; stroke: rgb(229, 236, 246); stroke-opacity: 1;\"/><text class=\"bartext bartext-outside\" text-anchor=\"middle\" data-notex=\"1\" x=\"0\" y=\"0\" style=\"font-family: 'Open Sans', verdana, arial, sans-serif; font-size: 10px; fill: rgb(118, 26, 22); fill-opacity: 1; white-space: pre;\" transform=\"translate(23.896875,13.854999999999999)\">1,152</text></g></g></g></g></g><g class=\"overplot\"/><path class=\"xlines-above crisp\" d=\"M0,0\" style=\"fill: none;\"/><path class=\"ylines-above crisp\" d=\"M0,0\" style=\"fill: none;\"/><g class=\"overlines-above\"/><g class=\"xaxislayer-above\"><g class=\"xtick\"><text text-anchor=\"middle\" x=\"0\" y=\"783\" transform=\"translate(154,0)\" style=\"font-family: 'Open Sans', verdana, arial, sans-serif; font-size: 12px; fill: rgb(42, 63, 95); fill-opacity: 1; white-space: pre; opacity: 1;\">0</text></g><g class=\"xtick\"><text text-anchor=\"middle\" x=\"0\" y=\"783\" style=\"font-family: 'Open Sans', verdana, arial, sans-serif; font-size: 12px; fill: rgb(42, 63, 95); fill-opacity: 1; white-space: pre; opacity: 1;\" transform=\"translate(209.09,0)\">10k</text></g><g class=\"xtick\"><text text-anchor=\"middle\" x=\"0\" y=\"783\" style=\"font-family: 'Open Sans', verdana, arial, sans-serif; font-size: 12px; fill: rgb(42, 63, 95); fill-opacity: 1; white-space: pre; opacity: 1;\" transform=\"translate(264.18,0)\">20k</text></g><g class=\"xtick\"><text text-anchor=\"middle\" x=\"0\" y=\"783\" style=\"font-family: 'Open Sans', verdana, arial, sans-serif; font-size: 12px; fill: rgb(42, 63, 95); fill-opacity: 1; white-space: pre; opacity: 1;\" transform=\"translate(319.27,0)\">30k</text></g><g class=\"xtick\"><text text-anchor=\"middle\" x=\"0\" y=\"783\" style=\"font-family: 'Open Sans', verdana, arial, sans-serif; font-size: 12px; fill: rgb(42, 63, 95); fill-opacity: 1; white-space: pre; opacity: 1;\" transform=\"translate(374.36,0)\">40k</text></g><g class=\"xtick\"><text text-anchor=\"middle\" x=\"0\" y=\"783\" style=\"font-family: 'Open Sans', verdana, arial, sans-serif; font-size: 12px; fill: rgb(42, 63, 95); fill-opacity: 1; white-space: pre; opacity: 1;\" transform=\"translate(429.45,0)\">50k</text></g><g class=\"xtick\"><text text-anchor=\"middle\" x=\"0\" y=\"783\" style=\"font-family: 'Open Sans', verdana, arial, sans-serif; font-size: 12px; fill: rgb(42, 63, 95); fill-opacity: 1; white-space: pre; opacity: 1;\" transform=\"translate(484.55,0)\">60k</text></g><g class=\"xtick\"><text text-anchor=\"middle\" x=\"0\" y=\"783\" style=\"font-family: 'Open Sans', verdana, arial, sans-serif; font-size: 12px; fill: rgb(42, 63, 95); fill-opacity: 1; white-space: pre; opacity: 1;\" transform=\"translate(539.64,0)\">70k</text></g><g class=\"xtick\"><text text-anchor=\"middle\" x=\"0\" y=\"783\" style=\"font-family: 'Open Sans', verdana, arial, sans-serif; font-size: 12px; fill: rgb(42, 63, 95); fill-opacity: 1; white-space: pre; opacity: 1;\" transform=\"translate(594.73,0)\">80k</text></g><g class=\"xtick\"><text text-anchor=\"middle\" x=\"0\" y=\"783\" style=\"font-family: 'Open Sans', verdana, arial, sans-serif; font-size: 12px; fill: rgb(42, 63, 95); fill-opacity: 1; white-space: pre; opacity: 1;\" transform=\"translate(649.8199999999999,0)\">90k</text></g><g class=\"xtick\"><text text-anchor=\"middle\" x=\"0\" y=\"783\" style=\"font-family: 'Open Sans', verdana, arial, sans-serif; font-size: 12px; fill: rgb(42, 63, 95); fill-opacity: 1; white-space: pre; opacity: 1;\" transform=\"translate(704.91,0)\">100k</text></g><g class=\"xtick\"><text text-anchor=\"middle\" x=\"0\" y=\"783\" style=\"font-family: 'Open Sans', verdana, arial, sans-serif; font-size: 12px; fill: rgb(42, 63, 95); fill-opacity: 1; white-space: pre; opacity: 1;\" transform=\"translate(760,0)\">110k</text></g></g><g class=\"yaxislayer-above\"><g class=\"ytick\"><text text-anchor=\"end\" x=\"153\" y=\"4.199999999999999\" transform=\"translate(0,760.15)\" style=\"font-family: 'Open Sans', verdana, arial, sans-serif; font-size: 12px; fill: rgb(42, 63, 95); fill-opacity: 1; white-space: pre; opacity: 1;\">Game</text></g><g class=\"ytick\"><text text-anchor=\"end\" x=\"153\" y=\"4.199999999999999\" transform=\"translate(0,740.44)\" style=\"font-family: 'Open Sans', verdana, arial, sans-serif; font-size: 12px; fill: rgb(42, 63, 95); fill-opacity: 1; white-space: pre; opacity: 1;\">Education</text></g><g class=\"ytick\"><text text-anchor=\"end\" x=\"153\" y=\"4.199999999999999\" transform=\"translate(0,720.74)\" style=\"font-family: 'Open Sans', verdana, arial, sans-serif; font-size: 12px; fill: rgb(42, 63, 95); fill-opacity: 1; white-space: pre; opacity: 1;\">Music &amp; Audio</text></g><g class=\"ytick\"><text text-anchor=\"end\" x=\"153\" y=\"4.199999999999999\" transform=\"translate(0,701.03)\" style=\"font-family: 'Open Sans', verdana, arial, sans-serif; font-size: 12px; fill: rgb(42, 63, 95); fill-opacity: 1; white-space: pre; opacity: 1;\">Entertainment</text></g><g class=\"ytick\"><text text-anchor=\"end\" x=\"153\" y=\"4.199999999999999\" transform=\"translate(0,681.32)\" style=\"font-family: 'Open Sans', verdana, arial, sans-serif; font-size: 12px; fill: rgb(42, 63, 95); fill-opacity: 1; white-space: pre; opacity: 1;\">Personalization</text></g><g class=\"ytick\"><text text-anchor=\"end\" x=\"153\" y=\"4.199999999999999\" transform=\"translate(0,661.62)\" style=\"font-family: 'Open Sans', verdana, arial, sans-serif; font-size: 12px; fill: rgb(42, 63, 95); fill-opacity: 1; white-space: pre; opacity: 1;\">Books &amp; Reference</text></g><g class=\"ytick\"><text text-anchor=\"end\" x=\"153\" y=\"4.199999999999999\" transform=\"translate(0,641.91)\" style=\"font-family: 'Open Sans', verdana, arial, sans-serif; font-size: 12px; fill: rgb(42, 63, 95); fill-opacity: 1; white-space: pre; opacity: 1;\">Tools</text></g><g class=\"ytick\"><text text-anchor=\"end\" x=\"153\" y=\"4.199999999999999\" transform=\"translate(0,622.21)\" style=\"font-family: 'Open Sans', verdana, arial, sans-serif; font-size: 12px; fill: rgb(42, 63, 95); fill-opacity: 1; white-space: pre; opacity: 1;\">Lifestyle</text></g><g class=\"ytick\"><text text-anchor=\"end\" x=\"153\" y=\"4.199999999999999\" transform=\"translate(0,602.5)\" style=\"font-family: 'Open Sans', verdana, arial, sans-serif; font-size: 12px; fill: rgb(42, 63, 95); fill-opacity: 1; white-space: pre; opacity: 1;\">Photography</text></g><g class=\"ytick\"><text text-anchor=\"end\" x=\"153\" y=\"4.199999999999999\" transform=\"translate(0,582.79)\" style=\"font-family: 'Open Sans', verdana, arial, sans-serif; font-size: 12px; fill: rgb(42, 63, 95); fill-opacity: 1; white-space: pre; opacity: 1;\">Business</text></g><g class=\"ytick\"><text text-anchor=\"end\" x=\"153\" y=\"4.199999999999999\" transform=\"translate(0,563.0899999999999)\" style=\"font-family: 'Open Sans', verdana, arial, sans-serif; font-size: 12px; fill: rgb(42, 63, 95); fill-opacity: 1; white-space: pre; opacity: 1;\">Productivity</text></g><g class=\"ytick\"><text text-anchor=\"end\" x=\"153\" y=\"4.199999999999999\" transform=\"translate(0,543.38)\" style=\"font-family: 'Open Sans', verdana, arial, sans-serif; font-size: 12px; fill: rgb(42, 63, 95); fill-opacity: 1; white-space: pre; opacity: 1;\">Puzzle</text></g><g class=\"ytick\"><text text-anchor=\"end\" x=\"153\" y=\"4.199999999999999\" transform=\"translate(0,523.6800000000001)\" style=\"font-family: 'Open Sans', verdana, arial, sans-serif; font-size: 12px; fill: rgb(42, 63, 95); fill-opacity: 1; white-space: pre; opacity: 1;\">Finance</text></g><g class=\"ytick\"><text text-anchor=\"end\" x=\"153\" y=\"4.199999999999999\" transform=\"translate(0,503.97)\" style=\"font-family: 'Open Sans', verdana, arial, sans-serif; font-size: 12px; fill: rgb(42, 63, 95); fill-opacity: 1; white-space: pre; opacity: 1;\">Health &amp; Fitness</text></g><g class=\"ytick\"><text text-anchor=\"end\" x=\"153\" y=\"4.199999999999999\" transform=\"translate(0,484.26)\" style=\"font-family: 'Open Sans', verdana, arial, sans-serif; font-size: 12px; fill: rgb(42, 63, 95); fill-opacity: 1; white-space: pre; opacity: 1;\">Sports</text></g><g class=\"ytick\"><text text-anchor=\"end\" x=\"153\" y=\"4.199999999999999\" transform=\"translate(0,464.56)\" style=\"font-family: 'Open Sans', verdana, arial, sans-serif; font-size: 12px; fill: rgb(42, 63, 95); fill-opacity: 1; white-space: pre; opacity: 1;\">Travel &amp; Local</text></g><g class=\"ytick\"><text text-anchor=\"end\" x=\"153\" y=\"4.199999999999999\" transform=\"translate(0,444.85)\" style=\"font-family: 'Open Sans', verdana, arial, sans-serif; font-size: 12px; fill: rgb(42, 63, 95); fill-opacity: 1; white-space: pre; opacity: 1;\">News &amp; Magazines</text></g><g class=\"ytick\"><text text-anchor=\"end\" x=\"153\" y=\"4.199999999999999\" transform=\"translate(0,425.15)\" style=\"font-family: 'Open Sans', verdana, arial, sans-serif; font-size: 12px; fill: rgb(42, 63, 95); fill-opacity: 1; white-space: pre; opacity: 1;\">Communication</text></g><g class=\"ytick\"><text text-anchor=\"end\" x=\"153\" y=\"4.199999999999999\" transform=\"translate(0,405.44)\" style=\"font-family: 'Open Sans', verdana, arial, sans-serif; font-size: 12px; fill: rgb(42, 63, 95); fill-opacity: 1; white-space: pre; opacity: 1;\">Social</text></g><g class=\"ytick\"><text text-anchor=\"end\" x=\"153\" y=\"4.199999999999999\" transform=\"translate(0,385.74)\" style=\"font-family: 'Open Sans', verdana, arial, sans-serif; font-size: 12px; fill: rgb(42, 63, 95); fill-opacity: 1; white-space: pre; opacity: 1;\">Shopping</text></g><g class=\"ytick\"><text text-anchor=\"end\" x=\"153\" y=\"4.199999999999999\" transform=\"translate(0,366.03)\" style=\"font-family: 'Open Sans', verdana, arial, sans-serif; font-size: 12px; fill: rgb(42, 63, 95); fill-opacity: 1; white-space: pre; opacity: 1;\">Food &amp; Drink</text></g><g class=\"ytick\"><text text-anchor=\"end\" x=\"153\" y=\"4.199999999999999\" transform=\"translate(0,346.32)\" style=\"font-family: 'Open Sans', verdana, arial, sans-serif; font-size: 12px; fill: rgb(42, 63, 95); fill-opacity: 1; white-space: pre; opacity: 1;\">Video Players &amp; Editors</text></g><g class=\"ytick\"><text text-anchor=\"end\" x=\"153\" y=\"4.199999999999999\" transform=\"translate(0,326.62)\" style=\"font-family: 'Open Sans', verdana, arial, sans-serif; font-size: 12px; fill: rgb(42, 63, 95); fill-opacity: 1; white-space: pre; opacity: 1;\">Maps &amp; Navigation</text></g><g class=\"ytick\"><text text-anchor=\"end\" x=\"153\" y=\"4.199999999999999\" transform=\"translate(0,306.90999999999997)\" style=\"font-family: 'Open Sans', verdana, arial, sans-serif; font-size: 12px; fill: rgb(42, 63, 95); fill-opacity: 1; white-space: pre; opacity: 1;\">Medical</text></g><g class=\"ytick\"><text text-anchor=\"end\" x=\"153\" y=\"4.199999999999999\" transform=\"translate(0,287.21000000000004)\" style=\"font-family: 'Open Sans', verdana, arial, sans-serif; font-size: 12px; fill: rgb(42, 63, 95); fill-opacity: 1; white-space: pre; opacity: 1;\">Art &amp; Design</text></g><g class=\"ytick\"><text text-anchor=\"end\" x=\"153\" y=\"4.199999999999999\" transform=\"translate(0,267.5)\" style=\"font-family: 'Open Sans', verdana, arial, sans-serif; font-size: 12px; fill: rgb(42, 63, 95); fill-opacity: 1; white-space: pre; opacity: 1;\">Auto &amp; Vehicles</text></g><g class=\"ytick\"><text text-anchor=\"end\" x=\"153\" y=\"4.199999999999999\" transform=\"translate(0,247.79)\" style=\"font-family: 'Open Sans', verdana, arial, sans-serif; font-size: 12px; fill: rgb(42, 63, 95); fill-opacity: 1; white-space: pre; opacity: 1;\">Beauty</text></g><g class=\"ytick\"><text text-anchor=\"end\" x=\"153\" y=\"4.199999999999999\" transform=\"translate(0,228.09)\" style=\"font-family: 'Open Sans', verdana, arial, sans-serif; font-size: 12px; fill: rgb(42, 63, 95); fill-opacity: 1; white-space: pre; opacity: 1;\">Weather</text></g><g class=\"ytick\"><text text-anchor=\"end\" x=\"153\" y=\"4.199999999999999\" transform=\"translate(0,208.38)\" style=\"font-family: 'Open Sans', verdana, arial, sans-serif; font-size: 12px; fill: rgb(42, 63, 95); fill-opacity: 1; white-space: pre; opacity: 1;\">House &amp; Home</text></g><g class=\"ytick\"><text text-anchor=\"end\" x=\"153\" y=\"4.199999999999999\" transform=\"translate(0,188.68)\" style=\"font-family: 'Open Sans', verdana, arial, sans-serif; font-size: 12px; fill: rgb(42, 63, 95); fill-opacity: 1; white-space: pre; opacity: 1;\">Dating</text></g><g class=\"ytick\"><text text-anchor=\"end\" x=\"153\" y=\"4.199999999999999\" transform=\"translate(0,168.97)\" style=\"font-family: 'Open Sans', verdana, arial, sans-serif; font-size: 12px; fill: rgb(42, 63, 95); fill-opacity: 1; white-space: pre; opacity: 1;\">Comics</text></g><g class=\"ytick\"><text text-anchor=\"end\" x=\"153\" y=\"4.199999999999999\" transform=\"translate(0,149.26)\" style=\"font-family: 'Open Sans', verdana, arial, sans-serif; font-size: 12px; fill: rgb(42, 63, 95); fill-opacity: 1; white-space: pre; opacity: 1;\">Libraries &amp; Demo</text></g><g class=\"ytick\"><text text-anchor=\"end\" x=\"153\" y=\"4.199999999999999\" transform=\"translate(0,129.56)\" style=\"font-family: 'Open Sans', verdana, arial, sans-serif; font-size: 12px; fill: rgb(42, 63, 95); fill-opacity: 1; white-space: pre; opacity: 1;\">Parenting</text></g><g class=\"ytick\"><text text-anchor=\"end\" x=\"153\" y=\"4.199999999999999\" transform=\"translate(0,109.85)\" style=\"font-family: 'Open Sans', verdana, arial, sans-serif; font-size: 12px; fill: rgb(42, 63, 95); fill-opacity: 1; white-space: pre; opacity: 1;\">Events</text></g></g><g class=\"overaxes-above\"/></g></g><g class=\"polarlayer\"/><g class=\"ternarylayer\"/><g class=\"geolayer\"/><g class=\"funnelarealayer\"/><g class=\"pielayer\"/><g class=\"iciclelayer\"/><g class=\"treemaplayer\"/><g class=\"sunburstlayer\"/><g class=\"glimages\"/><defs id=\"topdefs-650b5f\"><g class=\"clips\"/></defs><g class=\"layer-above\"><g class=\"imagelayer\"/><g class=\"shapelayer\"/></g><g class=\"infolayer\"><g class=\"g-gtitle\"><text class=\"gtitle\" x=\"400\" y=\"50\" text-anchor=\"middle\" dy=\"0em\" style=\"font-family: 'Open Sans', verdana, arial, sans-serif; font-size: 26px; fill: rgb(118, 26, 22); opacity: 1; font-weight: normal; white-space: pre;\">Histograma Categorías Aplicaciones</text></g><g class=\"g-xtitle\"><text class=\"xtitle\" x=\"457\" y=\"810.8\" text-anchor=\"middle\" style=\"font-family: 'Open Sans', verdana, arial, sans-serif; font-size: 14px; fill: rgb(42, 63, 95); opacity: 1; font-weight: normal; white-space: pre;\">Frecuencia</text></g><g class=\"g-ytitle\"/></g></svg>"
     },
     "metadata": {}
    }
   ],
   "metadata": {
    "collapsed": false,
    "pycharm": {
     "name": "#%%\n"
    }
   }
  },
  {
   "cell_type": "markdown",
   "source": [
    "## RATING COUNT"
   ],
   "metadata": {
    "collapsed": false
   }
  },
  {
   "cell_type": "code",
   "execution_count": 36,
   "source": [
    "datos = datos[datos['Rating Count'] > 0]\r\n",
    "rating_count = datos[datos['Rating Count'] < 80]"
   ],
   "outputs": [],
   "metadata": {
    "collapsed": false,
    "pycharm": {
     "name": "#%%\n"
    }
   }
  },
  {
   "cell_type": "code",
   "execution_count": 37,
   "source": [
    "rating_count_hist = go.Figure()\r\n",
    "\r\n",
    "rating_count_hist.add_trace(go.Histogram(\r\n",
    "    x = rating_count['Rating Count'] ,\r\n",
    "    marker = dict(color = '#0093E2'),\r\n",
    "    nbinsx = 15\r\n",
    "))\r\n",
    "rating_count_hist.update_layout(\r\n",
    "    width = 750,\r\n",
    "    margin = dict(r = 50, b = 60),\r\n",
    "    plot_bgcolor = '#E3E3D6',\r\n",
    "    title = dict(\r\n",
    "        font = dict(size = 26, color = '#0093E2'),\r\n",
    "        text = 'Histograma Número de Reviews<br>hasta 80 Ratings',\r\n",
    "        x = 0.5\r\n",
    "    ),\r\n",
    "    yaxis_title_text = 'Frecuencia',\r\n",
    "    xaxis = dict(\r\n",
    "        tick0 = 0, dtick = 5, range = (4, 81),\r\n",
    "        title_text = 'Número de Ratings'\r\n",
    "    )\r\n",
    ")\r\n",
    "rating_count_hist.show(renderer = 'svg')"
   ],
   "outputs": [
    {
     "output_type": "display_data",
     "data": {
      "image/svg+xml": "<svg class=\"main-svg\" xmlns=\"http://www.w3.org/2000/svg\" xmlns:xlink=\"http://www.w3.org/1999/xlink\" width=\"750\" height=\"500\" style=\"\" viewBox=\"0 0 750 500\"><rect x=\"0\" y=\"0\" width=\"750\" height=\"500\" style=\"fill: rgb(255, 255, 255); fill-opacity: 1;\"/><defs id=\"defs-34d0d5\"><g class=\"clips\"><clipPath id=\"clip34d0d5xyplot\" class=\"plotclip\"><rect width=\"620\" height=\"340\"/></clipPath><clipPath class=\"axesclip\" id=\"clip34d0d5x\"><rect x=\"80\" y=\"0\" width=\"620\" height=\"500\"/></clipPath><clipPath class=\"axesclip\" id=\"clip34d0d5y\"><rect x=\"0\" y=\"100\" width=\"750\" height=\"340\"/></clipPath><clipPath class=\"axesclip\" id=\"clip34d0d5xy\"><rect x=\"80\" y=\"100\" width=\"620\" height=\"340\"/></clipPath></g><g class=\"gradients\"/><g class=\"patterns\"/></defs><g class=\"bglayer\"><rect class=\"bg\" x=\"80\" y=\"100\" width=\"620\" height=\"340\" style=\"fill: rgb(227, 227, 214); fill-opacity: 1; stroke-width: 0;\"/></g><g class=\"layer-below\"><g class=\"imagelayer\"/><g class=\"shapelayer\"/></g><g class=\"cartesianlayer\"><g class=\"subplot xy\"><g class=\"layer-subplot\"><g class=\"shapelayer\"/><g class=\"imagelayer\"/></g><g class=\"gridlayer\"><g class=\"x\"/><g class=\"y\"><path class=\"ygrid crisp\" transform=\"translate(0,379.24)\" d=\"M80,0h620\" style=\"stroke: rgb(255, 255, 255); stroke-opacity: 1; stroke-width: 1px;\"/><path class=\"ygrid crisp\" transform=\"translate(0,318.48)\" d=\"M80,0h620\" style=\"stroke: rgb(255, 255, 255); stroke-opacity: 1; stroke-width: 1px;\"/><path class=\"ygrid crisp\" transform=\"translate(0,257.73)\" d=\"M80,0h620\" style=\"stroke: rgb(255, 255, 255); stroke-opacity: 1; stroke-width: 1px;\"/><path class=\"ygrid crisp\" transform=\"translate(0,196.97)\" d=\"M80,0h620\" style=\"stroke: rgb(255, 255, 255); stroke-opacity: 1; stroke-width: 1px;\"/><path class=\"ygrid crisp\" transform=\"translate(0,136.21)\" d=\"M80,0h620\" style=\"stroke: rgb(255, 255, 255); stroke-opacity: 1; stroke-width: 1px;\"/></g></g><g class=\"zerolinelayer\"><path class=\"yzl zl crisp\" transform=\"translate(0,440)\" d=\"M80,0h620\" style=\"stroke: rgb(255, 255, 255); stroke-opacity: 1; stroke-width: 2px;\"/></g><path class=\"xlines-below\"/><path class=\"ylines-below\"/><g class=\"overlines-below\"/><g class=\"xaxislayer-below\"/><g class=\"yaxislayer-below\"/><g class=\"overaxes-below\"/><g class=\"plot\" transform=\"translate(80,100)\" clip-path=\"url(#clip34d0d5xyplot)\"><g class=\"barlayer mlayer\"><g class=\"trace bars\" shape-rendering=\"crispEdges\" style=\"opacity: 1;\"><g class=\"points\"><g class=\"point\"><path d=\"M4.03,340V17H44.29V340Z\" style=\"vector-effect: non-scaling-stroke; opacity: 1; stroke-width: 0px; fill: rgb(0, 147, 226); fill-opacity: 1;\"/></g><g class=\"point\"><path d=\"M44.29,340V158.91H84.55V340Z\" style=\"vector-effect: non-scaling-stroke; opacity: 1; stroke-width: 0px; fill: rgb(0, 147, 226); fill-opacity: 1;\"/></g><g class=\"point\"><path d=\"M84.55,340V216.89H124.81V340Z\" style=\"vector-effect: non-scaling-stroke; opacity: 1; stroke-width: 0px; fill: rgb(0, 147, 226); fill-opacity: 1;\"/></g><g class=\"point\"><path d=\"M124.81,340V247.03H165.06V340Z\" style=\"vector-effect: non-scaling-stroke; opacity: 1; stroke-width: 0px; fill: rgb(0, 147, 226); fill-opacity: 1;\"/></g><g class=\"point\"><path d=\"M165.06,340V267.9H205.32V340Z\" style=\"vector-effect: non-scaling-stroke; opacity: 1; stroke-width: 0px; fill: rgb(0, 147, 226); fill-opacity: 1;\"/></g><g class=\"point\"><path d=\"M205.32,340V280.56H245.58V340Z\" style=\"vector-effect: non-scaling-stroke; opacity: 1; stroke-width: 0px; fill: rgb(0, 147, 226); fill-opacity: 1;\"/></g><g class=\"point\"><path d=\"M245.58,340V290.1H285.84V340Z\" style=\"vector-effect: non-scaling-stroke; opacity: 1; stroke-width: 0px; fill: rgb(0, 147, 226); fill-opacity: 1;\"/></g><g class=\"point\"><path d=\"M285.84,340V296.86H326.1V340Z\" style=\"vector-effect: non-scaling-stroke; opacity: 1; stroke-width: 0px; fill: rgb(0, 147, 226); fill-opacity: 1;\"/></g><g class=\"point\"><path d=\"M326.1,340V302.75H366.36V340Z\" style=\"vector-effect: non-scaling-stroke; opacity: 1; stroke-width: 0px; fill: rgb(0, 147, 226); fill-opacity: 1;\"/></g><g class=\"point\"><path d=\"M366.36,340V306.62H406.62V340Z\" style=\"vector-effect: non-scaling-stroke; opacity: 1; stroke-width: 0px; fill: rgb(0, 147, 226); fill-opacity: 1;\"/></g><g class=\"point\"><path d=\"M406.62,340V309.94H446.88V340Z\" style=\"vector-effect: non-scaling-stroke; opacity: 1; stroke-width: 0px; fill: rgb(0, 147, 226); fill-opacity: 1;\"/></g><g class=\"point\"><path d=\"M446.88,340V312.5H487.14V340Z\" style=\"vector-effect: non-scaling-stroke; opacity: 1; stroke-width: 0px; fill: rgb(0, 147, 226); fill-opacity: 1;\"/></g><g class=\"point\"><path d=\"M487.14,340V315.23H527.4V340Z\" style=\"vector-effect: non-scaling-stroke; opacity: 1; stroke-width: 0px; fill: rgb(0, 147, 226); fill-opacity: 1;\"/></g><g class=\"point\"><path d=\"M527.4,340V317.58H567.66V340Z\" style=\"vector-effect: non-scaling-stroke; opacity: 1; stroke-width: 0px; fill: rgb(0, 147, 226); fill-opacity: 1;\"/></g><g class=\"point\"><path d=\"M567.66,340V318.81H607.92V340Z\" style=\"vector-effect: non-scaling-stroke; opacity: 1; stroke-width: 0px; fill: rgb(0, 147, 226); fill-opacity: 1;\"/></g></g></g></g></g><g class=\"overplot\"/><path class=\"xlines-above crisp\" d=\"M0,0\" style=\"fill: none;\"/><path class=\"ylines-above crisp\" d=\"M0,0\" style=\"fill: none;\"/><g class=\"overlines-above\"/><g class=\"xaxislayer-above\"><g class=\"xtick\"><text text-anchor=\"middle\" x=\"0\" y=\"453\" transform=\"translate(88.05,0)\" style=\"font-family: 'Open Sans', verdana, arial, sans-serif; font-size: 12px; fill: rgb(42, 63, 95); fill-opacity: 1; white-space: pre; opacity: 1;\">5</text></g><g class=\"xtick\"><text text-anchor=\"middle\" x=\"0\" y=\"453\" style=\"font-family: 'Open Sans', verdana, arial, sans-serif; font-size: 12px; fill: rgb(42, 63, 95); fill-opacity: 1; white-space: pre; opacity: 1;\" transform=\"translate(128.31,0)\">10</text></g><g class=\"xtick\"><text text-anchor=\"middle\" x=\"0\" y=\"453\" style=\"font-family: 'Open Sans', verdana, arial, sans-serif; font-size: 12px; fill: rgb(42, 63, 95); fill-opacity: 1; white-space: pre; opacity: 1;\" transform=\"translate(168.57,0)\">15</text></g><g class=\"xtick\"><text text-anchor=\"middle\" x=\"0\" y=\"453\" style=\"font-family: 'Open Sans', verdana, arial, sans-serif; font-size: 12px; fill: rgb(42, 63, 95); fill-opacity: 1; white-space: pre; opacity: 1;\" transform=\"translate(208.83,0)\">20</text></g><g class=\"xtick\"><text text-anchor=\"middle\" x=\"0\" y=\"453\" style=\"font-family: 'Open Sans', verdana, arial, sans-serif; font-size: 12px; fill: rgb(42, 63, 95); fill-opacity: 1; white-space: pre; opacity: 1;\" transform=\"translate(249.09,0)\">25</text></g><g class=\"xtick\"><text text-anchor=\"middle\" x=\"0\" y=\"453\" style=\"font-family: 'Open Sans', verdana, arial, sans-serif; font-size: 12px; fill: rgb(42, 63, 95); fill-opacity: 1; white-space: pre; opacity: 1;\" transform=\"translate(289.35,0)\">30</text></g><g class=\"xtick\"><text text-anchor=\"middle\" x=\"0\" y=\"453\" style=\"font-family: 'Open Sans', verdana, arial, sans-serif; font-size: 12px; fill: rgb(42, 63, 95); fill-opacity: 1; white-space: pre; opacity: 1;\" transform=\"translate(329.61,0)\">35</text></g><g class=\"xtick\"><text text-anchor=\"middle\" x=\"0\" y=\"453\" style=\"font-family: 'Open Sans', verdana, arial, sans-serif; font-size: 12px; fill: rgb(42, 63, 95); fill-opacity: 1; white-space: pre; opacity: 1;\" transform=\"translate(369.87,0)\">40</text></g><g class=\"xtick\"><text text-anchor=\"middle\" x=\"0\" y=\"453\" style=\"font-family: 'Open Sans', verdana, arial, sans-serif; font-size: 12px; fill: rgb(42, 63, 95); fill-opacity: 1; white-space: pre; opacity: 1;\" transform=\"translate(410.13,0)\">45</text></g><g class=\"xtick\"><text text-anchor=\"middle\" x=\"0\" y=\"453\" style=\"font-family: 'Open Sans', verdana, arial, sans-serif; font-size: 12px; fill: rgb(42, 63, 95); fill-opacity: 1; white-space: pre; opacity: 1;\" transform=\"translate(450.39,0)\">50</text></g><g class=\"xtick\"><text text-anchor=\"middle\" x=\"0\" y=\"453\" style=\"font-family: 'Open Sans', verdana, arial, sans-serif; font-size: 12px; fill: rgb(42, 63, 95); fill-opacity: 1; white-space: pre; opacity: 1;\" transform=\"translate(490.65,0)\">55</text></g><g class=\"xtick\"><text text-anchor=\"middle\" x=\"0\" y=\"453\" style=\"font-family: 'Open Sans', verdana, arial, sans-serif; font-size: 12px; fill: rgb(42, 63, 95); fill-opacity: 1; white-space: pre; opacity: 1;\" transform=\"translate(530.9100000000001,0)\">60</text></g><g class=\"xtick\"><text text-anchor=\"middle\" x=\"0\" y=\"453\" style=\"font-family: 'Open Sans', verdana, arial, sans-serif; font-size: 12px; fill: rgb(42, 63, 95); fill-opacity: 1; white-space: pre; opacity: 1;\" transform=\"translate(571.1700000000001,0)\">65</text></g><g class=\"xtick\"><text text-anchor=\"middle\" x=\"0\" y=\"453\" style=\"font-family: 'Open Sans', verdana, arial, sans-serif; font-size: 12px; fill: rgb(42, 63, 95); fill-opacity: 1; white-space: pre; opacity: 1;\" transform=\"translate(611.43,0)\">70</text></g><g class=\"xtick\"><text text-anchor=\"middle\" x=\"0\" y=\"453\" style=\"font-family: 'Open Sans', verdana, arial, sans-serif; font-size: 12px; fill: rgb(42, 63, 95); fill-opacity: 1; white-space: pre; opacity: 1;\" transform=\"translate(651.69,0)\">75</text></g><g class=\"xtick\"><text text-anchor=\"middle\" x=\"0\" y=\"453\" style=\"font-family: 'Open Sans', verdana, arial, sans-serif; font-size: 12px; fill: rgb(42, 63, 95); fill-opacity: 1; white-space: pre; opacity: 1;\" transform=\"translate(691.95,0)\">80</text></g></g><g class=\"yaxislayer-above\"><g class=\"ytick\"><text text-anchor=\"end\" x=\"79\" y=\"4.199999999999999\" transform=\"translate(0,440)\" style=\"font-family: 'Open Sans', verdana, arial, sans-serif; font-size: 12px; fill: rgb(42, 63, 95); fill-opacity: 1; white-space: pre; opacity: 1;\">0</text></g><g class=\"ytick\"><text text-anchor=\"end\" x=\"79\" y=\"4.199999999999999\" style=\"font-family: 'Open Sans', verdana, arial, sans-serif; font-size: 12px; fill: rgb(42, 63, 95); fill-opacity: 1; white-space: pre; opacity: 1;\" transform=\"translate(0,379.24)\">20k</text></g><g class=\"ytick\"><text text-anchor=\"end\" x=\"79\" y=\"4.199999999999999\" style=\"font-family: 'Open Sans', verdana, arial, sans-serif; font-size: 12px; fill: rgb(42, 63, 95); fill-opacity: 1; white-space: pre; opacity: 1;\" transform=\"translate(0,318.48)\">40k</text></g><g class=\"ytick\"><text text-anchor=\"end\" x=\"79\" y=\"4.199999999999999\" style=\"font-family: 'Open Sans', verdana, arial, sans-serif; font-size: 12px; fill: rgb(42, 63, 95); fill-opacity: 1; white-space: pre; opacity: 1;\" transform=\"translate(0,257.73)\">60k</text></g><g class=\"ytick\"><text text-anchor=\"end\" x=\"79\" y=\"4.199999999999999\" style=\"font-family: 'Open Sans', verdana, arial, sans-serif; font-size: 12px; fill: rgb(42, 63, 95); fill-opacity: 1; white-space: pre; opacity: 1;\" transform=\"translate(0,196.97)\">80k</text></g><g class=\"ytick\"><text text-anchor=\"end\" x=\"79\" y=\"4.199999999999999\" style=\"font-family: 'Open Sans', verdana, arial, sans-serif; font-size: 12px; fill: rgb(42, 63, 95); fill-opacity: 1; white-space: pre; opacity: 1;\" transform=\"translate(0,136.21)\">100k</text></g></g><g class=\"overaxes-above\"/></g></g><g class=\"polarlayer\"/><g class=\"ternarylayer\"/><g class=\"geolayer\"/><g class=\"funnelarealayer\"/><g class=\"pielayer\"/><g class=\"iciclelayer\"/><g class=\"treemaplayer\"/><g class=\"sunburstlayer\"/><g class=\"glimages\"/><defs id=\"topdefs-34d0d5\"><g class=\"clips\"/></defs><g class=\"layer-above\"><g class=\"imagelayer\"/><g class=\"shapelayer\"/></g><g class=\"infolayer\"><g class=\"g-gtitle\"><text class=\"gtitle\" x=\"375\" y=\"50\" text-anchor=\"middle\" dy=\"0em\" style=\"font-family: 'Open Sans', verdana, arial, sans-serif; font-size: 26px; fill: rgb(0, 147, 226); opacity: 1; font-weight: normal; white-space: pre;\"><tspan class=\"line\" dy=\"0em\" x=\"375\" y=\"50\">Histograma Número de Reviews</tspan><tspan class=\"line\" dy=\"1.3em\" x=\"375\" y=\"50\">hasta 80 Ratings</tspan></text></g><g class=\"g-xtitle\"><text class=\"xtitle\" x=\"390\" y=\"480.8\" text-anchor=\"middle\" style=\"font-family: 'Open Sans', verdana, arial, sans-serif; font-size: 14px; fill: rgb(42, 63, 95); opacity: 1; font-weight: normal; white-space: pre;\">Número de Ratings</text></g><g class=\"g-ytitle\"><text class=\"ytitle\" transform=\"rotate(-90,24.200000000000003,270)\" x=\"24.200000000000003\" y=\"270\" text-anchor=\"middle\" style=\"font-family: 'Open Sans', verdana, arial, sans-serif; font-size: 14px; fill: rgb(42, 63, 95); opacity: 1; font-weight: normal; white-space: pre;\">Frecuencia</text></g></g></svg>"
     },
     "metadata": {}
    }
   ],
   "metadata": {
    "collapsed": false,
    "pycharm": {
     "name": "#%%\n"
    }
   }
  },
  {
   "cell_type": "code",
   "execution_count": 38,
   "source": [
    "over_1Mr_less_30Mr = datos[(datos['Rating Count'] >= 1000000) & (datos['Rating Count'] <= 30000000)]"
   ],
   "outputs": [],
   "metadata": {
    "collapsed": false,
    "pycharm": {
     "name": "#%%\n"
    }
   }
  },
  {
   "cell_type": "code",
   "execution_count": 39,
   "source": [
    "rating_count_hist = go.Figure()\r\n",
    "\r\n",
    "rating_count_hist.add_trace(go.Histogram(\r\n",
    "    x = over_1Mr_less_30Mr['Rating Count'] ,\r\n",
    "    marker = dict(color = '#0093E2'),\r\n",
    "    nbinsx = 15\r\n",
    "))\r\n",
    "rating_count_hist.update_layout(\r\n",
    "    width = 750,\r\n",
    "    margin = dict(r = 40, b = 60),\r\n",
    "    plot_bgcolor = '#E3E3D6',\r\n",
    "    title = dict(\r\n",
    "        font = dict(size = 26, color = '#0093E2'),\r\n",
    "        text = 'Histograma Número de Reviews<br>desde 1M a 30M',\r\n",
    "        x = 0.5\r\n",
    "    ),\r\n",
    "    yaxis_title_text = 'Frecuencia',\r\n",
    "    xaxis = dict(\r\n",
    "        tick0 = 0, dtick = 2000000, range = (0, 30000000),\r\n",
    "        title_text = 'Número de Ratings'\r\n",
    "    )\r\n",
    ")\r\n",
    "rating_count_hist.show(renderer = 'svg')"
   ],
   "outputs": [
    {
     "output_type": "display_data",
     "data": {
      "image/svg+xml": "<svg class=\"main-svg\" xmlns=\"http://www.w3.org/2000/svg\" xmlns:xlink=\"http://www.w3.org/1999/xlink\" width=\"750\" height=\"500\" style=\"\" viewBox=\"0 0 750 500\"><rect x=\"0\" y=\"0\" width=\"750\" height=\"500\" style=\"fill: rgb(255, 255, 255); fill-opacity: 1;\"/><defs id=\"defs-f13845\"><g class=\"clips\"><clipPath id=\"clipf13845xyplot\" class=\"plotclip\"><rect width=\"630\" height=\"340\"/></clipPath><clipPath class=\"axesclip\" id=\"clipf13845x\"><rect x=\"80\" y=\"0\" width=\"630\" height=\"500\"/></clipPath><clipPath class=\"axesclip\" id=\"clipf13845y\"><rect x=\"0\" y=\"100\" width=\"750\" height=\"340\"/></clipPath><clipPath class=\"axesclip\" id=\"clipf13845xy\"><rect x=\"80\" y=\"100\" width=\"630\" height=\"340\"/></clipPath></g><g class=\"gradients\"/><g class=\"patterns\"/></defs><g class=\"bglayer\"><rect class=\"bg\" x=\"80\" y=\"100\" width=\"630\" height=\"340\" style=\"fill: rgb(227, 227, 214); fill-opacity: 1; stroke-width: 0;\"/></g><g class=\"layer-below\"><g class=\"imagelayer\"/><g class=\"shapelayer\"/></g><g class=\"cartesianlayer\"><g class=\"subplot xy\"><g class=\"layer-subplot\"><g class=\"shapelayer\"/><g class=\"imagelayer\"/></g><g class=\"gridlayer\"><g class=\"x\"/><g class=\"y\"><path class=\"ygrid crisp\" transform=\"translate(0,399.52)\" d=\"M80,0h630\" style=\"stroke: rgb(255, 255, 255); stroke-opacity: 1; stroke-width: 1px;\"/><path class=\"ygrid crisp\" transform=\"translate(0,359.05)\" d=\"M80,0h630\" style=\"stroke: rgb(255, 255, 255); stroke-opacity: 1; stroke-width: 1px;\"/><path class=\"ygrid crisp\" transform=\"translate(0,318.57)\" d=\"M80,0h630\" style=\"stroke: rgb(255, 255, 255); stroke-opacity: 1; stroke-width: 1px;\"/><path class=\"ygrid crisp\" transform=\"translate(0,278.1)\" d=\"M80,0h630\" style=\"stroke: rgb(255, 255, 255); stroke-opacity: 1; stroke-width: 1px;\"/><path class=\"ygrid crisp\" transform=\"translate(0,237.62)\" d=\"M80,0h630\" style=\"stroke: rgb(255, 255, 255); stroke-opacity: 1; stroke-width: 1px;\"/><path class=\"ygrid crisp\" transform=\"translate(0,197.14)\" d=\"M80,0h630\" style=\"stroke: rgb(255, 255, 255); stroke-opacity: 1; stroke-width: 1px;\"/><path class=\"ygrid crisp\" transform=\"translate(0,156.67000000000002)\" d=\"M80,0h630\" style=\"stroke: rgb(255, 255, 255); stroke-opacity: 1; stroke-width: 1px;\"/><path class=\"ygrid crisp\" transform=\"translate(0,116.19)\" d=\"M80,0h630\" style=\"stroke: rgb(255, 255, 255); stroke-opacity: 1; stroke-width: 1px;\"/></g></g><g class=\"zerolinelayer\"><path class=\"yzl zl crisp\" transform=\"translate(0,440)\" d=\"M80,0h630\" style=\"stroke: rgb(255, 255, 255); stroke-opacity: 1; stroke-width: 2px;\"/></g><path class=\"xlines-below\"/><path class=\"ylines-below\"/><g class=\"overlines-below\"/><g class=\"xaxislayer-below\"/><g class=\"yaxislayer-below\"/><g class=\"overaxes-below\"/><g class=\"plot\" transform=\"translate(80,100)\" clip-path=\"url(#clipf13845xyplot)\"><g class=\"barlayer mlayer\"><g class=\"trace bars\" shape-rendering=\"crispEdges\" style=\"opacity: 1;\"><g class=\"points\"><g class=\"point\"><path d=\"M0,340V17H42V340Z\" style=\"vector-effect: non-scaling-stroke; opacity: 1; stroke-width: 0px; fill: rgb(0, 147, 226); fill-opacity: 1;\"/></g><g class=\"point\"><path d=\"M42,340V209.67H84V340Z\" style=\"vector-effect: non-scaling-stroke; opacity: 1; stroke-width: 0px; fill: rgb(0, 147, 226); fill-opacity: 1;\"/></g><g class=\"point\"><path d=\"M84,340V292.24H126V340Z\" style=\"vector-effect: non-scaling-stroke; opacity: 1; stroke-width: 0px; fill: rgb(0, 147, 226); fill-opacity: 1;\"/></g><g class=\"point\"><path d=\"M126,340V314.9H168V340Z\" style=\"vector-effect: non-scaling-stroke; opacity: 1; stroke-width: 0px; fill: rgb(0, 147, 226); fill-opacity: 1;\"/></g><g class=\"point\"><path d=\"M168,340V331.1H210V340Z\" style=\"vector-effect: non-scaling-stroke; opacity: 1; stroke-width: 0px; fill: rgb(0, 147, 226); fill-opacity: 1;\"/></g><g class=\"point\"><path d=\"M210,340V329.48H252V340Z\" style=\"vector-effect: non-scaling-stroke; opacity: 1; stroke-width: 0px; fill: rgb(0, 147, 226); fill-opacity: 1;\"/></g><g class=\"point\"><path d=\"M252,340V335.95H294V340Z\" style=\"vector-effect: non-scaling-stroke; opacity: 1; stroke-width: 0px; fill: rgb(0, 147, 226); fill-opacity: 1;\"/></g><g class=\"point\"><path d=\"M294,340V335.14H336V340Z\" style=\"vector-effect: non-scaling-stroke; opacity: 1; stroke-width: 0px; fill: rgb(0, 147, 226); fill-opacity: 1;\"/></g><g class=\"point\"><path d=\"M336,340V335.14H378V340Z\" style=\"vector-effect: non-scaling-stroke; opacity: 1; stroke-width: 0px; fill: rgb(0, 147, 226); fill-opacity: 1;\"/></g><g class=\"point\"><path d=\"M0,0Z\" style=\"vector-effect: non-scaling-stroke; opacity: 1; stroke-width: 0px; fill: rgb(0, 147, 226); fill-opacity: 1;\"/></g><g class=\"point\"><path d=\"M420,340V337.57H462V340Z\" style=\"vector-effect: non-scaling-stroke; opacity: 1; stroke-width: 0px; fill: rgb(0, 147, 226); fill-opacity: 1;\"/></g><g class=\"point\"><path d=\"M0,0Z\" style=\"vector-effect: non-scaling-stroke; opacity: 1; stroke-width: 0px; fill: rgb(0, 147, 226); fill-opacity: 1;\"/></g><g class=\"point\"><path d=\"M504,340V338.38H546V340Z\" style=\"vector-effect: non-scaling-stroke; opacity: 1; stroke-width: 0px; fill: rgb(0, 147, 226); fill-opacity: 1;\"/></g><g class=\"point\"><path d=\"M546,340V339.19H588V340Z\" style=\"vector-effect: non-scaling-stroke; opacity: 1; stroke-width: 0px; fill: rgb(0, 147, 226); fill-opacity: 1;\"/></g><g class=\"point\"><path d=\"M588,340V337.57H630V340Z\" style=\"vector-effect: non-scaling-stroke; opacity: 1; stroke-width: 0px; fill: rgb(0, 147, 226); fill-opacity: 1;\"/></g></g></g></g></g><g class=\"overplot\"/><path class=\"xlines-above crisp\" d=\"M0,0\" style=\"fill: none;\"/><path class=\"ylines-above crisp\" d=\"M0,0\" style=\"fill: none;\"/><g class=\"overlines-above\"/><g class=\"xaxislayer-above\"><g class=\"xtick\"><text text-anchor=\"middle\" x=\"0\" y=\"453\" transform=\"translate(80,0)\" style=\"font-family: 'Open Sans', verdana, arial, sans-serif; font-size: 12px; fill: rgb(42, 63, 95); fill-opacity: 1; white-space: pre; opacity: 1;\">0</text></g><g class=\"xtick\"><text text-anchor=\"middle\" x=\"0\" y=\"453\" style=\"font-family: 'Open Sans', verdana, arial, sans-serif; font-size: 12px; fill: rgb(42, 63, 95); fill-opacity: 1; white-space: pre; opacity: 1;\" transform=\"translate(122,0)\">2M</text></g><g class=\"xtick\"><text text-anchor=\"middle\" x=\"0\" y=\"453\" style=\"font-family: 'Open Sans', verdana, arial, sans-serif; font-size: 12px; fill: rgb(42, 63, 95); fill-opacity: 1; white-space: pre; opacity: 1;\" transform=\"translate(164,0)\">4M</text></g><g class=\"xtick\"><text text-anchor=\"middle\" x=\"0\" y=\"453\" style=\"font-family: 'Open Sans', verdana, arial, sans-serif; font-size: 12px; fill: rgb(42, 63, 95); fill-opacity: 1; white-space: pre; opacity: 1;\" transform=\"translate(206,0)\">6M</text></g><g class=\"xtick\"><text text-anchor=\"middle\" x=\"0\" y=\"453\" style=\"font-family: 'Open Sans', verdana, arial, sans-serif; font-size: 12px; fill: rgb(42, 63, 95); fill-opacity: 1; white-space: pre; opacity: 1;\" transform=\"translate(248,0)\">8M</text></g><g class=\"xtick\"><text text-anchor=\"middle\" x=\"0\" y=\"453\" style=\"font-family: 'Open Sans', verdana, arial, sans-serif; font-size: 12px; fill: rgb(42, 63, 95); fill-opacity: 1; white-space: pre; opacity: 1;\" transform=\"translate(290,0)\">10M</text></g><g class=\"xtick\"><text text-anchor=\"middle\" x=\"0\" y=\"453\" style=\"font-family: 'Open Sans', verdana, arial, sans-serif; font-size: 12px; fill: rgb(42, 63, 95); fill-opacity: 1; white-space: pre; opacity: 1;\" transform=\"translate(332,0)\">12M</text></g><g class=\"xtick\"><text text-anchor=\"middle\" x=\"0\" y=\"453\" style=\"font-family: 'Open Sans', verdana, arial, sans-serif; font-size: 12px; fill: rgb(42, 63, 95); fill-opacity: 1; white-space: pre; opacity: 1;\" transform=\"translate(374,0)\">14M</text></g><g class=\"xtick\"><text text-anchor=\"middle\" x=\"0\" y=\"453\" style=\"font-family: 'Open Sans', verdana, arial, sans-serif; font-size: 12px; fill: rgb(42, 63, 95); fill-opacity: 1; white-space: pre; opacity: 1;\" transform=\"translate(416,0)\">16M</text></g><g class=\"xtick\"><text text-anchor=\"middle\" x=\"0\" y=\"453\" style=\"font-family: 'Open Sans', verdana, arial, sans-serif; font-size: 12px; fill: rgb(42, 63, 95); fill-opacity: 1; white-space: pre; opacity: 1;\" transform=\"translate(458,0)\">18M</text></g><g class=\"xtick\"><text text-anchor=\"middle\" x=\"0\" y=\"453\" style=\"font-family: 'Open Sans', verdana, arial, sans-serif; font-size: 12px; fill: rgb(42, 63, 95); fill-opacity: 1; white-space: pre; opacity: 1;\" transform=\"translate(500,0)\">20M</text></g><g class=\"xtick\"><text text-anchor=\"middle\" x=\"0\" y=\"453\" style=\"font-family: 'Open Sans', verdana, arial, sans-serif; font-size: 12px; fill: rgb(42, 63, 95); fill-opacity: 1; white-space: pre; opacity: 1;\" transform=\"translate(542,0)\">22M</text></g><g class=\"xtick\"><text text-anchor=\"middle\" x=\"0\" y=\"453\" style=\"font-family: 'Open Sans', verdana, arial, sans-serif; font-size: 12px; fill: rgb(42, 63, 95); fill-opacity: 1; white-space: pre; opacity: 1;\" transform=\"translate(584,0)\">24M</text></g><g class=\"xtick\"><text text-anchor=\"middle\" x=\"0\" y=\"453\" style=\"font-family: 'Open Sans', verdana, arial, sans-serif; font-size: 12px; fill: rgb(42, 63, 95); fill-opacity: 1; white-space: pre; opacity: 1;\" transform=\"translate(626,0)\">26M</text></g><g class=\"xtick\"><text text-anchor=\"middle\" x=\"0\" y=\"453\" style=\"font-family: 'Open Sans', verdana, arial, sans-serif; font-size: 12px; fill: rgb(42, 63, 95); fill-opacity: 1; white-space: pre; opacity: 1;\" transform=\"translate(668,0)\">28M</text></g><g class=\"xtick\"><text text-anchor=\"middle\" x=\"0\" y=\"453\" style=\"font-family: 'Open Sans', verdana, arial, sans-serif; font-size: 12px; fill: rgb(42, 63, 95); fill-opacity: 1; white-space: pre; opacity: 1;\" transform=\"translate(710,0)\">30M</text></g></g><g class=\"yaxislayer-above\"><g class=\"ytick\"><text text-anchor=\"end\" x=\"79\" y=\"4.199999999999999\" transform=\"translate(0,440)\" style=\"font-family: 'Open Sans', verdana, arial, sans-serif; font-size: 12px; fill: rgb(42, 63, 95); fill-opacity: 1; white-space: pre; opacity: 1;\">0</text></g><g class=\"ytick\"><text text-anchor=\"end\" x=\"79\" y=\"4.199999999999999\" style=\"font-family: 'Open Sans', verdana, arial, sans-serif; font-size: 12px; fill: rgb(42, 63, 95); fill-opacity: 1; white-space: pre; opacity: 1;\" transform=\"translate(0,399.52)\">50</text></g><g class=\"ytick\"><text text-anchor=\"end\" x=\"79\" y=\"4.199999999999999\" style=\"font-family: 'Open Sans', verdana, arial, sans-serif; font-size: 12px; fill: rgb(42, 63, 95); fill-opacity: 1; white-space: pre; opacity: 1;\" transform=\"translate(0,359.05)\">100</text></g><g class=\"ytick\"><text text-anchor=\"end\" x=\"79\" y=\"4.199999999999999\" style=\"font-family: 'Open Sans', verdana, arial, sans-serif; font-size: 12px; fill: rgb(42, 63, 95); fill-opacity: 1; white-space: pre; opacity: 1;\" transform=\"translate(0,318.57)\">150</text></g><g class=\"ytick\"><text text-anchor=\"end\" x=\"79\" y=\"4.199999999999999\" style=\"font-family: 'Open Sans', verdana, arial, sans-serif; font-size: 12px; fill: rgb(42, 63, 95); fill-opacity: 1; white-space: pre; opacity: 1;\" transform=\"translate(0,278.1)\">200</text></g><g class=\"ytick\"><text text-anchor=\"end\" x=\"79\" y=\"4.199999999999999\" style=\"font-family: 'Open Sans', verdana, arial, sans-serif; font-size: 12px; fill: rgb(42, 63, 95); fill-opacity: 1; white-space: pre; opacity: 1;\" transform=\"translate(0,237.62)\">250</text></g><g class=\"ytick\"><text text-anchor=\"end\" x=\"79\" y=\"4.199999999999999\" style=\"font-family: 'Open Sans', verdana, arial, sans-serif; font-size: 12px; fill: rgb(42, 63, 95); fill-opacity: 1; white-space: pre; opacity: 1;\" transform=\"translate(0,197.14)\">300</text></g><g class=\"ytick\"><text text-anchor=\"end\" x=\"79\" y=\"4.199999999999999\" style=\"font-family: 'Open Sans', verdana, arial, sans-serif; font-size: 12px; fill: rgb(42, 63, 95); fill-opacity: 1; white-space: pre; opacity: 1;\" transform=\"translate(0,156.67000000000002)\">350</text></g><g class=\"ytick\"><text text-anchor=\"end\" x=\"79\" y=\"4.199999999999999\" style=\"font-family: 'Open Sans', verdana, arial, sans-serif; font-size: 12px; fill: rgb(42, 63, 95); fill-opacity: 1; white-space: pre; opacity: 1;\" transform=\"translate(0,116.19)\">400</text></g></g><g class=\"overaxes-above\"/></g></g><g class=\"polarlayer\"/><g class=\"ternarylayer\"/><g class=\"geolayer\"/><g class=\"funnelarealayer\"/><g class=\"pielayer\"/><g class=\"iciclelayer\"/><g class=\"treemaplayer\"/><g class=\"sunburstlayer\"/><g class=\"glimages\"/><defs id=\"topdefs-f13845\"><g class=\"clips\"/></defs><g class=\"layer-above\"><g class=\"imagelayer\"/><g class=\"shapelayer\"/></g><g class=\"infolayer\"><g class=\"g-gtitle\"><text class=\"gtitle\" x=\"375\" y=\"50\" text-anchor=\"middle\" dy=\"0em\" style=\"font-family: 'Open Sans', verdana, arial, sans-serif; font-size: 26px; fill: rgb(0, 147, 226); opacity: 1; font-weight: normal; white-space: pre;\"><tspan class=\"line\" dy=\"0em\" x=\"375\" y=\"50\">Histograma Número de Reviews</tspan><tspan class=\"line\" dy=\"1.3em\" x=\"375\" y=\"50\">desde 1M a 30M</tspan></text></g><g class=\"g-xtitle\"><text class=\"xtitle\" x=\"395\" y=\"480.8\" text-anchor=\"middle\" style=\"font-family: 'Open Sans', verdana, arial, sans-serif; font-size: 14px; fill: rgb(42, 63, 95); opacity: 1; font-weight: normal; white-space: pre;\">Número de Ratings</text></g><g class=\"g-ytitle\"><text class=\"ytitle\" transform=\"rotate(-90,31.309375000000003,270)\" x=\"31.309375000000003\" y=\"270\" text-anchor=\"middle\" style=\"font-family: 'Open Sans', verdana, arial, sans-serif; font-size: 14px; fill: rgb(42, 63, 95); opacity: 1; font-weight: normal; white-space: pre;\">Frecuencia</text></g></g></svg>"
     },
     "metadata": {}
    }
   ],
   "metadata": {
    "collapsed": false,
    "pycharm": {
     "name": "#%%\n"
    }
   }
  },
  {
   "cell_type": "markdown",
   "source": [
    "## VERSIÓN MÍNIMA DE ANDROID"
   ],
   "metadata": {
    "collapsed": false
   }
  },
  {
   "cell_type": "code",
   "execution_count": 40,
   "source": [
    "android_hist = go.Figure()\r\n",
    "\r\n",
    "android_hist.add_trace(go.Histogram(\r\n",
    "    x = datos['Minimum Android'],\r\n",
    "    marker = dict(color = '#00621A'),\r\n",
    "    nbinsx = 8\r\n",
    "))\r\n",
    "android_hist.update_layout(\r\n",
    "    width = 750,\r\n",
    "    margin = dict(r = 50, b = 60),\r\n",
    "    plot_bgcolor = '#E3E3D6',\r\n",
    "    title = dict(\r\n",
    "        font = dict(size = 26, color = '#00621A'),\r\n",
    "        text = 'Histograma Versión Mínima de Android',\r\n",
    "        x = 0.5\r\n",
    "    ),\r\n",
    "    xaxis = dict(\r\n",
    "        title_text = 'Versión'\r\n",
    "    ),\r\n",
    "    yaxis_title_text = 'Frecuencia',\r\n",
    ")\r\n",
    "android_hist.show(renderer = 'svg')"
   ],
   "outputs": [
    {
     "output_type": "display_data",
     "data": {
      "image/svg+xml": "<svg class=\"main-svg\" xmlns=\"http://www.w3.org/2000/svg\" xmlns:xlink=\"http://www.w3.org/1999/xlink\" width=\"750\" height=\"500\" style=\"\" viewBox=\"0 0 750 500\"><rect x=\"0\" y=\"0\" width=\"750\" height=\"500\" style=\"fill: rgb(255, 255, 255); fill-opacity: 1;\"/><defs id=\"defs-13727b\"><g class=\"clips\"><clipPath id=\"clip13727bxyplot\" class=\"plotclip\"><rect width=\"620\" height=\"340\"/></clipPath><clipPath class=\"axesclip\" id=\"clip13727bx\"><rect x=\"80\" y=\"0\" width=\"620\" height=\"500\"/></clipPath><clipPath class=\"axesclip\" id=\"clip13727by\"><rect x=\"0\" y=\"100\" width=\"750\" height=\"340\"/></clipPath><clipPath class=\"axesclip\" id=\"clip13727bxy\"><rect x=\"80\" y=\"100\" width=\"620\" height=\"340\"/></clipPath></g><g class=\"gradients\"/><g class=\"patterns\"/></defs><g class=\"bglayer\"><rect class=\"bg\" x=\"80\" y=\"100\" width=\"620\" height=\"340\" style=\"fill: rgb(227, 227, 214); fill-opacity: 1; stroke-width: 0;\"/></g><g class=\"layer-below\"><g class=\"imagelayer\"/><g class=\"shapelayer\"/></g><g class=\"cartesianlayer\"><g class=\"subplot xy\"><g class=\"layer-subplot\"><g class=\"shapelayer\"/><g class=\"imagelayer\"/></g><g class=\"gridlayer\"><g class=\"x\"/><g class=\"y\"><path class=\"ygrid crisp\" transform=\"translate(0,374.79)\" d=\"M80,0h620\" style=\"stroke: rgb(255, 255, 255); stroke-opacity: 1; stroke-width: 1px;\"/><path class=\"ygrid crisp\" transform=\"translate(0,309.58000000000004)\" d=\"M80,0h620\" style=\"stroke: rgb(255, 255, 255); stroke-opacity: 1; stroke-width: 1px;\"/><path class=\"ygrid crisp\" transform=\"translate(0,244.37)\" d=\"M80,0h620\" style=\"stroke: rgb(255, 255, 255); stroke-opacity: 1; stroke-width: 1px;\"/><path class=\"ygrid crisp\" transform=\"translate(0,179.17000000000002)\" d=\"M80,0h620\" style=\"stroke: rgb(255, 255, 255); stroke-opacity: 1; stroke-width: 1px;\"/><path class=\"ygrid crisp\" transform=\"translate(0,113.96000000000001)\" d=\"M80,0h620\" style=\"stroke: rgb(255, 255, 255); stroke-opacity: 1; stroke-width: 1px;\"/></g></g><g class=\"zerolinelayer\"><path class=\"yzl zl crisp\" transform=\"translate(0,440)\" d=\"M80,0h620\" style=\"stroke: rgb(255, 255, 255); stroke-opacity: 1; stroke-width: 2px;\"/></g><path class=\"xlines-below\"/><path class=\"ylines-below\"/><g class=\"overlines-below\"/><g class=\"xaxislayer-below\"/><g class=\"yaxislayer-below\"/><g class=\"overaxes-below\"/><g class=\"plot\" transform=\"translate(80,100)\" clip-path=\"url(#clip13727bxyplot)\"><g class=\"barlayer mlayer\"><g class=\"trace bars\" shape-rendering=\"crispEdges\" style=\"opacity: 1;\"><g class=\"points\"><g class=\"point\"><path d=\"M0,340V339.88H77.5V340Z\" style=\"vector-effect: non-scaling-stroke; opacity: 1; stroke-width: 0px; fill: rgb(0, 98, 26); fill-opacity: 1;\"/></g><g class=\"point\"><path d=\"M77.5,340V301.14H155V340Z\" style=\"vector-effect: non-scaling-stroke; opacity: 1; stroke-width: 0px; fill: rgb(0, 98, 26); fill-opacity: 1;\"/></g><g class=\"point\"><path d=\"M155,340V334.15H232.5V340Z\" style=\"vector-effect: non-scaling-stroke; opacity: 1; stroke-width: 0px; fill: rgb(0, 98, 26); fill-opacity: 1;\"/></g><g class=\"point\"><path d=\"M232.5,340V17H310V340Z\" style=\"vector-effect: non-scaling-stroke; opacity: 1; stroke-width: 0px; fill: rgb(0, 98, 26); fill-opacity: 1;\"/></g><g class=\"point\"><path d=\"M310,340V280.96H387.5V340Z\" style=\"vector-effect: non-scaling-stroke; opacity: 1; stroke-width: 0px; fill: rgb(0, 98, 26); fill-opacity: 1;\"/></g><g class=\"point\"><path d=\"M387.5,340V330.88H465V340Z\" style=\"vector-effect: non-scaling-stroke; opacity: 1; stroke-width: 0px; fill: rgb(0, 98, 26); fill-opacity: 1;\"/></g><g class=\"point\"><path d=\"M465,340V336.23H542.5V340Z\" style=\"vector-effect: non-scaling-stroke; opacity: 1; stroke-width: 0px; fill: rgb(0, 98, 26); fill-opacity: 1;\"/></g><g class=\"point\"><path d=\"M542.5,340V338.74H620V340Z\" style=\"vector-effect: non-scaling-stroke; opacity: 1; stroke-width: 0px; fill: rgb(0, 98, 26); fill-opacity: 1;\"/></g></g></g></g></g><g class=\"overplot\"/><path class=\"xlines-above crisp\" d=\"M0,0\" style=\"fill: none;\"/><path class=\"ylines-above crisp\" d=\"M0,0\" style=\"fill: none;\"/><g class=\"overlines-above\"/><g class=\"xaxislayer-above\"><g class=\"xtick\"><text text-anchor=\"middle\" x=\"0\" y=\"453\" transform=\"translate(118.75,0)\" style=\"font-family: 'Open Sans', verdana, arial, sans-serif; font-size: 12px; fill: rgb(42, 63, 95); fill-opacity: 1; white-space: pre; opacity: 1;\">1</text></g><g class=\"xtick\"><text text-anchor=\"middle\" x=\"0\" y=\"453\" style=\"font-family: 'Open Sans', verdana, arial, sans-serif; font-size: 12px; fill: rgb(42, 63, 95); fill-opacity: 1; white-space: pre; opacity: 1;\" transform=\"translate(196.25,0)\">2</text></g><g class=\"xtick\"><text text-anchor=\"middle\" x=\"0\" y=\"453\" style=\"font-family: 'Open Sans', verdana, arial, sans-serif; font-size: 12px; fill: rgb(42, 63, 95); fill-opacity: 1; white-space: pre; opacity: 1;\" transform=\"translate(273.75,0)\">3</text></g><g class=\"xtick\"><text text-anchor=\"middle\" x=\"0\" y=\"453\" style=\"font-family: 'Open Sans', verdana, arial, sans-serif; font-size: 12px; fill: rgb(42, 63, 95); fill-opacity: 1; white-space: pre; opacity: 1;\" transform=\"translate(351.25,0)\">4</text></g><g class=\"xtick\"><text text-anchor=\"middle\" x=\"0\" y=\"453\" style=\"font-family: 'Open Sans', verdana, arial, sans-serif; font-size: 12px; fill: rgb(42, 63, 95); fill-opacity: 1; white-space: pre; opacity: 1;\" transform=\"translate(428.75,0)\">5</text></g><g class=\"xtick\"><text text-anchor=\"middle\" x=\"0\" y=\"453\" style=\"font-family: 'Open Sans', verdana, arial, sans-serif; font-size: 12px; fill: rgb(42, 63, 95); fill-opacity: 1; white-space: pre; opacity: 1;\" transform=\"translate(506.25,0)\">6</text></g><g class=\"xtick\"><text text-anchor=\"middle\" x=\"0\" y=\"453\" style=\"font-family: 'Open Sans', verdana, arial, sans-serif; font-size: 12px; fill: rgb(42, 63, 95); fill-opacity: 1; white-space: pre; opacity: 1;\" transform=\"translate(583.75,0)\">7</text></g><g class=\"xtick\"><text text-anchor=\"middle\" x=\"0\" y=\"453\" style=\"font-family: 'Open Sans', verdana, arial, sans-serif; font-size: 12px; fill: rgb(42, 63, 95); fill-opacity: 1; white-space: pre; opacity: 1;\" transform=\"translate(661.25,0)\">8</text></g></g><g class=\"yaxislayer-above\"><g class=\"ytick\"><text text-anchor=\"end\" x=\"79\" y=\"4.199999999999999\" transform=\"translate(0,440)\" style=\"font-family: 'Open Sans', verdana, arial, sans-serif; font-size: 12px; fill: rgb(42, 63, 95); fill-opacity: 1; white-space: pre; opacity: 1;\">0</text></g><g class=\"ytick\"><text text-anchor=\"end\" x=\"79\" y=\"4.199999999999999\" style=\"font-family: 'Open Sans', verdana, arial, sans-serif; font-size: 12px; fill: rgb(42, 63, 95); fill-opacity: 1; white-space: pre; opacity: 1;\" transform=\"translate(0,374.79)\">100k</text></g><g class=\"ytick\"><text text-anchor=\"end\" x=\"79\" y=\"4.199999999999999\" style=\"font-family: 'Open Sans', verdana, arial, sans-serif; font-size: 12px; fill: rgb(42, 63, 95); fill-opacity: 1; white-space: pre; opacity: 1;\" transform=\"translate(0,309.58000000000004)\">200k</text></g><g class=\"ytick\"><text text-anchor=\"end\" x=\"79\" y=\"4.199999999999999\" style=\"font-family: 'Open Sans', verdana, arial, sans-serif; font-size: 12px; fill: rgb(42, 63, 95); fill-opacity: 1; white-space: pre; opacity: 1;\" transform=\"translate(0,244.37)\">300k</text></g><g class=\"ytick\"><text text-anchor=\"end\" x=\"79\" y=\"4.199999999999999\" style=\"font-family: 'Open Sans', verdana, arial, sans-serif; font-size: 12px; fill: rgb(42, 63, 95); fill-opacity: 1; white-space: pre; opacity: 1;\" transform=\"translate(0,179.17000000000002)\">400k</text></g><g class=\"ytick\"><text text-anchor=\"end\" x=\"79\" y=\"4.199999999999999\" style=\"font-family: 'Open Sans', verdana, arial, sans-serif; font-size: 12px; fill: rgb(42, 63, 95); fill-opacity: 1; white-space: pre; opacity: 1;\" transform=\"translate(0,113.96000000000001)\">500k</text></g></g><g class=\"overaxes-above\"/></g></g><g class=\"polarlayer\"/><g class=\"ternarylayer\"/><g class=\"geolayer\"/><g class=\"funnelarealayer\"/><g class=\"pielayer\"/><g class=\"iciclelayer\"/><g class=\"treemaplayer\"/><g class=\"sunburstlayer\"/><g class=\"glimages\"/><defs id=\"topdefs-13727b\"><g class=\"clips\"/></defs><g class=\"layer-above\"><g class=\"imagelayer\"/><g class=\"shapelayer\"/></g><g class=\"infolayer\"><g class=\"g-gtitle\"><text class=\"gtitle\" x=\"375\" y=\"50\" text-anchor=\"middle\" dy=\"0em\" style=\"font-family: 'Open Sans', verdana, arial, sans-serif; font-size: 26px; fill: rgb(0, 98, 26); opacity: 1; font-weight: normal; white-space: pre;\">Histograma Versión Mínima de Android</text></g><g class=\"g-xtitle\"><text class=\"xtitle\" x=\"390\" y=\"480.8\" text-anchor=\"middle\" style=\"font-family: 'Open Sans', verdana, arial, sans-serif; font-size: 14px; fill: rgb(42, 63, 95); opacity: 1; font-weight: normal; white-space: pre;\">Versión</text></g><g class=\"g-ytitle\"><text class=\"ytitle\" transform=\"rotate(-90,24.200000000000003,270)\" x=\"24.200000000000003\" y=\"270\" text-anchor=\"middle\" style=\"font-family: 'Open Sans', verdana, arial, sans-serif; font-size: 14px; fill: rgb(42, 63, 95); opacity: 1; font-weight: normal; white-space: pre;\">Frecuencia</text></g></g></svg>"
     },
     "metadata": {}
    }
   ],
   "metadata": {
    "collapsed": false,
    "pycharm": {
     "name": "#%%\n"
    }
   }
  },
  {
   "cell_type": "markdown",
   "source": [
    "## TAMAÑO\n",
    "\n",
    "Se establece el tamaño hasta los 150.000 KB, dado que la mayoría de aplicaciones superiores a esta cantidad son traza y\n",
    "desfavorecen una correcta visibilidad de los datos."
   ],
   "metadata": {
    "collapsed": false
   }
  },
  {
   "cell_type": "code",
   "execution_count": 41,
   "source": [
    "size_hist = go.Figure()\r\n",
    "\r\n",
    "size_hist.add_trace(go.Histogram(\r\n",
    "    x = datos[datos['Size'] < 150000]['Size'],\r\n",
    "    marker = dict(color = '#761A16'),\r\n",
    "    nbinsx = 18\r\n",
    "))\r\n",
    "size_hist.update_layout(\r\n",
    "    width = 750,\r\n",
    "    margin = dict(r = 50, b = 60),\r\n",
    "    plot_bgcolor = '#E3E3D6',\r\n",
    "    title = dict(\r\n",
    "        font = dict(size = 26, color = '#761A16'),\r\n",
    "        text = 'Histograma Tamaño Aplicación',\r\n",
    "        x = 0.5\r\n",
    "    ),\r\n",
    "    titlefont_size = 26,\r\n",
    "    xaxis = dict(\r\n",
    "        tick0 = 0, dtick = 10000, range = (0, 150000),\r\n",
    "        title_text = 'Tamaño (KB)'\r\n",
    "    ),\r\n",
    "    yaxis_title_text = 'Frecuencia',\r\n",
    ")\r\n",
    "size_hist.show(renderer = 'svg')"
   ],
   "outputs": [
    {
     "output_type": "display_data",
     "data": {
      "image/svg+xml": "<svg class=\"main-svg\" xmlns=\"http://www.w3.org/2000/svg\" xmlns:xlink=\"http://www.w3.org/1999/xlink\" width=\"750\" height=\"500\" style=\"\" viewBox=\"0 0 750 500\"><rect x=\"0\" y=\"0\" width=\"750\" height=\"500\" style=\"fill: rgb(255, 255, 255); fill-opacity: 1;\"/><defs id=\"defs-23519c\"><g class=\"clips\"><clipPath id=\"clip23519cxyplot\" class=\"plotclip\"><rect width=\"620\" height=\"340\"/></clipPath><clipPath class=\"axesclip\" id=\"clip23519cx\"><rect x=\"80\" y=\"0\" width=\"620\" height=\"500\"/></clipPath><clipPath class=\"axesclip\" id=\"clip23519cy\"><rect x=\"0\" y=\"100\" width=\"750\" height=\"340\"/></clipPath><clipPath class=\"axesclip\" id=\"clip23519cxy\"><rect x=\"80\" y=\"100\" width=\"620\" height=\"340\"/></clipPath></g><g class=\"gradients\"/><g class=\"patterns\"/></defs><g class=\"bglayer\"><rect class=\"bg\" x=\"80\" y=\"100\" width=\"620\" height=\"340\" style=\"fill: rgb(227, 227, 214); fill-opacity: 1; stroke-width: 0;\"/></g><g class=\"layer-below\"><g class=\"imagelayer\"/><g class=\"shapelayer\"/></g><g class=\"cartesianlayer\"><g class=\"subplot xy\"><g class=\"layer-subplot\"><g class=\"shapelayer\"/><g class=\"imagelayer\"/></g><g class=\"gridlayer\"><g class=\"x\"/><g class=\"y\"><path class=\"ygrid crisp\" transform=\"translate(0,368.93)\" d=\"M80,0h620\" style=\"stroke: rgb(255, 255, 255); stroke-opacity: 1; stroke-width: 1px;\"/><path class=\"ygrid crisp\" transform=\"translate(0,297.87)\" d=\"M80,0h620\" style=\"stroke: rgb(255, 255, 255); stroke-opacity: 1; stroke-width: 1px;\"/><path class=\"ygrid crisp\" transform=\"translate(0,226.8)\" d=\"M80,0h620\" style=\"stroke: rgb(255, 255, 255); stroke-opacity: 1; stroke-width: 1px;\"/><path class=\"ygrid crisp\" transform=\"translate(0,155.73)\" d=\"M80,0h620\" style=\"stroke: rgb(255, 255, 255); stroke-opacity: 1; stroke-width: 1px;\"/></g></g><g class=\"zerolinelayer\"><path class=\"yzl zl crisp\" transform=\"translate(0,440)\" d=\"M80,0h620\" style=\"stroke: rgb(255, 255, 255); stroke-opacity: 1; stroke-width: 2px;\"/></g><path class=\"xlines-below\"/><path class=\"ylines-below\"/><g class=\"overlines-below\"/><g class=\"xaxislayer-below\"/><g class=\"yaxislayer-below\"/><g class=\"overaxes-below\"/><g class=\"plot\" transform=\"translate(80,100)\" clip-path=\"url(#clip23519cxyplot)\"><g class=\"barlayer mlayer\"><g class=\"trace bars\" shape-rendering=\"crispEdges\" style=\"opacity: 1;\"><g class=\"points\"><g class=\"point\"><path d=\"M-20.67,340V68.34H20.67V340Z\" style=\"vector-effect: non-scaling-stroke; opacity: 1; stroke-width: 0px; fill: rgb(118, 26, 22); fill-opacity: 1;\"/></g><g class=\"point\"><path d=\"M20.67,340V17H62V340Z\" style=\"vector-effect: non-scaling-stroke; opacity: 1; stroke-width: 0px; fill: rgb(118, 26, 22); fill-opacity: 1;\"/></g><g class=\"point\"><path d=\"M62,340V215.49H103.33V340Z\" style=\"vector-effect: non-scaling-stroke; opacity: 1; stroke-width: 0px; fill: rgb(118, 26, 22); fill-opacity: 1;\"/></g><g class=\"point\"><path d=\"M103.33,340V261.62H144.67V340Z\" style=\"vector-effect: non-scaling-stroke; opacity: 1; stroke-width: 0px; fill: rgb(118, 26, 22); fill-opacity: 1;\"/></g><g class=\"point\"><path d=\"M144.67,340V289.79H186V340Z\" style=\"vector-effect: non-scaling-stroke; opacity: 1; stroke-width: 0px; fill: rgb(118, 26, 22); fill-opacity: 1;\"/></g><g class=\"point\"><path d=\"M186,340V303.76H227.33V340Z\" style=\"vector-effect: non-scaling-stroke; opacity: 1; stroke-width: 0px; fill: rgb(118, 26, 22); fill-opacity: 1;\"/></g><g class=\"point\"><path d=\"M227.33,340V317.47H268.67V340Z\" style=\"vector-effect: non-scaling-stroke; opacity: 1; stroke-width: 0px; fill: rgb(118, 26, 22); fill-opacity: 1;\"/></g><g class=\"point\"><path d=\"M268.67,340V323.8H310V340Z\" style=\"vector-effect: non-scaling-stroke; opacity: 1; stroke-width: 0px; fill: rgb(118, 26, 22); fill-opacity: 1;\"/></g><g class=\"point\"><path d=\"M310,340V327.26H351.33V340Z\" style=\"vector-effect: non-scaling-stroke; opacity: 1; stroke-width: 0px; fill: rgb(118, 26, 22); fill-opacity: 1;\"/></g><g class=\"point\"><path d=\"M351.33,340V329.09H392.67V340Z\" style=\"vector-effect: non-scaling-stroke; opacity: 1; stroke-width: 0px; fill: rgb(118, 26, 22); fill-opacity: 1;\"/></g><g class=\"point\"><path d=\"M392.67,340V331.77H434V340Z\" style=\"vector-effect: non-scaling-stroke; opacity: 1; stroke-width: 0px; fill: rgb(118, 26, 22); fill-opacity: 1;\"/></g><g class=\"point\"><path d=\"M434,340V338.14H475.33V340Z\" style=\"vector-effect: non-scaling-stroke; opacity: 1; stroke-width: 0px; fill: rgb(118, 26, 22); fill-opacity: 1;\"/></g><g class=\"point\"><path d=\"M475.33,340V338.71H516.67V340Z\" style=\"vector-effect: non-scaling-stroke; opacity: 1; stroke-width: 0px; fill: rgb(118, 26, 22); fill-opacity: 1;\"/></g><g class=\"point\"><path d=\"M516.67,340V339.12H558V340Z\" style=\"vector-effect: non-scaling-stroke; opacity: 1; stroke-width: 0px; fill: rgb(118, 26, 22); fill-opacity: 1;\"/></g><g class=\"point\"><path d=\"M558,340V339.14H599.33V340Z\" style=\"vector-effect: non-scaling-stroke; opacity: 1; stroke-width: 0px; fill: rgb(118, 26, 22); fill-opacity: 1;\"/></g><g class=\"point\"><path d=\"M599.33,340V339.57H640.67V340Z\" style=\"vector-effect: non-scaling-stroke; opacity: 1; stroke-width: 0px; fill: rgb(118, 26, 22); fill-opacity: 1;\"/></g></g></g></g></g><g class=\"overplot\"/><path class=\"xlines-above crisp\" d=\"M0,0\" style=\"fill: none;\"/><path class=\"ylines-above crisp\" d=\"M0,0\" style=\"fill: none;\"/><g class=\"overlines-above\"/><g class=\"xaxislayer-above\"><g class=\"xtick\"><text text-anchor=\"middle\" x=\"0\" y=\"453\" transform=\"translate(80,0)\" style=\"font-family: 'Open Sans', verdana, arial, sans-serif; font-size: 12px; fill: rgb(42, 63, 95); fill-opacity: 1; white-space: pre; opacity: 1;\">0</text></g><g class=\"xtick\"><text text-anchor=\"middle\" x=\"0\" y=\"453\" style=\"font-family: 'Open Sans', verdana, arial, sans-serif; font-size: 12px; fill: rgb(42, 63, 95); fill-opacity: 1; white-space: pre; opacity: 1;\" transform=\"translate(121.33,0)\">10k</text></g><g class=\"xtick\"><text text-anchor=\"middle\" x=\"0\" y=\"453\" style=\"font-family: 'Open Sans', verdana, arial, sans-serif; font-size: 12px; fill: rgb(42, 63, 95); fill-opacity: 1; white-space: pre; opacity: 1;\" transform=\"translate(162.67000000000002,0)\">20k</text></g><g class=\"xtick\"><text text-anchor=\"middle\" x=\"0\" y=\"453\" style=\"font-family: 'Open Sans', verdana, arial, sans-serif; font-size: 12px; fill: rgb(42, 63, 95); fill-opacity: 1; white-space: pre; opacity: 1;\" transform=\"translate(204,0)\">30k</text></g><g class=\"xtick\"><text text-anchor=\"middle\" x=\"0\" y=\"453\" style=\"font-family: 'Open Sans', verdana, arial, sans-serif; font-size: 12px; fill: rgb(42, 63, 95); fill-opacity: 1; white-space: pre; opacity: 1;\" transform=\"translate(245.33,0)\">40k</text></g><g class=\"xtick\"><text text-anchor=\"middle\" x=\"0\" y=\"453\" style=\"font-family: 'Open Sans', verdana, arial, sans-serif; font-size: 12px; fill: rgb(42, 63, 95); fill-opacity: 1; white-space: pre; opacity: 1;\" transform=\"translate(286.66999999999996,0)\">50k</text></g><g class=\"xtick\"><text text-anchor=\"middle\" x=\"0\" y=\"453\" style=\"font-family: 'Open Sans', verdana, arial, sans-serif; font-size: 12px; fill: rgb(42, 63, 95); fill-opacity: 1; white-space: pre; opacity: 1;\" transform=\"translate(328,0)\">60k</text></g><g class=\"xtick\"><text text-anchor=\"middle\" x=\"0\" y=\"453\" style=\"font-family: 'Open Sans', verdana, arial, sans-serif; font-size: 12px; fill: rgb(42, 63, 95); fill-opacity: 1; white-space: pre; opacity: 1;\" transform=\"translate(369.33,0)\">70k</text></g><g class=\"xtick\"><text text-anchor=\"middle\" x=\"0\" y=\"453\" style=\"font-family: 'Open Sans', verdana, arial, sans-serif; font-size: 12px; fill: rgb(42, 63, 95); fill-opacity: 1; white-space: pre; opacity: 1;\" transform=\"translate(410.67,0)\">80k</text></g><g class=\"xtick\"><text text-anchor=\"middle\" x=\"0\" y=\"453\" style=\"font-family: 'Open Sans', verdana, arial, sans-serif; font-size: 12px; fill: rgb(42, 63, 95); fill-opacity: 1; white-space: pre; opacity: 1;\" transform=\"translate(452,0)\">90k</text></g><g class=\"xtick\"><text text-anchor=\"middle\" x=\"0\" y=\"453\" style=\"font-family: 'Open Sans', verdana, arial, sans-serif; font-size: 12px; fill: rgb(42, 63, 95); fill-opacity: 1; white-space: pre; opacity: 1;\" transform=\"translate(493.33,0)\">100k</text></g><g class=\"xtick\"><text text-anchor=\"middle\" x=\"0\" y=\"453\" style=\"font-family: 'Open Sans', verdana, arial, sans-serif; font-size: 12px; fill: rgb(42, 63, 95); fill-opacity: 1; white-space: pre; opacity: 1;\" transform=\"translate(534.6700000000001,0)\">110k</text></g><g class=\"xtick\"><text text-anchor=\"middle\" x=\"0\" y=\"453\" style=\"font-family: 'Open Sans', verdana, arial, sans-serif; font-size: 12px; fill: rgb(42, 63, 95); fill-opacity: 1; white-space: pre; opacity: 1;\" transform=\"translate(576,0)\">120k</text></g><g class=\"xtick\"><text text-anchor=\"middle\" x=\"0\" y=\"453\" style=\"font-family: 'Open Sans', verdana, arial, sans-serif; font-size: 12px; fill: rgb(42, 63, 95); fill-opacity: 1; white-space: pre; opacity: 1;\" transform=\"translate(617.33,0)\">130k</text></g><g class=\"xtick\"><text text-anchor=\"middle\" x=\"0\" y=\"453\" style=\"font-family: 'Open Sans', verdana, arial, sans-serif; font-size: 12px; fill: rgb(42, 63, 95); fill-opacity: 1; white-space: pre; opacity: 1;\" transform=\"translate(658.67,0)\">140k</text></g><g class=\"xtick\"><text text-anchor=\"middle\" x=\"0\" y=\"453\" style=\"font-family: 'Open Sans', verdana, arial, sans-serif; font-size: 12px; fill: rgb(42, 63, 95); fill-opacity: 1; white-space: pre; opacity: 1;\" transform=\"translate(700,0)\">150k</text></g></g><g class=\"yaxislayer-above\"><g class=\"ytick\"><text text-anchor=\"end\" x=\"79\" y=\"4.199999999999999\" transform=\"translate(0,440)\" style=\"font-family: 'Open Sans', verdana, arial, sans-serif; font-size: 12px; fill: rgb(42, 63, 95); fill-opacity: 1; white-space: pre; opacity: 1;\">0</text></g><g class=\"ytick\"><text text-anchor=\"end\" x=\"79\" y=\"4.199999999999999\" style=\"font-family: 'Open Sans', verdana, arial, sans-serif; font-size: 12px; fill: rgb(42, 63, 95); fill-opacity: 1; white-space: pre; opacity: 1;\" transform=\"translate(0,368.93)\">50k</text></g><g class=\"ytick\"><text text-anchor=\"end\" x=\"79\" y=\"4.199999999999999\" style=\"font-family: 'Open Sans', verdana, arial, sans-serif; font-size: 12px; fill: rgb(42, 63, 95); fill-opacity: 1; white-space: pre; opacity: 1;\" transform=\"translate(0,297.87)\">100k</text></g><g class=\"ytick\"><text text-anchor=\"end\" x=\"79\" y=\"4.199999999999999\" style=\"font-family: 'Open Sans', verdana, arial, sans-serif; font-size: 12px; fill: rgb(42, 63, 95); fill-opacity: 1; white-space: pre; opacity: 1;\" transform=\"translate(0,226.8)\">150k</text></g><g class=\"ytick\"><text text-anchor=\"end\" x=\"79\" y=\"4.199999999999999\" style=\"font-family: 'Open Sans', verdana, arial, sans-serif; font-size: 12px; fill: rgb(42, 63, 95); fill-opacity: 1; white-space: pre; opacity: 1;\" transform=\"translate(0,155.73)\">200k</text></g></g><g class=\"overaxes-above\"/></g></g><g class=\"polarlayer\"/><g class=\"ternarylayer\"/><g class=\"geolayer\"/><g class=\"funnelarealayer\"/><g class=\"pielayer\"/><g class=\"iciclelayer\"/><g class=\"treemaplayer\"/><g class=\"sunburstlayer\"/><g class=\"glimages\"/><defs id=\"topdefs-23519c\"><g class=\"clips\"/></defs><g class=\"layer-above\"><g class=\"imagelayer\"/><g class=\"shapelayer\"/></g><g class=\"infolayer\"><g class=\"g-gtitle\"><text class=\"gtitle\" x=\"375\" y=\"50\" text-anchor=\"middle\" dy=\"0em\" style=\"font-family: 'Open Sans', verdana, arial, sans-serif; font-size: 26px; fill: rgb(118, 26, 22); opacity: 1; font-weight: normal; white-space: pre;\">Histograma Tamaño Aplicación</text></g><g class=\"g-xtitle\"><text class=\"xtitle\" x=\"390\" y=\"480.8\" text-anchor=\"middle\" style=\"font-family: 'Open Sans', verdana, arial, sans-serif; font-size: 14px; fill: rgb(42, 63, 95); opacity: 1; font-weight: normal; white-space: pre;\">Tamaño (KB)</text></g><g class=\"g-ytitle\"><text class=\"ytitle\" transform=\"rotate(-90,24.200000000000003,270)\" x=\"24.200000000000003\" y=\"270\" text-anchor=\"middle\" style=\"font-family: 'Open Sans', verdana, arial, sans-serif; font-size: 14px; fill: rgb(42, 63, 95); opacity: 1; font-weight: normal; white-space: pre;\">Frecuencia</text></g></g></svg>"
     },
     "metadata": {}
    }
   ],
   "metadata": {
    "collapsed": false,
    "pycharm": {
     "name": "#%%\n"
    }
   }
  },
  {
   "cell_type": "markdown",
   "source": [
    "## FECHA DE PUBLICACIÓN"
   ],
   "metadata": {
    "collapsed": false
   }
  },
  {
   "cell_type": "code",
   "execution_count": 42,
   "source": [
    "release_hist = go.Figure()\r\n",
    "\r\n",
    "release_hist.add_trace(go.Histogram(\r\n",
    "    x = datos['Released'],\r\n",
    "    marker = dict(color = '#0093E2'),\r\n",
    "    nbinsx = 22\r\n",
    "))\r\n",
    "release_hist.update_layout(\r\n",
    "    width = 750,\r\n",
    "    margin = dict(r = 50, b = 60),\r\n",
    "    plot_bgcolor = '#E3E3D6',\r\n",
    "    title = dict(\r\n",
    "        font = dict(size = 26, color = '#0093E2'),\r\n",
    "        text = 'Histograma Fecha de Publicación',\r\n",
    "        x = 0.5\r\n",
    "    ),\r\n",
    "    yaxis_title_text = 'Frecuencia',\r\n",
    "    xaxis_title_text = 'Fecha'\r\n",
    ")\r\n",
    "release_hist.show(renderer = 'svg')"
   ],
   "outputs": [
    {
     "output_type": "display_data",
     "data": {
      "image/svg+xml": "<svg class=\"main-svg\" xmlns=\"http://www.w3.org/2000/svg\" xmlns:xlink=\"http://www.w3.org/1999/xlink\" width=\"750\" height=\"500\" style=\"\" viewBox=\"0 0 750 500\"><rect x=\"0\" y=\"0\" width=\"750\" height=\"500\" style=\"fill: rgb(255, 255, 255); fill-opacity: 1;\"/><defs id=\"defs-4f9453\"><g class=\"clips\"><clipPath id=\"clip4f9453xyplot\" class=\"plotclip\"><rect width=\"620\" height=\"340\"/></clipPath><clipPath class=\"axesclip\" id=\"clip4f9453x\"><rect x=\"80\" y=\"0\" width=\"620\" height=\"500\"/></clipPath><clipPath class=\"axesclip\" id=\"clip4f9453y\"><rect x=\"0\" y=\"100\" width=\"750\" height=\"340\"/></clipPath><clipPath class=\"axesclip\" id=\"clip4f9453xy\"><rect x=\"80\" y=\"100\" width=\"620\" height=\"340\"/></clipPath></g><g class=\"gradients\"/><g class=\"patterns\"/></defs><g class=\"bglayer\"><rect class=\"bg\" x=\"80\" y=\"100\" width=\"620\" height=\"340\" style=\"fill: rgb(227, 227, 214); fill-opacity: 1; stroke-width: 0;\"/></g><g class=\"layer-below\"><g class=\"imagelayer\"/><g class=\"shapelayer\"/></g><g class=\"cartesianlayer\"><g class=\"subplot xy\"><g class=\"layer-subplot\"><g class=\"shapelayer\"/><g class=\"imagelayer\"/></g><g class=\"gridlayer\"><g class=\"x\"/><g class=\"y\"><path class=\"ygrid crisp\" transform=\"translate(0,395.57)\" d=\"M80,0h620\" style=\"stroke: rgb(255, 255, 255); stroke-opacity: 1; stroke-width: 1px;\"/><path class=\"ygrid crisp\" transform=\"translate(0,351.15)\" d=\"M80,0h620\" style=\"stroke: rgb(255, 255, 255); stroke-opacity: 1; stroke-width: 1px;\"/><path class=\"ygrid crisp\" transform=\"translate(0,306.72)\" d=\"M80,0h620\" style=\"stroke: rgb(255, 255, 255); stroke-opacity: 1; stroke-width: 1px;\"/><path class=\"ygrid crisp\" transform=\"translate(0,262.3)\" d=\"M80,0h620\" style=\"stroke: rgb(255, 255, 255); stroke-opacity: 1; stroke-width: 1px;\"/><path class=\"ygrid crisp\" transform=\"translate(0,217.87)\" d=\"M80,0h620\" style=\"stroke: rgb(255, 255, 255); stroke-opacity: 1; stroke-width: 1px;\"/><path class=\"ygrid crisp\" transform=\"translate(0,173.45)\" d=\"M80,0h620\" style=\"stroke: rgb(255, 255, 255); stroke-opacity: 1; stroke-width: 1px;\"/><path class=\"ygrid crisp\" transform=\"translate(0,129.02)\" d=\"M80,0h620\" style=\"stroke: rgb(255, 255, 255); stroke-opacity: 1; stroke-width: 1px;\"/></g></g><g class=\"zerolinelayer\"><path class=\"yzl zl crisp\" transform=\"translate(0,440)\" d=\"M80,0h620\" style=\"stroke: rgb(255, 255, 255); stroke-opacity: 1; stroke-width: 2px;\"/></g><path class=\"xlines-below\"/><path class=\"ylines-below\"/><g class=\"overlines-below\"/><g class=\"xaxislayer-below\"/><g class=\"yaxislayer-below\"/><g class=\"overaxes-below\"/><g class=\"plot\" transform=\"translate(80,100)\" clip-path=\"url(#clip4f9453xyplot)\"><g class=\"barlayer mlayer\"><g class=\"trace bars\" shape-rendering=\"crispEdges\" style=\"opacity: 1;\"><g class=\"points\"><g class=\"point\"><path d=\"M0,340V335.23H28.16V340Z\" style=\"vector-effect: non-scaling-stroke; opacity: 1; stroke-width: 0px; fill: rgb(0, 147, 226); fill-opacity: 1;\"/></g><g class=\"point\"><path d=\"M28.16,340V329.17H56.32V340Z\" style=\"vector-effect: non-scaling-stroke; opacity: 1; stroke-width: 0px; fill: rgb(0, 147, 226); fill-opacity: 1;\"/></g><g class=\"point\"><path d=\"M56.32,340V322.22H84.48V340Z\" style=\"vector-effect: non-scaling-stroke; opacity: 1; stroke-width: 0px; fill: rgb(0, 147, 226); fill-opacity: 1;\"/></g><g class=\"point\"><path d=\"M84.48,340V314.1H112.64V340Z\" style=\"vector-effect: non-scaling-stroke; opacity: 1; stroke-width: 0px; fill: rgb(0, 147, 226); fill-opacity: 1;\"/></g><g class=\"point\"><path d=\"M112.72,340V307.73H140.88V340Z\" style=\"vector-effect: non-scaling-stroke; opacity: 1; stroke-width: 0px; fill: rgb(0, 147, 226); fill-opacity: 1;\"/></g><g class=\"point\"><path d=\"M140.96,340V299.96H169.12V340Z\" style=\"vector-effect: non-scaling-stroke; opacity: 1; stroke-width: 0px; fill: rgb(0, 147, 226); fill-opacity: 1;\"/></g><g class=\"point\"><path d=\"M169.12,340V289.31H197.28V340Z\" style=\"vector-effect: non-scaling-stroke; opacity: 1; stroke-width: 0px; fill: rgb(0, 147, 226); fill-opacity: 1;\"/></g><g class=\"point\"><path d=\"M197.28,340V278.83H225.44V340Z\" style=\"vector-effect: non-scaling-stroke; opacity: 1; stroke-width: 0px; fill: rgb(0, 147, 226); fill-opacity: 1;\"/></g><g class=\"point\"><path d=\"M225.44,340V263.44H253.6V340Z\" style=\"vector-effect: non-scaling-stroke; opacity: 1; stroke-width: 0px; fill: rgb(0, 147, 226); fill-opacity: 1;\"/></g><g class=\"point\"><path d=\"M253.6,340V243.57H281.76V340Z\" style=\"vector-effect: non-scaling-stroke; opacity: 1; stroke-width: 0px; fill: rgb(0, 147, 226); fill-opacity: 1;\"/></g><g class=\"point\"><path d=\"M281.76,340V226.73H309.92V340Z\" style=\"vector-effect: non-scaling-stroke; opacity: 1; stroke-width: 0px; fill: rgb(0, 147, 226); fill-opacity: 1;\"/></g><g class=\"point\"><path d=\"M309.92,340V211.5H338.08V340Z\" style=\"vector-effect: non-scaling-stroke; opacity: 1; stroke-width: 0px; fill: rgb(0, 147, 226); fill-opacity: 1;\"/></g><g class=\"point\"><path d=\"M338.16,340V195.43H366.32V340Z\" style=\"vector-effect: non-scaling-stroke; opacity: 1; stroke-width: 0px; fill: rgb(0, 147, 226); fill-opacity: 1;\"/></g><g class=\"point\"><path d=\"M366.4,340V173.74H394.56V340Z\" style=\"vector-effect: non-scaling-stroke; opacity: 1; stroke-width: 0px; fill: rgb(0, 147, 226); fill-opacity: 1;\"/></g><g class=\"point\"><path d=\"M394.56,340V135.7H422.72V340Z\" style=\"vector-effect: non-scaling-stroke; opacity: 1; stroke-width: 0px; fill: rgb(0, 147, 226); fill-opacity: 1;\"/></g><g class=\"point\"><path d=\"M422.72,340V101.65H450.88V340Z\" style=\"vector-effect: non-scaling-stroke; opacity: 1; stroke-width: 0px; fill: rgb(0, 147, 226); fill-opacity: 1;\"/></g><g class=\"point\"><path d=\"M450.88,340V106.98H479.04V340Z\" style=\"vector-effect: non-scaling-stroke; opacity: 1; stroke-width: 0px; fill: rgb(0, 147, 226); fill-opacity: 1;\"/></g><g class=\"point\"><path d=\"M479.04,340V83.54H507.2V340Z\" style=\"vector-effect: non-scaling-stroke; opacity: 1; stroke-width: 0px; fill: rgb(0, 147, 226); fill-opacity: 1;\"/></g><g class=\"point\"><path d=\"M507.2,340V60.89H535.36V340Z\" style=\"vector-effect: non-scaling-stroke; opacity: 1; stroke-width: 0px; fill: rgb(0, 147, 226); fill-opacity: 1;\"/></g><g class=\"point\"><path d=\"M535.36,340V41.59H563.52V340Z\" style=\"vector-effect: non-scaling-stroke; opacity: 1; stroke-width: 0px; fill: rgb(0, 147, 226); fill-opacity: 1;\"/></g><g class=\"point\"><path d=\"M563.6,340V17H591.76V340Z\" style=\"vector-effect: non-scaling-stroke; opacity: 1; stroke-width: 0px; fill: rgb(0, 147, 226); fill-opacity: 1;\"/></g><g class=\"point\"><path d=\"M591.84,340V137.05H620V340Z\" style=\"vector-effect: non-scaling-stroke; opacity: 1; stroke-width: 0px; fill: rgb(0, 147, 226); fill-opacity: 1;\"/></g></g></g></g></g><g class=\"overplot\"/><path class=\"xlines-above crisp\" d=\"M0,0\" style=\"fill: none;\"/><path class=\"ylines-above crisp\" d=\"M0,0\" style=\"fill: none;\"/><g class=\"overlines-above\"/><g class=\"xaxislayer-above\"><g class=\"xtick\"><text text-anchor=\"middle\" x=\"0\" y=\"453\" transform=\"translate(80.19,0)\" style=\"font-family: 'Open Sans', verdana, arial, sans-serif; font-size: 12px; fill: rgb(42, 63, 95); fill-opacity: 1; white-space: pre; opacity: 1;\">2010</text></g><g class=\"xtick\"><text text-anchor=\"middle\" x=\"0\" y=\"453\" style=\"font-family: 'Open Sans', verdana, arial, sans-serif; font-size: 12px; fill: rgb(42, 63, 95); fill-opacity: 1; white-space: pre; opacity: 1;\" transform=\"translate(192.84,0)\">2012</text></g><g class=\"xtick\"><text text-anchor=\"middle\" x=\"0\" y=\"453\" style=\"font-family: 'Open Sans', verdana, arial, sans-serif; font-size: 12px; fill: rgb(42, 63, 95); fill-opacity: 1; white-space: pre; opacity: 1;\" transform=\"translate(305.63,0)\">2014</text></g><g class=\"xtick\"><text text-anchor=\"middle\" x=\"0\" y=\"453\" style=\"font-family: 'Open Sans', verdana, arial, sans-serif; font-size: 12px; fill: rgb(42, 63, 95); fill-opacity: 1; white-space: pre; opacity: 1;\" transform=\"translate(418.28,0)\">2016</text></g><g class=\"xtick\"><text text-anchor=\"middle\" x=\"0\" y=\"453\" style=\"font-family: 'Open Sans', verdana, arial, sans-serif; font-size: 12px; fill: rgb(42, 63, 95); fill-opacity: 1; white-space: pre; opacity: 1;\" transform=\"translate(531.0699999999999,0)\">2018</text></g><g class=\"xtick\"><text text-anchor=\"middle\" x=\"0\" y=\"453\" style=\"font-family: 'Open Sans', verdana, arial, sans-serif; font-size: 12px; fill: rgb(42, 63, 95); fill-opacity: 1; white-space: pre; opacity: 1;\" transform=\"translate(643.72,0)\">2020</text></g></g><g class=\"yaxislayer-above\"><g class=\"ytick\"><text text-anchor=\"end\" x=\"79\" y=\"4.199999999999999\" transform=\"translate(0,440)\" style=\"font-family: 'Open Sans', verdana, arial, sans-serif; font-size: 12px; fill: rgb(42, 63, 95); fill-opacity: 1; white-space: pre; opacity: 1;\">0</text></g><g class=\"ytick\"><text text-anchor=\"end\" x=\"79\" y=\"4.199999999999999\" style=\"font-family: 'Open Sans', verdana, arial, sans-serif; font-size: 12px; fill: rgb(42, 63, 95); fill-opacity: 1; white-space: pre; opacity: 1;\" transform=\"translate(0,395.57)\">10k</text></g><g class=\"ytick\"><text text-anchor=\"end\" x=\"79\" y=\"4.199999999999999\" style=\"font-family: 'Open Sans', verdana, arial, sans-serif; font-size: 12px; fill: rgb(42, 63, 95); fill-opacity: 1; white-space: pre; opacity: 1;\" transform=\"translate(0,351.15)\">20k</text></g><g class=\"ytick\"><text text-anchor=\"end\" x=\"79\" y=\"4.199999999999999\" style=\"font-family: 'Open Sans', verdana, arial, sans-serif; font-size: 12px; fill: rgb(42, 63, 95); fill-opacity: 1; white-space: pre; opacity: 1;\" transform=\"translate(0,306.72)\">30k</text></g><g class=\"ytick\"><text text-anchor=\"end\" x=\"79\" y=\"4.199999999999999\" style=\"font-family: 'Open Sans', verdana, arial, sans-serif; font-size: 12px; fill: rgb(42, 63, 95); fill-opacity: 1; white-space: pre; opacity: 1;\" transform=\"translate(0,262.3)\">40k</text></g><g class=\"ytick\"><text text-anchor=\"end\" x=\"79\" y=\"4.199999999999999\" style=\"font-family: 'Open Sans', verdana, arial, sans-serif; font-size: 12px; fill: rgb(42, 63, 95); fill-opacity: 1; white-space: pre; opacity: 1;\" transform=\"translate(0,217.87)\">50k</text></g><g class=\"ytick\"><text text-anchor=\"end\" x=\"79\" y=\"4.199999999999999\" style=\"font-family: 'Open Sans', verdana, arial, sans-serif; font-size: 12px; fill: rgb(42, 63, 95); fill-opacity: 1; white-space: pre; opacity: 1;\" transform=\"translate(0,173.45)\">60k</text></g><g class=\"ytick\"><text text-anchor=\"end\" x=\"79\" y=\"4.199999999999999\" style=\"font-family: 'Open Sans', verdana, arial, sans-serif; font-size: 12px; fill: rgb(42, 63, 95); fill-opacity: 1; white-space: pre; opacity: 1;\" transform=\"translate(0,129.02)\">70k</text></g></g><g class=\"overaxes-above\"/></g></g><g class=\"polarlayer\"/><g class=\"ternarylayer\"/><g class=\"geolayer\"/><g class=\"funnelarealayer\"/><g class=\"pielayer\"/><g class=\"iciclelayer\"/><g class=\"treemaplayer\"/><g class=\"sunburstlayer\"/><g class=\"glimages\"/><defs id=\"topdefs-4f9453\"><g class=\"clips\"/></defs><g class=\"layer-above\"><g class=\"imagelayer\"/><g class=\"shapelayer\"/></g><g class=\"infolayer\"><g class=\"g-gtitle\"><text class=\"gtitle\" x=\"375\" y=\"50\" text-anchor=\"middle\" dy=\"0em\" style=\"font-family: 'Open Sans', verdana, arial, sans-serif; font-size: 26px; fill: rgb(0, 147, 226); opacity: 1; font-weight: normal; white-space: pre;\">Histograma Fecha de Publicación</text></g><g class=\"g-xtitle\"><text class=\"xtitle\" x=\"390\" y=\"480.8\" text-anchor=\"middle\" style=\"font-family: 'Open Sans', verdana, arial, sans-serif; font-size: 14px; fill: rgb(42, 63, 95); opacity: 1; font-weight: normal; white-space: pre;\">Fecha</text></g><g class=\"g-ytitle\"><text class=\"ytitle\" transform=\"rotate(-90,31.840625000000003,270)\" x=\"31.840625000000003\" y=\"270\" text-anchor=\"middle\" style=\"font-family: 'Open Sans', verdana, arial, sans-serif; font-size: 14px; fill: rgb(42, 63, 95); opacity: 1; font-weight: normal; white-space: pre;\">Frecuencia</text></g></g></svg>"
     },
     "metadata": {}
    }
   ],
   "metadata": {
    "collapsed": false,
    "pycharm": {
     "name": "#%%\n"
    }
   }
  },
  {
   "cell_type": "markdown",
   "source": [
    "## FECHA DE ÚLTIMA ACTUALIZACIÓN"
   ],
   "metadata": {
    "collapsed": false
   }
  },
  {
   "cell_type": "code",
   "execution_count": 43,
   "source": [
    "updated_hist = go.Figure()\r\n",
    "\r\n",
    "updated_hist.add_trace(go.Histogram(\r\n",
    "    x = datos['Last Updated'],\r\n",
    "    marker = dict(color = '#00621A'),\r\n",
    "    nbinsx = 22\r\n",
    "))\r\n",
    "updated_hist.update_layout(\r\n",
    "    width = 750,\r\n",
    "    margin = dict(r = 50, b = 60),\r\n",
    "    plot_bgcolor = '#E3E3D6',\r\n",
    "    title = dict(\r\n",
    "        font = dict(size = 26, color = '#00621A'),\r\n",
    "        text = 'Histograma Fecha de Última Actualización',\r\n",
    "        x = 0.5\r\n",
    "    ),\r\n",
    "    yaxis_title_text = 'Frecuencia',\r\n",
    "    xaxis_title_text = 'Fecha'\r\n",
    ")\r\n",
    "updated_hist.show(renderer = 'svg')"
   ],
   "outputs": [
    {
     "output_type": "display_data",
     "data": {
      "image/svg+xml": "<svg class=\"main-svg\" xmlns=\"http://www.w3.org/2000/svg\" xmlns:xlink=\"http://www.w3.org/1999/xlink\" width=\"750\" height=\"500\" style=\"\" viewBox=\"0 0 750 500\"><rect x=\"0\" y=\"0\" width=\"750\" height=\"500\" style=\"fill: rgb(255, 255, 255); fill-opacity: 1;\"/><defs id=\"defs-c595cb\"><g class=\"clips\"><clipPath id=\"clipc595cbxyplot\" class=\"plotclip\"><rect width=\"620\" height=\"340\"/></clipPath><clipPath class=\"axesclip\" id=\"clipc595cbx\"><rect x=\"80\" y=\"0\" width=\"620\" height=\"500\"/></clipPath><clipPath class=\"axesclip\" id=\"clipc595cby\"><rect x=\"0\" y=\"100\" width=\"750\" height=\"340\"/></clipPath><clipPath class=\"axesclip\" id=\"clipc595cbxy\"><rect x=\"80\" y=\"100\" width=\"620\" height=\"340\"/></clipPath></g><g class=\"gradients\"/><g class=\"patterns\"/></defs><g class=\"bglayer\"><rect class=\"bg\" x=\"80\" y=\"100\" width=\"620\" height=\"340\" style=\"fill: rgb(227, 227, 214); fill-opacity: 1; stroke-width: 0;\"/></g><g class=\"layer-below\"><g class=\"imagelayer\"/><g class=\"shapelayer\"/></g><g class=\"cartesianlayer\"><g class=\"subplot xy\"><g class=\"layer-subplot\"><g class=\"shapelayer\"/><g class=\"imagelayer\"/></g><g class=\"gridlayer\"><g class=\"x\"/><g class=\"y\"><path class=\"ygrid crisp\" transform=\"translate(0,396.85)\" d=\"M80,0h620\" style=\"stroke: rgb(255, 255, 255); stroke-opacity: 1; stroke-width: 1px;\"/><path class=\"ygrid crisp\" transform=\"translate(0,353.69)\" d=\"M80,0h620\" style=\"stroke: rgb(255, 255, 255); stroke-opacity: 1; stroke-width: 1px;\"/><path class=\"ygrid crisp\" transform=\"translate(0,310.53999999999996)\" d=\"M80,0h620\" style=\"stroke: rgb(255, 255, 255); stroke-opacity: 1; stroke-width: 1px;\"/><path class=\"ygrid crisp\" transform=\"translate(0,267.39)\" d=\"M80,0h620\" style=\"stroke: rgb(255, 255, 255); stroke-opacity: 1; stroke-width: 1px;\"/><path class=\"ygrid crisp\" transform=\"translate(0,224.24)\" d=\"M80,0h620\" style=\"stroke: rgb(255, 255, 255); stroke-opacity: 1; stroke-width: 1px;\"/><path class=\"ygrid crisp\" transform=\"translate(0,181.07999999999998)\" d=\"M80,0h620\" style=\"stroke: rgb(255, 255, 255); stroke-opacity: 1; stroke-width: 1px;\"/><path class=\"ygrid crisp\" transform=\"translate(0,137.93)\" d=\"M80,0h620\" style=\"stroke: rgb(255, 255, 255); stroke-opacity: 1; stroke-width: 1px;\"/></g></g><g class=\"zerolinelayer\"><path class=\"yzl zl crisp\" transform=\"translate(0,440)\" d=\"M80,0h620\" style=\"stroke: rgb(255, 255, 255); stroke-opacity: 1; stroke-width: 2px;\"/></g><path class=\"xlines-below\"/><path class=\"ylines-below\"/><g class=\"overlines-below\"/><g class=\"xaxislayer-below\"/><g class=\"yaxislayer-below\"/><g class=\"overaxes-below\"/><g class=\"plot\" transform=\"translate(80,100)\" clip-path=\"url(#clipc595cbxyplot)\"><g class=\"barlayer mlayer\"><g class=\"trace bars\" shape-rendering=\"crispEdges\" style=\"opacity: 1;\"><g class=\"points\"><g class=\"point\"><path d=\"M0,0Z\" style=\"vector-effect: non-scaling-stroke; opacity: 1; stroke-width: 0px; fill: rgb(0, 98, 26); fill-opacity: 1;\"/></g><g class=\"point\"><path d=\"M0,0Z\" style=\"vector-effect: non-scaling-stroke; opacity: 1; stroke-width: 0px; fill: rgb(0, 98, 26); fill-opacity: 1;\"/></g><g class=\"point\"><path d=\"M95.39,340V339.87H143.05V340Z\" style=\"vector-effect: non-scaling-stroke; opacity: 1; stroke-width: 0px; fill: rgb(0, 98, 26); fill-opacity: 1;\"/></g><g class=\"point\"><path d=\"M143.05,340V339.45H190.71V340Z\" style=\"vector-effect: non-scaling-stroke; opacity: 1; stroke-width: 0px; fill: rgb(0, 98, 26); fill-opacity: 1;\"/></g><g class=\"point\"><path d=\"M190.78,340V338.71H238.44V340Z\" style=\"vector-effect: non-scaling-stroke; opacity: 1; stroke-width: 0px; fill: rgb(0, 98, 26); fill-opacity: 1;\"/></g><g class=\"point\"><path d=\"M238.51,340V336.02H286.17V340Z\" style=\"vector-effect: non-scaling-stroke; opacity: 1; stroke-width: 0px; fill: rgb(0, 98, 26); fill-opacity: 1;\"/></g><g class=\"point\"><path d=\"M286.17,340V331.45H333.83V340Z\" style=\"vector-effect: non-scaling-stroke; opacity: 1; stroke-width: 0px; fill: rgb(0, 98, 26); fill-opacity: 1;\"/></g><g class=\"point\"><path d=\"M333.83,340V327.22H381.49V340Z\" style=\"vector-effect: non-scaling-stroke; opacity: 1; stroke-width: 0px; fill: rgb(0, 98, 26); fill-opacity: 1;\"/></g><g class=\"point\"><path d=\"M381.56,340V319.22H429.22V340Z\" style=\"vector-effect: non-scaling-stroke; opacity: 1; stroke-width: 0px; fill: rgb(0, 98, 26); fill-opacity: 1;\"/></g><g class=\"point\"><path d=\"M429.29,340V302.67H476.95V340Z\" style=\"vector-effect: non-scaling-stroke; opacity: 1; stroke-width: 0px; fill: rgb(0, 98, 26); fill-opacity: 1;\"/></g><g class=\"point\"><path d=\"M476.95,340V277.45H524.61V340Z\" style=\"vector-effect: non-scaling-stroke; opacity: 1; stroke-width: 0px; fill: rgb(0, 98, 26); fill-opacity: 1;\"/></g><g class=\"point\"><path d=\"M524.61,340V227.24H572.27V340Z\" style=\"vector-effect: non-scaling-stroke; opacity: 1; stroke-width: 0px; fill: rgb(0, 98, 26); fill-opacity: 1;\"/></g><g class=\"point\"><path d=\"M572.34,340V17H620V340Z\" style=\"vector-effect: non-scaling-stroke; opacity: 1; stroke-width: 0px; fill: rgb(0, 98, 26); fill-opacity: 1;\"/></g></g></g></g></g><g class=\"overplot\"/><path class=\"xlines-above crisp\" d=\"M0,0\" style=\"fill: none;\"/><path class=\"ylines-above crisp\" d=\"M0,0\" style=\"fill: none;\"/><g class=\"overlines-above\"/><g class=\"xaxislayer-above\"><g class=\"xtick\"><text text-anchor=\"middle\" x=\"0\" y=\"453\" transform=\"translate(80,0)\" style=\"font-family: 'Open Sans', verdana, arial, sans-serif; font-size: 12px; fill: rgb(42, 63, 95); fill-opacity: 1; white-space: pre; opacity: 1;\">2008</text></g><g class=\"xtick\"><text text-anchor=\"middle\" x=\"0\" y=\"453\" style=\"font-family: 'Open Sans', verdana, arial, sans-serif; font-size: 12px; fill: rgb(42, 63, 95); fill-opacity: 1; white-space: pre; opacity: 1;\" transform=\"translate(175.45,0)\">2010</text></g><g class=\"xtick\"><text text-anchor=\"middle\" x=\"0\" y=\"453\" style=\"font-family: 'Open Sans', verdana, arial, sans-serif; font-size: 12px; fill: rgb(42, 63, 95); fill-opacity: 1; white-space: pre; opacity: 1;\" transform=\"translate(270.78,0)\">2012</text></g><g class=\"xtick\"><text text-anchor=\"middle\" x=\"0\" y=\"453\" style=\"font-family: 'Open Sans', verdana, arial, sans-serif; font-size: 12px; fill: rgb(42, 63, 95); fill-opacity: 1; white-space: pre; opacity: 1;\" transform=\"translate(366.23,0)\">2014</text></g><g class=\"xtick\"><text text-anchor=\"middle\" x=\"0\" y=\"453\" style=\"font-family: 'Open Sans', verdana, arial, sans-serif; font-size: 12px; fill: rgb(42, 63, 95); fill-opacity: 1; white-space: pre; opacity: 1;\" transform=\"translate(461.56,0)\">2016</text></g><g class=\"xtick\"><text text-anchor=\"middle\" x=\"0\" y=\"453\" style=\"font-family: 'Open Sans', verdana, arial, sans-serif; font-size: 12px; fill: rgb(42, 63, 95); fill-opacity: 1; white-space: pre; opacity: 1;\" transform=\"translate(557.01,0)\">2018</text></g><g class=\"xtick\"><text text-anchor=\"middle\" x=\"0\" y=\"453\" style=\"font-family: 'Open Sans', verdana, arial, sans-serif; font-size: 12px; fill: rgb(42, 63, 95); fill-opacity: 1; white-space: pre; opacity: 1;\" transform=\"translate(652.34,0)\">2020</text></g></g><g class=\"yaxislayer-above\"><g class=\"ytick\"><text text-anchor=\"end\" x=\"79\" y=\"4.199999999999999\" transform=\"translate(0,440)\" style=\"font-family: 'Open Sans', verdana, arial, sans-serif; font-size: 12px; fill: rgb(42, 63, 95); fill-opacity: 1; white-space: pre; opacity: 1;\">0</text></g><g class=\"ytick\"><text text-anchor=\"end\" x=\"79\" y=\"4.199999999999999\" style=\"font-family: 'Open Sans', verdana, arial, sans-serif; font-size: 12px; fill: rgb(42, 63, 95); fill-opacity: 1; white-space: pre; opacity: 1;\" transform=\"translate(0,396.85)\">50k</text></g><g class=\"ytick\"><text text-anchor=\"end\" x=\"79\" y=\"4.199999999999999\" style=\"font-family: 'Open Sans', verdana, arial, sans-serif; font-size: 12px; fill: rgb(42, 63, 95); fill-opacity: 1; white-space: pre; opacity: 1;\" transform=\"translate(0,353.69)\">100k</text></g><g class=\"ytick\"><text text-anchor=\"end\" x=\"79\" y=\"4.199999999999999\" style=\"font-family: 'Open Sans', verdana, arial, sans-serif; font-size: 12px; fill: rgb(42, 63, 95); fill-opacity: 1; white-space: pre; opacity: 1;\" transform=\"translate(0,310.53999999999996)\">150k</text></g><g class=\"ytick\"><text text-anchor=\"end\" x=\"79\" y=\"4.199999999999999\" style=\"font-family: 'Open Sans', verdana, arial, sans-serif; font-size: 12px; fill: rgb(42, 63, 95); fill-opacity: 1; white-space: pre; opacity: 1;\" transform=\"translate(0,267.39)\">200k</text></g><g class=\"ytick\"><text text-anchor=\"end\" x=\"79\" y=\"4.199999999999999\" style=\"font-family: 'Open Sans', verdana, arial, sans-serif; font-size: 12px; fill: rgb(42, 63, 95); fill-opacity: 1; white-space: pre; opacity: 1;\" transform=\"translate(0,224.24)\">250k</text></g><g class=\"ytick\"><text text-anchor=\"end\" x=\"79\" y=\"4.199999999999999\" style=\"font-family: 'Open Sans', verdana, arial, sans-serif; font-size: 12px; fill: rgb(42, 63, 95); fill-opacity: 1; white-space: pre; opacity: 1;\" transform=\"translate(0,181.07999999999998)\">300k</text></g><g class=\"ytick\"><text text-anchor=\"end\" x=\"79\" y=\"4.199999999999999\" style=\"font-family: 'Open Sans', verdana, arial, sans-serif; font-size: 12px; fill: rgb(42, 63, 95); fill-opacity: 1; white-space: pre; opacity: 1;\" transform=\"translate(0,137.93)\">350k</text></g></g><g class=\"overaxes-above\"/></g></g><g class=\"polarlayer\"/><g class=\"ternarylayer\"/><g class=\"geolayer\"/><g class=\"funnelarealayer\"/><g class=\"pielayer\"/><g class=\"iciclelayer\"/><g class=\"treemaplayer\"/><g class=\"sunburstlayer\"/><g class=\"glimages\"/><defs id=\"topdefs-c595cb\"><g class=\"clips\"/></defs><g class=\"layer-above\"><g class=\"imagelayer\"/><g class=\"shapelayer\"/></g><g class=\"infolayer\"><g class=\"g-gtitle\"><text class=\"gtitle\" x=\"375\" y=\"50\" text-anchor=\"middle\" dy=\"0em\" style=\"font-family: 'Open Sans', verdana, arial, sans-serif; font-size: 26px; fill: rgb(0, 98, 26); opacity: 1; font-weight: normal; white-space: pre;\">Histograma Fecha de Última Actualización</text></g><g class=\"g-xtitle\"><text class=\"xtitle\" x=\"390\" y=\"480.8\" text-anchor=\"middle\" style=\"font-family: 'Open Sans', verdana, arial, sans-serif; font-size: 14px; fill: rgb(42, 63, 95); opacity: 1; font-weight: normal; white-space: pre;\">Fecha</text></g><g class=\"g-ytitle\"><text class=\"ytitle\" transform=\"rotate(-90,24.200000000000003,270)\" x=\"24.200000000000003\" y=\"270\" text-anchor=\"middle\" style=\"font-family: 'Open Sans', verdana, arial, sans-serif; font-size: 14px; fill: rgb(42, 63, 95); opacity: 1; font-weight: normal; white-space: pre;\">Frecuencia</text></g></g></svg>"
     },
     "metadata": {}
    }
   ],
   "metadata": {
    "collapsed": false,
    "pycharm": {
     "name": "#%%\n"
    }
   }
  },
  {
   "cell_type": "markdown",
   "source": [
    "## CANTIDAD DE APLICACIONES GRATUITAS Y DE PAGO"
   ],
   "metadata": {
    "collapsed": false
   }
  },
  {
   "cell_type": "code",
   "execution_count": 44,
   "source": [
    "def graph_binary_pie(data, labels, colors, pull = (0, 0.2)):\r\n",
    "    count_frec = data.value_counts()\r\n",
    "    pie = go.Figure()\r\n",
    "    pie.add_pie(\r\n",
    "        labels = labels,\r\n",
    "        values = count_frec,\r\n",
    "        pull = pull,\r\n",
    "        hole = 0.1,\r\n",
    "        textfont = dict(color = colors),\r\n",
    "        textposition = 'outside',\r\n",
    "        textinfo = 'label+percent',\r\n",
    "        marker_colors = colors\r\n",
    "    )\r\n",
    "    pie.update_layout(\r\n",
    "        width = 500,\r\n",
    "        height = 400,\r\n",
    "        margin = dict(r = 2, l = 2, b = 2, t = 2)\r\n",
    "    )\r\n",
    "    pie.show(renderer = 'svg')"
   ],
   "outputs": [],
   "metadata": {
    "collapsed": false,
    "pycharm": {
     "name": "#%%\n"
    }
   }
  },
  {
   "cell_type": "code",
   "execution_count": 45,
   "source": [
    "graph_binary_pie(datos.Free, ['Gratuita', 'Pagada'], ['#00621A', '#761A16'])"
   ],
   "outputs": [
    {
     "output_type": "display_data",
     "data": {
      "image/svg+xml": "<svg class=\"main-svg\" xmlns=\"http://www.w3.org/2000/svg\" xmlns:xlink=\"http://www.w3.org/1999/xlink\" width=\"500\" height=\"400\" style=\"\" viewBox=\"0 0 500 400\"><rect x=\"0\" y=\"0\" width=\"500\" height=\"400\" style=\"fill: rgb(255, 255, 255); fill-opacity: 1;\"/><defs id=\"defs-cfb344\"><g class=\"clips\"/><g class=\"gradients\"/><g class=\"patterns\"/></defs><g class=\"bglayer\"/><g class=\"layer-below\"><g class=\"imagelayer\"/><g class=\"shapelayer\"/></g><g class=\"cartesianlayer\"/><g class=\"polarlayer\"/><g class=\"ternarylayer\"/><g class=\"geolayer\"/><g class=\"funnelarealayer\"/><g class=\"pielayer\"><g class=\"trace\" stroke-linejoin=\"round\" style=\"opacity: 1;\"><g class=\"slice\"><path class=\"surface\" d=\"M227.59690302135854,200.26570333411433a11,11 0 1 0 2.4030969786414573,-0.2657033341143262l0,-99a110,110 0 1 1 -24.03096978641457,2.6570333411432614Z\" style=\"pointer-events: all; stroke-width: 0; fill: rgb(0, 98, 26); fill-opacity: 1; stroke: rgb(68, 68, 68); stroke-opacity: 1;\"/><g class=\"slicetext\"><text data-notex=\"1\" class=\"slicetext\" transform=\"translate(274.2410506189285,332.1488826242606)\" text-anchor=\"middle\" x=\"0\" y=\"0\" style=\"font-family: 'Open Sans', verdana, arial, sans-serif; font-size: 12px; fill: rgb(0, 98, 26); fill-opacity: 1; white-space: pre;\"><tspan class=\"line\" dy=\"0em\" x=\"0\" y=\"0\">Gratuita</tspan><tspan class=\"line\" dy=\"1.3em\" x=\"0\" y=\"0\">96.5%</tspan></text></g></g><g class=\"slice\"><path class=\"surface\" d=\"M227.5822586262143,178.13325523427218a11,11 0 0 0 -2.4030969786414613,0.26570333411432756l-21.62787280777315,-96.60866999297106a110,110 0 0 1 24.030969786414612,-2.6570333411432756Z\" style=\"pointer-events: all; stroke-width: 0; fill: rgb(118, 26, 22); fill-opacity: 1; stroke: rgb(68, 68, 68); stroke-opacity: 1;\"/><g class=\"slicetext\"><text data-notex=\"1\" class=\"slicetext\" transform=\"translate(186.0755830072858,61.37499761001165)\" text-anchor=\"middle\" x=\"0\" y=\"0\" style=\"font-family: 'Open Sans', verdana, arial, sans-serif; font-size: 12px; fill: rgb(118, 26, 22); fill-opacity: 1; white-space: pre;\"><tspan class=\"line\" dy=\"0em\" x=\"0\" y=\"0\">Pagada</tspan><tspan class=\"line\" dy=\"1.3em\" x=\"0\" y=\"0\">3.51%</tspan></text></g></g></g></g><g class=\"iciclelayer\"/><g class=\"treemaplayer\"/><g class=\"sunburstlayer\"/><g class=\"glimages\"/><defs id=\"topdefs-cfb344\"><g class=\"clips\"/><clipPath id=\"legendcfb344\"><rect width=\"94\" height=\"48\" x=\"0\" y=\"0\"/></clipPath></defs><g class=\"layer-above\"><g class=\"imagelayer\"/><g class=\"shapelayer\"/></g><g class=\"infolayer\"><g class=\"legend\" pointer-events=\"all\" transform=\"translate(403.68,79)\"><rect class=\"bg\" shape-rendering=\"crispEdges\" style=\"stroke: rgb(68, 68, 68); stroke-opacity: 1; fill: rgb(255, 255, 255); fill-opacity: 1; stroke-width: 0px;\" width=\"94\" height=\"48\" x=\"0\" y=\"0\"/><g class=\"scrollbox\" transform=\"\" clip-path=\"url(#legendcfb344)\"><g class=\"groups\"><g class=\"traces\" transform=\"translate(0,14.5)\" style=\"opacity: 1;\"><text class=\"legendtext\" text-anchor=\"start\" x=\"40\" y=\"4.680000000000001\" style=\"font-family: 'Open Sans', verdana, arial, sans-serif; font-size: 12px; fill: rgb(42, 63, 95); fill-opacity: 1; white-space: pre;\">Gratuita</text><g class=\"layers\" style=\"opacity: 1;\"><g class=\"legendfill\"/><g class=\"legendlines\"/><g class=\"legendsymbols\"><g class=\"legendpoints\"><path class=\"legendpie\" d=\"M6,6H-6V-6H6Z\" transform=\"translate(20,0)\" style=\"stroke-width: 0; fill: rgb(0, 98, 26); fill-opacity: 1; stroke: rgb(68, 68, 68); stroke-opacity: 1;\"/></g></g></g><rect class=\"legendtoggle\" x=\"0\" y=\"-9.5\" width=\"88.984375\" height=\"19\" style=\"fill: rgb(0, 0, 0); fill-opacity: 0;\"/></g><g class=\"traces\" transform=\"translate(0,33.5)\" style=\"opacity: 1;\"><text class=\"legendtext\" text-anchor=\"start\" x=\"40\" y=\"4.680000000000001\" style=\"font-family: 'Open Sans', verdana, arial, sans-serif; font-size: 12px; fill: rgb(42, 63, 95); fill-opacity: 1; white-space: pre;\">Pagada</text><g class=\"layers\" style=\"opacity: 1;\"><g class=\"legendfill\"/><g class=\"legendlines\"/><g class=\"legendsymbols\"><g class=\"legendpoints\"><path class=\"legendpie\" d=\"M6,6H-6V-6H6Z\" transform=\"translate(20,0)\" style=\"stroke-width: 0; fill: rgb(118, 26, 22); fill-opacity: 1; stroke: rgb(68, 68, 68); stroke-opacity: 1;\"/></g></g></g><rect class=\"legendtoggle\" x=\"0\" y=\"-9.5\" width=\"88.984375\" height=\"19\" style=\"fill: rgb(0, 0, 0); fill-opacity: 0;\"/></g></g></g><rect class=\"scrollbar\" rx=\"20\" ry=\"3\" width=\"0\" height=\"0\" style=\"fill: rgb(128, 139, 164); fill-opacity: 1;\" x=\"0\" y=\"0\"/></g><g class=\"g-gtitle\"/></g></svg>"
     },
     "metadata": {}
    }
   ],
   "metadata": {
    "collapsed": false,
    "pycharm": {
     "name": "#%%\n"
    }
   }
  },
  {
   "cell_type": "markdown",
   "source": [
    "## PRESENCIA DE PUBLICIDAD"
   ],
   "metadata": {
    "collapsed": false
   }
  },
  {
   "cell_type": "code",
   "execution_count": 46,
   "source": [
    "graph_binary_pie(datos['Ad Supported'], ['Con Publicidad', 'Sin Publicidad'], ['#761A16', '#00621A'])"
   ],
   "outputs": [
    {
     "output_type": "display_data",
     "data": {
      "image/svg+xml": "<svg class=\"main-svg\" xmlns=\"http://www.w3.org/2000/svg\" xmlns:xlink=\"http://www.w3.org/1999/xlink\" width=\"500\" height=\"400\" style=\"\" viewBox=\"0 0 500 400\"><rect x=\"0\" y=\"0\" width=\"500\" height=\"400\" style=\"fill: rgb(255, 255, 255); fill-opacity: 1;\"/><defs id=\"defs-1b011d\"><g class=\"clips\"/><g class=\"gradients\"/><g class=\"patterns\"/></defs><g class=\"bglayer\"/><g class=\"layer-below\"><g class=\"imagelayer\"/><g class=\"shapelayer\"/></g><g class=\"cartesianlayer\"/><g class=\"polarlayer\"/><g class=\"ternarylayer\"/><g class=\"geolayer\"/><g class=\"funnelarealayer\"/><g class=\"pielayer\"><g class=\"trace\" stroke-linejoin=\"round\" style=\"opacity: 1;\"><g class=\"slice\"><path class=\"surface\" d=\"M228.7460779897981,209.50481442019625a10.083333333333336,10.083333333333336 0 1 0 9.2539220102019,-14.0881477535296l0,-90.75000000000001a100.83333333333334,100.83333333333334 0 1 1 -92.539220102019,140.881477535296Z\" style=\"pointer-events: all; stroke-width: 0; fill: rgb(118, 26, 22); fill-opacity: 1; stroke: rgb(68, 68, 68); stroke-opacity: 1;\"/><g class=\"slicetext\"><text data-notex=\"1\" class=\"slicetext\" transform=\"translate(373.97717845717676,262.1670706495534)\" text-anchor=\"middle\" x=\"0\" y=\"0\" style=\"font-family: 'Open Sans', verdana, arial, sans-serif; font-size: 12px; fill: rgb(118, 26, 22); fill-opacity: 1; white-space: pre;\"><tspan class=\"line\" dy=\"0em\" x=\"0\" y=\"0\">Con Publicidad</tspan><tspan class=\"line\" dy=\"1.3em\" x=\"0\" y=\"0\">68.5%</tspan></text></g></g><g class=\"slice\"><path class=\"surface\" d=\"M221.14440805856464,184.34492494513682a10.083333333333336,10.083333333333336 0 0 0 -9.253922010201899,14.088147753529604l-83.2852980918171,36.04332978176643a100.83333333333334,100.83333333333334 0 0 1 92.53922010201899,-140.88147753529603Z\" style=\"pointer-events: all; stroke-width: 0; fill: rgb(0, 98, 26); fill-opacity: 1; stroke: rgb(68, 68, 68); stroke-opacity: 1;\"/><g class=\"slicetext\"><text data-notex=\"1\" class=\"slicetext\" transform=\"translate(87.26097960138787,131.15181262891682)\" text-anchor=\"middle\" x=\"0\" y=\"0\" style=\"font-family: 'Open Sans', verdana, arial, sans-serif; font-size: 12px; fill: rgb(0, 98, 26); fill-opacity: 1; white-space: pre;\"><tspan class=\"line\" dy=\"0em\" x=\"0\" y=\"0\">Sin Publicidad</tspan><tspan class=\"line\" dy=\"1.3em\" x=\"0\" y=\"0\">31.5%</tspan></text></g></g></g></g><g class=\"iciclelayer\"/><g class=\"treemaplayer\"/><g class=\"sunburstlayer\"/><g class=\"glimages\"/><defs id=\"topdefs-1b011d\"><g class=\"clips\"/><clipPath id=\"legend1b011d\"><rect width=\"134\" height=\"48\" x=\"0\" y=\"0\"/></clipPath></defs><g class=\"layer-above\"><g class=\"imagelayer\"/><g class=\"shapelayer\"/></g><g class=\"infolayer\"><g class=\"legend\" pointer-events=\"all\" transform=\"translate(363.84000000000003,61)\"><rect class=\"bg\" shape-rendering=\"crispEdges\" style=\"stroke: rgb(68, 68, 68); stroke-opacity: 1; fill: rgb(255, 255, 255); fill-opacity: 1; stroke-width: 0px;\" width=\"134\" height=\"48\" x=\"0\" y=\"0\"/><g class=\"scrollbox\" transform=\"\" clip-path=\"url(#legend1b011d)\"><g class=\"groups\"><g class=\"traces\" transform=\"translate(0,14.5)\" style=\"opacity: 1;\"><text class=\"legendtext\" text-anchor=\"start\" x=\"40\" y=\"4.680000000000001\" style=\"font-family: 'Open Sans', verdana, arial, sans-serif; font-size: 12px; fill: rgb(42, 63, 95); fill-opacity: 1; white-space: pre;\">Con Publicidad</text><g class=\"layers\" style=\"opacity: 1;\"><g class=\"legendfill\"/><g class=\"legendlines\"/><g class=\"legendsymbols\"><g class=\"legendpoints\"><path class=\"legendpie\" d=\"M6,6H-6V-6H6Z\" transform=\"translate(20,0)\" style=\"stroke-width: 0; fill: rgb(118, 26, 22); fill-opacity: 1; stroke: rgb(68, 68, 68); stroke-opacity: 1;\"/></g></g></g><rect class=\"legendtoggle\" x=\"0\" y=\"-9.5\" width=\"128.078125\" height=\"19\" style=\"fill: rgb(0, 0, 0); fill-opacity: 0;\"/></g><g class=\"traces\" transform=\"translate(0,33.5)\" style=\"opacity: 1;\"><text class=\"legendtext\" text-anchor=\"start\" x=\"40\" y=\"4.680000000000001\" style=\"font-family: 'Open Sans', verdana, arial, sans-serif; font-size: 12px; fill: rgb(42, 63, 95); fill-opacity: 1; white-space: pre;\">Sin Publicidad</text><g class=\"layers\" style=\"opacity: 1;\"><g class=\"legendfill\"/><g class=\"legendlines\"/><g class=\"legendsymbols\"><g class=\"legendpoints\"><path class=\"legendpie\" d=\"M6,6H-6V-6H6Z\" transform=\"translate(20,0)\" style=\"stroke-width: 0; fill: rgb(0, 98, 26); fill-opacity: 1; stroke: rgb(68, 68, 68); stroke-opacity: 1;\"/></g></g></g><rect class=\"legendtoggle\" x=\"0\" y=\"-9.5\" width=\"128.078125\" height=\"19\" style=\"fill: rgb(0, 0, 0); fill-opacity: 0;\"/></g></g></g><rect class=\"scrollbar\" rx=\"20\" ry=\"3\" width=\"0\" height=\"0\" style=\"fill: rgb(128, 139, 164); fill-opacity: 1;\" x=\"0\" y=\"0\"/></g><g class=\"g-gtitle\"/></g></svg>"
     },
     "metadata": {}
    }
   ],
   "metadata": {
    "collapsed": false,
    "pycharm": {
     "name": "#%%\n"
    }
   }
  },
  {
   "cell_type": "markdown",
   "source": [
    "## COMPRAS O TIENDA DENTRO DE LA APLICACIÓN (MICRO-VENTAS)"
   ],
   "metadata": {
    "collapsed": false
   }
  },
  {
   "cell_type": "code",
   "execution_count": 47,
   "source": [
    "graph_binary_pie(datos['In App Purchases'], ['Sin Micro-ventas', 'Con Micro-ventas'], ['#00621A', '#761A16'])"
   ],
   "outputs": [
    {
     "output_type": "display_data",
     "data": {
      "image/svg+xml": "<svg class=\"main-svg\" xmlns=\"http://www.w3.org/2000/svg\" xmlns:xlink=\"http://www.w3.org/1999/xlink\" width=\"500\" height=\"400\" style=\"\" viewBox=\"0 0 500 400\"><rect x=\"0\" y=\"0\" width=\"500\" height=\"400\" style=\"fill: rgb(255, 255, 255); fill-opacity: 1;\"/><defs id=\"defs-2d370a\"><g class=\"clips\"/><g class=\"gradients\"/><g class=\"patterns\"/></defs><g class=\"bglayer\"/><g class=\"layer-below\"><g class=\"imagelayer\"/><g class=\"shapelayer\"/></g><g class=\"cartesianlayer\"/><g class=\"polarlayer\"/><g class=\"ternarylayer\"/><g class=\"geolayer\"/><g class=\"funnelarealayer\"/><g class=\"pielayer\"><g class=\"trace\" stroke-linejoin=\"round\" style=\"opacity: 1;\"><g class=\"slice\"><path class=\"surface\" d=\"M208.93291986602415,203.64801204905234a10.375,10.375 0 1 0 8.567080133975837,-4.523012049052343l0,-93.375a103.75,103.75 0 1 1 -85.67080133975837,45.23012049052343Z\" style=\"pointer-events: all; stroke-width: 0; fill: rgb(0, 98, 26); fill-opacity: 1; stroke: rgb(68, 68, 68); stroke-opacity: 1;\"/><g class=\"slicetext\"><text data-notex=\"1\" class=\"slicetext\" transform=\"translate(323.8567187384741,309.91223501005675)\" text-anchor=\"middle\" x=\"0\" y=\"0\" style=\"font-family: 'Open Sans', verdana, arial, sans-serif; font-size: 12px; fill: rgb(0, 98, 26); fill-opacity: 1; white-space: pre;\"><tspan class=\"line\" dy=\"0em\" x=\"0\" y=\"0\">Sin Micro-ventas</tspan><tspan class=\"line\" dy=\"1.3em\" x=\"0\" y=\"0\">84.5%</tspan></text></g></g><g class=\"slice\"><path class=\"surface\" d=\"M207.81225000230518,180.77534060310208a10.375,10.375 0 0 0 -8.567080133975841,4.523012049052347l-77.10372120578256,-52.667891558528886a103.75,103.75 0 0 1 85.6708013397584,-45.23012049052346Z\" style=\"pointer-events: all; stroke-width: 0; fill: rgb(118, 26, 22); fill-opacity: 1; stroke: rgb(68, 68, 68); stroke-opacity: 1;\"/><g class=\"slicetext\"><text data-notex=\"1\" class=\"slicetext\" transform=\"translate(98.62740626383103,84.12873059304533)\" text-anchor=\"middle\" x=\"0\" y=\"0\" style=\"font-family: 'Open Sans', verdana, arial, sans-serif; font-size: 12px; fill: rgb(118, 26, 22); fill-opacity: 1; white-space: pre;\"><tspan class=\"line\" dy=\"0em\" x=\"0\" y=\"0\">Con Micro-ventas</tspan><tspan class=\"line\" dy=\"1.3em\" x=\"0\" y=\"0\">15.5%</tspan></text></g></g></g></g><g class=\"iciclelayer\"/><g class=\"treemaplayer\"/><g class=\"sunburstlayer\"/><g class=\"glimages\"/><defs id=\"topdefs-2d370a\"><g class=\"clips\"/><clipPath id=\"legend2d370a\"><rect width=\"151\" height=\"48\" x=\"0\" y=\"0\"/></clipPath></defs><g class=\"layer-above\"><g class=\"imagelayer\"/><g class=\"shapelayer\"/></g><g class=\"infolayer\"><g class=\"legend\" pointer-events=\"all\" transform=\"translate(346.98,72)\"><rect class=\"bg\" shape-rendering=\"crispEdges\" style=\"stroke: rgb(68, 68, 68); stroke-opacity: 1; fill: rgb(255, 255, 255); fill-opacity: 1; stroke-width: 0px;\" width=\"151\" height=\"48\" x=\"0\" y=\"0\"/><g class=\"scrollbox\" transform=\"\" clip-path=\"url(#legend2d370a)\"><g class=\"groups\"><g class=\"traces\" transform=\"translate(0,14.5)\" style=\"opacity: 1;\"><text class=\"legendtext\" text-anchor=\"start\" x=\"40\" y=\"4.680000000000001\" style=\"font-family: 'Open Sans', verdana, arial, sans-serif; font-size: 12px; fill: rgb(42, 63, 95); fill-opacity: 1; white-space: pre;\">Sin Micro-ventas</text><g class=\"layers\" style=\"opacity: 1;\"><g class=\"legendfill\"/><g class=\"legendlines\"/><g class=\"legendsymbols\"><g class=\"legendpoints\"><path class=\"legendpie\" d=\"M6,6H-6V-6H6Z\" transform=\"translate(20,0)\" style=\"stroke-width: 0; fill: rgb(0, 98, 26); fill-opacity: 1; stroke: rgb(68, 68, 68); stroke-opacity: 1;\"/></g></g></g><rect class=\"legendtoggle\" x=\"0\" y=\"-9.5\" width=\"145.4375\" height=\"19\" style=\"fill: rgb(0, 0, 0); fill-opacity: 0;\"/></g><g class=\"traces\" transform=\"translate(0,33.5)\" style=\"opacity: 1;\"><text class=\"legendtext\" text-anchor=\"start\" x=\"40\" y=\"4.680000000000001\" style=\"font-family: 'Open Sans', verdana, arial, sans-serif; font-size: 12px; fill: rgb(42, 63, 95); fill-opacity: 1; white-space: pre;\">Con Micro-ventas</text><g class=\"layers\" style=\"opacity: 1;\"><g class=\"legendfill\"/><g class=\"legendlines\"/><g class=\"legendsymbols\"><g class=\"legendpoints\"><path class=\"legendpie\" d=\"M6,6H-6V-6H6Z\" transform=\"translate(20,0)\" style=\"stroke-width: 0; fill: rgb(118, 26, 22); fill-opacity: 1; stroke: rgb(68, 68, 68); stroke-opacity: 1;\"/></g></g></g><rect class=\"legendtoggle\" x=\"0\" y=\"-9.5\" width=\"145.4375\" height=\"19\" style=\"fill: rgb(0, 0, 0); fill-opacity: 0;\"/></g></g></g><rect class=\"scrollbar\" rx=\"20\" ry=\"3\" width=\"0\" height=\"0\" style=\"fill: rgb(128, 139, 164); fill-opacity: 1;\" x=\"0\" y=\"0\"/></g><g class=\"g-gtitle\"/></g></svg>"
     },
     "metadata": {}
    }
   ],
   "metadata": {
    "collapsed": false,
    "pycharm": {
     "name": "#%%\n"
    }
   }
  },
  {
   "cell_type": "markdown",
   "source": [
    "## ELECCIÓN DEL EDITOR"
   ],
   "metadata": {
    "collapsed": false
   }
  },
  {
   "cell_type": "code",
   "execution_count": 48,
   "source": [
    "graph_binary_pie(datos['Editors Choice'], ['Sin Recomendación', 'Con Recomendación'], ['#00621A', '#761A16'])"
   ],
   "outputs": [
    {
     "output_type": "display_data",
     "data": {
      "image/svg+xml": "<svg class=\"main-svg\" xmlns=\"http://www.w3.org/2000/svg\" xmlns:xlink=\"http://www.w3.org/1999/xlink\" width=\"500\" height=\"400\" style=\"\" viewBox=\"0 0 500 400\"><rect x=\"0\" y=\"0\" width=\"500\" height=\"400\" style=\"fill: rgb(255, 255, 255); fill-opacity: 1;\"/><defs id=\"defs-e17fb0\"><g class=\"clips\"/><g class=\"gradients\"/><g class=\"patterns\"/></defs><g class=\"bglayer\"/><g class=\"layer-below\"><g class=\"imagelayer\"/><g class=\"shapelayer\"/></g><g class=\"cartesianlayer\"/><g class=\"polarlayer\"/><g class=\"ternarylayer\"/><g class=\"geolayer\"/><g class=\"funnelarealayer\"/><g class=\"pielayer\"><g class=\"trace\" stroke-linejoin=\"round\" style=\"opacity: 1;\"><g class=\"slice\"><path class=\"surface\" d=\"M188.92507313097113,199.54192282338082a10.958333333333336,10.958333333333336 0 1 0 0.07492686902887484,-0.0002561567141626142l0,-98.62500000000001a109.58333333333334,109.58333333333334 0 1 1 -0.7492686902887484,0.002561567141626142Z\" style=\"pointer-events: all; stroke-width: 0; fill: rgb(0, 98, 26); fill-opacity: 1; stroke: rgb(68, 68, 68); stroke-opacity: 1;\"/><g class=\"slicetext\"><text data-notex=\"1\" class=\"slicetext\" transform=\"translate(255.8082302844815,332.0825140621804)\" text-anchor=\"middle\" x=\"0\" y=\"0\" style=\"font-family: 'Open Sans', verdana, arial, sans-serif; font-size: 12px; fill: rgb(0, 98, 26); fill-opacity: 1; white-space: pre;\"><tspan class=\"line\" dy=\"0em\" x=\"0\" y=\"0\">Sin Recomendación</tspan><tspan class=\"line\" dy=\"1.3em\" x=\"0\" y=\"0\">99.9%</tspan></text></g></g><g class=\"slice\"><path class=\"surface\" d=\"M188.92507269310371,177.6251280787313a10.958333333333336,10.958333333333336 0 0 0 -0.07492686902887018,0.0002561567141626142l-0.6743418212598316,-98.62269458957255a109.58333333333334,109.58333333333334 0 0 1 0.7492686902887017,-0.002561567141626142Z\" style=\"pointer-events: all; stroke-width: 0; fill: rgb(118, 26, 22); fill-opacity: 1; stroke: rgb(68, 68, 68); stroke-opacity: 1;\"/><g class=\"slicetext\"><text data-notex=\"1\" class=\"slicetext\" transform=\"translate(120.02309240862223,60.39157234988425)\" text-anchor=\"middle\" x=\"0\" y=\"0\" style=\"font-family: 'Open Sans', verdana, arial, sans-serif; font-size: 12px; fill: rgb(118, 26, 22); fill-opacity: 1; white-space: pre;\"><tspan class=\"line\" dy=\"0em\" x=\"0\" y=\"0\">Con Recomendación</tspan><tspan class=\"line\" dy=\"1.3em\" x=\"0\" y=\"0\">0.109%</tspan></text></g></g></g></g><g class=\"iciclelayer\"/><g class=\"treemaplayer\"/><g class=\"sunburstlayer\"/><g class=\"glimages\"/><defs id=\"topdefs-e17fb0\"><g class=\"clips\"/><clipPath id=\"legende17fb0\"><rect width=\"167\" height=\"48\" x=\"0\" y=\"0\"/></clipPath></defs><g class=\"layer-above\"><g class=\"imagelayer\"/><g class=\"shapelayer\"/></g><g class=\"infolayer\"><g class=\"legend\" pointer-events=\"all\" transform=\"translate(331.48,79)\"><rect class=\"bg\" shape-rendering=\"crispEdges\" style=\"stroke: rgb(68, 68, 68); stroke-opacity: 1; fill: rgb(255, 255, 255); fill-opacity: 1; stroke-width: 0px;\" width=\"167\" height=\"48\" x=\"0\" y=\"0\"/><g class=\"scrollbox\" transform=\"\" clip-path=\"url(#legende17fb0)\"><g class=\"groups\"><g class=\"traces\" transform=\"translate(0,14.5)\" style=\"opacity: 1;\"><text class=\"legendtext\" text-anchor=\"start\" x=\"40\" y=\"4.680000000000001\" style=\"font-family: 'Open Sans', verdana, arial, sans-serif; font-size: 12px; fill: rgb(42, 63, 95); fill-opacity: 1; white-space: pre;\">Sin Recomendación</text><g class=\"layers\" style=\"opacity: 1;\"><g class=\"legendfill\"/><g class=\"legendlines\"/><g class=\"legendsymbols\"><g class=\"legendpoints\"><path class=\"legendpie\" d=\"M6,6H-6V-6H6Z\" transform=\"translate(20,0)\" style=\"stroke-width: 0; fill: rgb(0, 98, 26); fill-opacity: 1; stroke: rgb(68, 68, 68); stroke-opacity: 1;\"/></g></g></g><rect class=\"legendtoggle\" x=\"0\" y=\"-9.5\" width=\"161.734375\" height=\"19\" style=\"fill: rgb(0, 0, 0); fill-opacity: 0;\"/></g><g class=\"traces\" transform=\"translate(0,33.5)\" style=\"opacity: 1;\"><text class=\"legendtext\" text-anchor=\"start\" x=\"40\" y=\"4.680000000000001\" style=\"font-family: 'Open Sans', verdana, arial, sans-serif; font-size: 12px; fill: rgb(42, 63, 95); fill-opacity: 1; white-space: pre;\">Con Recomendación</text><g class=\"layers\" style=\"opacity: 1;\"><g class=\"legendfill\"/><g class=\"legendlines\"/><g class=\"legendsymbols\"><g class=\"legendpoints\"><path class=\"legendpie\" d=\"M6,6H-6V-6H6Z\" transform=\"translate(20,0)\" style=\"stroke-width: 0; fill: rgb(118, 26, 22); fill-opacity: 1; stroke: rgb(68, 68, 68); stroke-opacity: 1;\"/></g></g></g><rect class=\"legendtoggle\" x=\"0\" y=\"-9.5\" width=\"161.734375\" height=\"19\" style=\"fill: rgb(0, 0, 0); fill-opacity: 0;\"/></g></g></g><rect class=\"scrollbar\" rx=\"20\" ry=\"3\" width=\"0\" height=\"0\" style=\"fill: rgb(128, 139, 164); fill-opacity: 1;\" x=\"0\" y=\"0\"/></g><g class=\"g-gtitle\"/></g></svg>"
     },
     "metadata": {}
    }
   ],
   "metadata": {
    "collapsed": false,
    "pycharm": {
     "name": "#%%\n"
    }
   }
  },
  {
   "cell_type": "markdown",
   "source": [
    "## RATING DEL CONTENIDO"
   ],
   "metadata": {
    "collapsed": false
   }
  },
  {
   "cell_type": "code",
   "execution_count": 49,
   "source": [
    "graph_binary_pie(datos['Content Rating'],\r\n",
    "                 ['Everyone', 'Teen', 'Mature 17+', 'Everyone 10+', 'Unrated', 'Adults Only 18+'],\r\n",
    "                 ['#00621A', '#761A16', '#0093E2', '#28225C', '#F9C1A2', '#000000'],\r\n",
    "                 [0, 0.2, 0.2, 0.2, 0.2, 0.2])"
   ],
   "outputs": [
    {
     "output_type": "display_data",
     "data": {
      "image/svg+xml": "<svg class=\"main-svg\" xmlns=\"http://www.w3.org/2000/svg\" xmlns:xlink=\"http://www.w3.org/1999/xlink\" width=\"500\" height=\"400\" style=\"\" viewBox=\"0 0 500 400\"><rect x=\"0\" y=\"0\" width=\"500\" height=\"400\" style=\"fill: rgb(255, 255, 255); fill-opacity: 1;\"/><defs id=\"defs-59ada2\"><g class=\"clips\"/><g class=\"gradients\"/><g class=\"patterns\"/></defs><g class=\"bglayer\"/><g class=\"layer-below\"><g class=\"imagelayer\"/><g class=\"shapelayer\"/></g><g class=\"cartesianlayer\"/><g class=\"polarlayer\"/><g class=\"ternarylayer\"/><g class=\"geolayer\"/><g class=\"funnelarealayer\"/><g class=\"pielayer\"><g class=\"trace\" stroke-linejoin=\"round\" style=\"opacity: 1;\"><g class=\"slice\"><path class=\"surface\" d=\"M231.01053396436853,245.46336663836237a8.916666666666668,8.916666666666668 0 1 0 6.989466035631465,-3.380033305029052l0,-80.25a89.16666666666667,89.16666666666667 0 1 1 -69.89466035631465,33.80033305029052Z\" style=\"pointer-events: all; stroke-width: 0; fill: rgb(0, 98, 26); fill-opacity: 1; stroke: rgb(68, 68, 68); stroke-opacity: 1;\"/><g class=\"slicetext\"><text data-notex=\"1\" class=\"slicetext\" transform=\"translate(312.40905954783375,340.3722848387446)\" text-anchor=\"middle\" x=\"0\" y=\"0\" style=\"font-family: 'Open Sans', verdana, arial, sans-serif; font-size: 12px; fill: rgb(0, 98, 26); fill-opacity: 1; white-space: pre;\"><tspan class=\"line\" dy=\"0em\" x=\"0\" y=\"0\">Everyone</tspan><tspan class=\"line\" dy=\"1.3em\" x=\"0\" y=\"0\">85.7%</tspan></text></g></g><g class=\"slice\"><path class=\"surface\" d=\"M232.84222996226092,225.01215335022792a8.916666666666668,8.916666666666668 0 0 0 -4.937339474338999,1.491734117506482l-44.43605526905099,-66.82439294244166a89.16666666666667,89.16666666666667 0 0 1 49.37339474338999,-14.91734117506482Z\" style=\"pointer-events: all; stroke-width: 0; fill: rgb(118, 26, 22); fill-opacity: 1; stroke: rgb(68, 68, 68); stroke-opacity: 1;\"/><g class=\"slicetext\"><text data-notex=\"1\" class=\"slicetext\" transform=\"translate(179.22916102356555,52.900436953255394)\" text-anchor=\"middle\" x=\"0\" y=\"0\" style=\"font-family: 'Open Sans', verdana, arial, sans-serif; font-size: 12px; fill: rgb(118, 26, 22); fill-opacity: 1; white-space: pre;\"><tspan class=\"line\" dy=\"0em\" x=\"0\" y=\"0\">Teen</tspan><tspan class=\"line\" dy=\"1.3em\" x=\"0\" y=\"0\">9.34%</tspan></text></g><path class=\"textline\" stroke-width=\"1.5\" d=\"M207.05337977356555,148.57292010136752V56.205124453255394h-7.65234375\" fill=\"none\" style=\"stroke: rgb(0, 0, 0); stroke-opacity: 1;\"/></g><g class=\"slice\"><path class=\"surface\" d=\"M221.82459638045128,229.7282738853269a8.916666666666668,8.916666666666668 0 0 0 -1.3127658199839658,1.0654413545503132l-56.25094764890668,-57.235420751488846a89.16666666666667,89.16666666666667 0 0 1 13.127658199839658,-10.654413545503132Z\" style=\"pointer-events: all; stroke-width: 0; fill: rgb(0, 147, 226); fill-opacity: 1; stroke: rgb(68, 68, 68); stroke-opacity: 1;\"/><g class=\"slicetext\"><text data-notex=\"1\" class=\"slicetext\" transform=\"translate(127.30989637874177,83.5098119532554)\" text-anchor=\"middle\" x=\"0\" y=\"0\" style=\"font-family: 'Open Sans', verdana, arial, sans-serif; font-size: 12px; fill: rgb(0, 147, 226); fill-opacity: 1; white-space: pre;\"><tspan class=\"line\" dy=\"0em\" x=\"0\" y=\"0\">Mature 17+</tspan><tspan class=\"line\" dy=\"1.3em\" x=\"0\" y=\"0\">3.02%</tspan></text></g><path class=\"textline\" stroke-width=\"1.5\" d=\"M170.57161512874177,167.91923860692253V86.8144994532554h-7.65234375\" fill=\"none\" style=\"stroke: rgb(0, 0, 0); stroke-opacity: 1;\"/></g><g class=\"slice\"><path class=\"surface\" d=\"M218.49003805892806,232.7155777999107a8.916666666666668,8.916666666666668 0 0 0 -0.7344716310937195,0.8166913951058987l-62.86119232875016,-49.88519819553576a89.16666666666667,89.16666666666667 0 0 1 7.344716310937194,-8.166913951058987Z\" style=\"pointer-events: all; stroke-width: 0; fill: rgb(40, 34, 92); fill-opacity: 1; stroke: rgb(68, 68, 68); stroke-opacity: 1;\"/><g class=\"slicetext\"><text data-notex=\"1\" class=\"slicetext\" transform=\"translate(108.19476636950617,114.1191869532554)\" text-anchor=\"middle\" x=\"0\" y=\"0\" style=\"font-family: 'Open Sans', verdana, arial, sans-serif; font-size: 12px; fill: rgb(40, 34, 92); fill-opacity: 1; white-space: pre;\"><tspan class=\"line\" dy=\"0em\" x=\"0\" y=\"0\">Everyone 10+</tspan><tspan class=\"line\" dy=\"1.3em\" x=\"0\" y=\"0\">1.96%</tspan></text></g><path class=\"textline\" stroke-width=\"1.5\" d=\"M158.44086011950617,179.45041396712332V117.4238744532554h-7.65234375\" fill=\"none\" style=\"stroke: rgb(0, 0, 0); stroke-opacity: 1;\"/></g><g class=\"slice\"><path class=\"surface\" d=\"M217.0432831391813,234.37536445891774a8.916666666666668,8.916666666666668 0 0 0 -0.002985577500622583,0.0037642596045863288l-62.88806252625576,-49.85131985909448a89.16666666666667,89.16666666666667 0 0 1 0.029855775006225826,-0.037642596045863286Z\" style=\"pointer-events: all; stroke-width: 0; fill: rgb(249, 193, 162); fill-opacity: 1; stroke: rgb(68, 68, 68); stroke-opacity: 1;\"/><g class=\"slicetext\"><text data-notex=\"1\" class=\"slicetext\" transform=\"translate(114.88981663758796,144.7285619532554)\" text-anchor=\"middle\" x=\"0\" y=\"0\" style=\"font-family: 'Open Sans', verdana, arial, sans-serif; font-size: 12px; fill: rgb(249, 193, 162); fill-opacity: 1; white-space: pre;\"><tspan class=\"line\" dy=\"0em\" x=\"0\" y=\"0\">Unrated</tspan><tspan class=\"line\" dy=\"1.3em\" x=\"0\" y=\"0\">0.00858%</tspan></text></g><path class=\"textline\" stroke-width=\"1.5\" d=\"M154.16716038758796,184.5089855505302V148.0332494532554h-7.65234375\" fill=\"none\" style=\"stroke: rgb(0, 0, 0); stroke-opacity: 1;\"/></g><g class=\"slice\"><path class=\"surface\" d=\"M217.03540875210734,234.38529539498717a8.916666666666668,8.916666666666668 0 0 0 -0.0019035327141594394,0.002402178261775134l-62.905194320683194,-49.829700254738505a89.16666666666667,89.16666666666667 0 0 1 0.019035327141594394,-0.02402178261775134Z\" style=\"pointer-events: all; stroke-width: 0; fill: rgb(0, 0, 0); fill-opacity: 1; stroke: rgb(68, 68, 68); stroke-opacity: 1;\"/><g class=\"slicetext\"><text data-notex=\"1\" class=\"slicetext\" transform=\"translate(97.23548378014789,175.3379369532554)\" text-anchor=\"middle\" x=\"0\" y=\"0\" style=\"font-family: 'Open Sans', verdana, arial, sans-serif; font-size: 12px; fill: rgb(0, 0, 0); fill-opacity: 1; white-space: pre;\"><tspan class=\"line\" dy=\"0em\" x=\"0\" y=\"0\">Adults Only 18+</tspan><tspan class=\"line\" dy=\"1.3em\" x=\"0\" y=\"0\">0.00547%</tspan></text></g></g></g></g><g class=\"iciclelayer\"/><g class=\"treemaplayer\"/><g class=\"sunburstlayer\"/><g class=\"glimages\"/><defs id=\"topdefs-59ada2\"><g class=\"clips\"/><clipPath id=\"legend59ada2\"><rect width=\"145\" height=\"124\" x=\"0\" y=\"0\"/></clipPath></defs><g class=\"layer-above\"><g class=\"imagelayer\"/><g class=\"shapelayer\"/></g><g class=\"infolayer\"><g class=\"legend\" pointer-events=\"all\" transform=\"translate(353.44,144)\"><rect class=\"bg\" shape-rendering=\"crispEdges\" style=\"stroke: rgb(68, 68, 68); stroke-opacity: 1; fill: rgb(255, 255, 255); fill-opacity: 1; stroke-width: 0px;\" width=\"145\" height=\"124\" x=\"0\" y=\"0\"/><g class=\"scrollbox\" transform=\"\" clip-path=\"url(#legend59ada2)\"><g class=\"groups\"><g class=\"traces\" transform=\"translate(0,14.5)\" style=\"opacity: 1;\"><text class=\"legendtext\" text-anchor=\"start\" x=\"40\" y=\"4.680000000000001\" style=\"font-family: 'Open Sans', verdana, arial, sans-serif; font-size: 12px; fill: rgb(42, 63, 95); fill-opacity: 1; white-space: pre;\">Everyone</text><g class=\"layers\" style=\"opacity: 1;\"><g class=\"legendfill\"/><g class=\"legendlines\"/><g class=\"legendsymbols\"><g class=\"legendpoints\"><path class=\"legendpie\" d=\"M6,6H-6V-6H6Z\" transform=\"translate(20,0)\" style=\"stroke-width: 0; fill: rgb(0, 98, 26); fill-opacity: 1; stroke: rgb(68, 68, 68); stroke-opacity: 1;\"/></g></g></g><rect class=\"legendtoggle\" x=\"0\" y=\"-9.5\" width=\"139.5\" height=\"19\" style=\"fill: rgb(0, 0, 0); fill-opacity: 0;\"/></g><g class=\"traces\" transform=\"translate(0,33.5)\" style=\"opacity: 1;\"><text class=\"legendtext\" text-anchor=\"start\" x=\"40\" y=\"4.680000000000001\" style=\"font-family: 'Open Sans', verdana, arial, sans-serif; font-size: 12px; fill: rgb(42, 63, 95); fill-opacity: 1; white-space: pre;\">Teen</text><g class=\"layers\" style=\"opacity: 1;\"><g class=\"legendfill\"/><g class=\"legendlines\"/><g class=\"legendsymbols\"><g class=\"legendpoints\"><path class=\"legendpie\" d=\"M6,6H-6V-6H6Z\" transform=\"translate(20,0)\" style=\"stroke-width: 0; fill: rgb(118, 26, 22); fill-opacity: 1; stroke: rgb(68, 68, 68); stroke-opacity: 1;\"/></g></g></g><rect class=\"legendtoggle\" x=\"0\" y=\"-9.5\" width=\"139.5\" height=\"19\" style=\"fill: rgb(0, 0, 0); fill-opacity: 0;\"/></g><g class=\"traces\" transform=\"translate(0,52.5)\" style=\"opacity: 1;\"><text class=\"legendtext\" text-anchor=\"start\" x=\"40\" y=\"4.680000000000001\" style=\"font-family: 'Open Sans', verdana, arial, sans-serif; font-size: 12px; fill: rgb(42, 63, 95); fill-opacity: 1; white-space: pre;\">Mature 17+</text><g class=\"layers\" style=\"opacity: 1;\"><g class=\"legendfill\"/><g class=\"legendlines\"/><g class=\"legendsymbols\"><g class=\"legendpoints\"><path class=\"legendpie\" d=\"M6,6H-6V-6H6Z\" transform=\"translate(20,0)\" style=\"stroke-width: 0; fill: rgb(0, 147, 226); fill-opacity: 1; stroke: rgb(68, 68, 68); stroke-opacity: 1;\"/></g></g></g><rect class=\"legendtoggle\" x=\"0\" y=\"-9.5\" width=\"139.5\" height=\"19\" style=\"fill: rgb(0, 0, 0); fill-opacity: 0;\"/></g><g class=\"traces\" transform=\"translate(0,71.5)\" style=\"opacity: 1;\"><text class=\"legendtext\" text-anchor=\"start\" x=\"40\" y=\"4.680000000000001\" style=\"font-family: 'Open Sans', verdana, arial, sans-serif; font-size: 12px; fill: rgb(42, 63, 95); fill-opacity: 1; white-space: pre;\">Everyone 10+</text><g class=\"layers\" style=\"opacity: 1;\"><g class=\"legendfill\"/><g class=\"legendlines\"/><g class=\"legendsymbols\"><g class=\"legendpoints\"><path class=\"legendpie\" d=\"M6,6H-6V-6H6Z\" transform=\"translate(20,0)\" style=\"stroke-width: 0; fill: rgb(40, 34, 92); fill-opacity: 1; stroke: rgb(68, 68, 68); stroke-opacity: 1;\"/></g></g></g><rect class=\"legendtoggle\" x=\"0\" y=\"-9.5\" width=\"139.5\" height=\"19\" style=\"fill: rgb(0, 0, 0); fill-opacity: 0;\"/></g><g class=\"traces\" transform=\"translate(0,90.5)\" style=\"opacity: 1;\"><text class=\"legendtext\" text-anchor=\"start\" x=\"40\" y=\"4.680000000000001\" style=\"font-family: 'Open Sans', verdana, arial, sans-serif; font-size: 12px; fill: rgb(42, 63, 95); fill-opacity: 1; white-space: pre;\">Unrated</text><g class=\"layers\" style=\"opacity: 1;\"><g class=\"legendfill\"/><g class=\"legendlines\"/><g class=\"legendsymbols\"><g class=\"legendpoints\"><path class=\"legendpie\" d=\"M6,6H-6V-6H6Z\" transform=\"translate(20,0)\" style=\"stroke-width: 0; fill: rgb(249, 193, 162); fill-opacity: 1; stroke: rgb(68, 68, 68); stroke-opacity: 1;\"/></g></g></g><rect class=\"legendtoggle\" x=\"0\" y=\"-9.5\" width=\"139.5\" height=\"19\" style=\"fill: rgb(0, 0, 0); fill-opacity: 0;\"/></g><g class=\"traces\" transform=\"translate(0,109.5)\" style=\"opacity: 1;\"><text class=\"legendtext\" text-anchor=\"start\" x=\"40\" y=\"4.680000000000001\" style=\"font-family: 'Open Sans', verdana, arial, sans-serif; font-size: 12px; fill: rgb(42, 63, 95); fill-opacity: 1; white-space: pre;\">Adults Only 18+</text><g class=\"layers\" style=\"opacity: 1;\"><g class=\"legendfill\"/><g class=\"legendlines\"/><g class=\"legendsymbols\"><g class=\"legendpoints\"><path class=\"legendpie\" d=\"M6,6H-6V-6H6Z\" transform=\"translate(20,0)\" style=\"stroke-width: 0; fill: rgb(0, 0, 0); fill-opacity: 1; stroke: rgb(68, 68, 68); stroke-opacity: 1;\"/></g></g></g><rect class=\"legendtoggle\" x=\"0\" y=\"-9.5\" width=\"139.5\" height=\"19\" style=\"fill: rgb(0, 0, 0); fill-opacity: 0;\"/></g></g></g><rect class=\"scrollbar\" rx=\"20\" ry=\"3\" width=\"0\" height=\"0\" style=\"fill: rgb(128, 139, 164); fill-opacity: 1;\" x=\"0\" y=\"0\"/></g><g class=\"g-gtitle\"/></g></svg>"
     },
     "metadata": {}
    }
   ],
   "metadata": {
    "collapsed": false,
    "pycharm": {
     "name": "#%%\n"
    }
   }
  },
  {
   "cell_type": "markdown",
   "source": [
    "## PRECIO"
   ],
   "metadata": {
    "collapsed": false
   }
  },
  {
   "cell_type": "code",
   "execution_count": 50,
   "source": [
    "paid = datos['Price USD'] != 0\r\n",
    "datos[paid]['Price USD'].describe()"
   ],
   "outputs": [
    {
     "output_type": "execute_result",
     "data": {
      "text/plain": [
       "count    23707.000000\n",
       "mean         4.323809\n",
       "std         12.549313\n",
       "min          0.990000\n",
       "25%          0.990000\n",
       "50%          1.990000\n",
       "75%          3.990000\n",
       "max        399.990000\n",
       "Name: Price USD, dtype: float64"
      ]
     },
     "metadata": {},
     "execution_count": 50
    }
   ],
   "metadata": {
    "collapsed": false,
    "pycharm": {
     "name": "#%%\n"
    }
   }
  },
  {
   "cell_type": "code",
   "execution_count": 51,
   "source": [
    "paid_apps = datos[paid]['Price USD'].value_counts()"
   ],
   "outputs": [],
   "metadata": {
    "collapsed": false,
    "pycharm": {
     "name": "#%%\n"
    }
   }
  },
  {
   "cell_type": "code",
   "execution_count": 52,
   "source": [
    "less_10 = datos[(datos['Price USD'] > 0) & (datos['Price USD'] < 10)]"
   ],
   "outputs": [],
   "metadata": {
    "collapsed": false,
    "pycharm": {
     "name": "#%%\n"
    }
   }
  },
  {
   "cell_type": "code",
   "execution_count": 53,
   "source": [
    "price_less_10_hist = go.Figure()\r\n",
    "price_less_10_hist.add_trace(go.Histogram(\r\n",
    "    x = less_10['Price USD'],\r\n",
    "    nbinsx = 15,\r\n",
    "    marker = dict(color = '#00621a'),\r\n",
    "))\r\n",
    "price_less_10_hist.update_layout(\r\n",
    "    width = 750,\r\n",
    "    margin = dict(r = 50, b = 60),\r\n",
    "    plot_bgcolor = '#E3E3D6',\r\n",
    "    title = dict(\r\n",
    "        font = dict(size = 26, color = '#00621a'),\r\n",
    "        text = 'Histograma Precio Menor a 10 USD',\r\n",
    "        x = 0.5\r\n",
    "    ),\r\n",
    "    yaxis_title_text = 'Frecuencia',\r\n",
    "    xaxis = dict(\r\n",
    "        tick0 = 0, dtick = 1, range = (0, 10),\r\n",
    "        title_text = 'Precio (USD)'\r\n",
    "    )\r\n",
    ")\r\n",
    "price_less_10_hist.show(renderer = 'svg')"
   ],
   "outputs": [
    {
     "output_type": "display_data",
     "data": {
      "image/svg+xml": "<svg class=\"main-svg\" xmlns=\"http://www.w3.org/2000/svg\" xmlns:xlink=\"http://www.w3.org/1999/xlink\" width=\"750\" height=\"500\" style=\"\" viewBox=\"0 0 750 500\"><rect x=\"0\" y=\"0\" width=\"750\" height=\"500\" style=\"fill: rgb(255, 255, 255); fill-opacity: 1;\"/><defs id=\"defs-33b577\"><g class=\"clips\"><clipPath id=\"clip33b577xyplot\" class=\"plotclip\"><rect width=\"620\" height=\"340\"/></clipPath><clipPath class=\"axesclip\" id=\"clip33b577x\"><rect x=\"80\" y=\"0\" width=\"620\" height=\"500\"/></clipPath><clipPath class=\"axesclip\" id=\"clip33b577y\"><rect x=\"0\" y=\"100\" width=\"750\" height=\"340\"/></clipPath><clipPath class=\"axesclip\" id=\"clip33b577xy\"><rect x=\"80\" y=\"100\" width=\"620\" height=\"340\"/></clipPath></g><g class=\"gradients\"/><g class=\"patterns\"/></defs><g class=\"bglayer\"><rect class=\"bg\" x=\"80\" y=\"100\" width=\"620\" height=\"340\" style=\"fill: rgb(227, 227, 214); fill-opacity: 1; stroke-width: 0;\"/></g><g class=\"layer-below\"><g class=\"imagelayer\"/><g class=\"shapelayer\"/></g><g class=\"cartesianlayer\"><g class=\"subplot xy\"><g class=\"layer-subplot\"><g class=\"shapelayer\"/><g class=\"imagelayer\"/></g><g class=\"gridlayer\"><g class=\"x\"/><g class=\"y\"><path class=\"ygrid crisp\" transform=\"translate(0,388.27)\" d=\"M80,0h620\" style=\"stroke: rgb(255, 255, 255); stroke-opacity: 1; stroke-width: 1px;\"/><path class=\"ygrid crisp\" transform=\"translate(0,336.53999999999996)\" d=\"M80,0h620\" style=\"stroke: rgb(255, 255, 255); stroke-opacity: 1; stroke-width: 1px;\"/><path class=\"ygrid crisp\" transform=\"translate(0,284.81)\" d=\"M80,0h620\" style=\"stroke: rgb(255, 255, 255); stroke-opacity: 1; stroke-width: 1px;\"/><path class=\"ygrid crisp\" transform=\"translate(0,233.08)\" d=\"M80,0h620\" style=\"stroke: rgb(255, 255, 255); stroke-opacity: 1; stroke-width: 1px;\"/><path class=\"ygrid crisp\" transform=\"translate(0,181.35)\" d=\"M80,0h620\" style=\"stroke: rgb(255, 255, 255); stroke-opacity: 1; stroke-width: 1px;\"/><path class=\"ygrid crisp\" transform=\"translate(0,129.62)\" d=\"M80,0h620\" style=\"stroke: rgb(255, 255, 255); stroke-opacity: 1; stroke-width: 1px;\"/></g></g><g class=\"zerolinelayer\"><path class=\"yzl zl crisp\" transform=\"translate(0,440)\" d=\"M80,0h620\" style=\"stroke: rgb(255, 255, 255); stroke-opacity: 1; stroke-width: 2px;\"/></g><path class=\"xlines-below\"/><path class=\"ylines-below\"/><g class=\"overlines-below\"/><g class=\"xaxislayer-below\"/><g class=\"yaxislayer-below\"/><g class=\"overaxes-below\"/><g class=\"plot\" transform=\"translate(80,100)\" clip-path=\"url(#clip33b577xyplot)\"><g class=\"barlayer mlayer\"><g class=\"trace bars\" shape-rendering=\"crispEdges\" style=\"opacity: 1;\"><g class=\"points\"><g class=\"point\"><path d=\"M0,340V23.1H62V340Z\" style=\"vector-effect: non-scaling-stroke; opacity: 1; stroke-width: 0px; fill: rgb(0, 98, 26); fill-opacity: 1;\"/></g><g class=\"point\"><path d=\"M62,340V17H124V340Z\" style=\"vector-effect: non-scaling-stroke; opacity: 1; stroke-width: 0px; fill: rgb(0, 98, 26); fill-opacity: 1;\"/></g><g class=\"point\"><path d=\"M124,340V164.02H186V340Z\" style=\"vector-effect: non-scaling-stroke; opacity: 1; stroke-width: 0px; fill: rgb(0, 98, 26); fill-opacity: 1;\"/></g><g class=\"point\"><path d=\"M186,340V230.75H248V340Z\" style=\"vector-effect: non-scaling-stroke; opacity: 1; stroke-width: 0px; fill: rgb(0, 98, 26); fill-opacity: 1;\"/></g><g class=\"point\"><path d=\"M248,340V238.66H310V340Z\" style=\"vector-effect: non-scaling-stroke; opacity: 1; stroke-width: 0px; fill: rgb(0, 98, 26); fill-opacity: 1;\"/></g><g class=\"point\"><path d=\"M310,340V296.29H372V340Z\" style=\"vector-effect: non-scaling-stroke; opacity: 1; stroke-width: 0px; fill: rgb(0, 98, 26); fill-opacity: 1;\"/></g><g class=\"point\"><path d=\"M372,340V312.84H434V340Z\" style=\"vector-effect: non-scaling-stroke; opacity: 1; stroke-width: 0px; fill: rgb(0, 98, 26); fill-opacity: 1;\"/></g><g class=\"point\"><path d=\"M434,340V318.64H496V340Z\" style=\"vector-effect: non-scaling-stroke; opacity: 1; stroke-width: 0px; fill: rgb(0, 98, 26); fill-opacity: 1;\"/></g><g class=\"point\"><path d=\"M496,340V328.41H558V340Z\" style=\"vector-effect: non-scaling-stroke; opacity: 1; stroke-width: 0px; fill: rgb(0, 98, 26); fill-opacity: 1;\"/></g><g class=\"point\"><path d=\"M558,340V310.93H620V340Z\" style=\"vector-effect: non-scaling-stroke; opacity: 1; stroke-width: 0px; fill: rgb(0, 98, 26); fill-opacity: 1;\"/></g></g></g></g></g><g class=\"overplot\"/><path class=\"xlines-above crisp\" d=\"M0,0\" style=\"fill: none;\"/><path class=\"ylines-above crisp\" d=\"M0,0\" style=\"fill: none;\"/><g class=\"overlines-above\"/><g class=\"xaxislayer-above\"><g class=\"xtick\"><text text-anchor=\"middle\" x=\"0\" y=\"453\" transform=\"translate(80,0)\" style=\"font-family: 'Open Sans', verdana, arial, sans-serif; font-size: 12px; fill: rgb(42, 63, 95); fill-opacity: 1; white-space: pre; opacity: 1;\">0</text></g><g class=\"xtick\"><text text-anchor=\"middle\" x=\"0\" y=\"453\" style=\"font-family: 'Open Sans', verdana, arial, sans-serif; font-size: 12px; fill: rgb(42, 63, 95); fill-opacity: 1; white-space: pre; opacity: 1;\" transform=\"translate(142,0)\">1</text></g><g class=\"xtick\"><text text-anchor=\"middle\" x=\"0\" y=\"453\" style=\"font-family: 'Open Sans', verdana, arial, sans-serif; font-size: 12px; fill: rgb(42, 63, 95); fill-opacity: 1; white-space: pre; opacity: 1;\" transform=\"translate(204,0)\">2</text></g><g class=\"xtick\"><text text-anchor=\"middle\" x=\"0\" y=\"453\" style=\"font-family: 'Open Sans', verdana, arial, sans-serif; font-size: 12px; fill: rgb(42, 63, 95); fill-opacity: 1; white-space: pre; opacity: 1;\" transform=\"translate(266,0)\">3</text></g><g class=\"xtick\"><text text-anchor=\"middle\" x=\"0\" y=\"453\" style=\"font-family: 'Open Sans', verdana, arial, sans-serif; font-size: 12px; fill: rgb(42, 63, 95); fill-opacity: 1; white-space: pre; opacity: 1;\" transform=\"translate(328,0)\">4</text></g><g class=\"xtick\"><text text-anchor=\"middle\" x=\"0\" y=\"453\" style=\"font-family: 'Open Sans', verdana, arial, sans-serif; font-size: 12px; fill: rgb(42, 63, 95); fill-opacity: 1; white-space: pre; opacity: 1;\" transform=\"translate(390,0)\">5</text></g><g class=\"xtick\"><text text-anchor=\"middle\" x=\"0\" y=\"453\" style=\"font-family: 'Open Sans', verdana, arial, sans-serif; font-size: 12px; fill: rgb(42, 63, 95); fill-opacity: 1; white-space: pre; opacity: 1;\" transform=\"translate(452,0)\">6</text></g><g class=\"xtick\"><text text-anchor=\"middle\" x=\"0\" y=\"453\" style=\"font-family: 'Open Sans', verdana, arial, sans-serif; font-size: 12px; fill: rgb(42, 63, 95); fill-opacity: 1; white-space: pre; opacity: 1;\" transform=\"translate(514,0)\">7</text></g><g class=\"xtick\"><text text-anchor=\"middle\" x=\"0\" y=\"453\" style=\"font-family: 'Open Sans', verdana, arial, sans-serif; font-size: 12px; fill: rgb(42, 63, 95); fill-opacity: 1; white-space: pre; opacity: 1;\" transform=\"translate(576,0)\">8</text></g><g class=\"xtick\"><text text-anchor=\"middle\" x=\"0\" y=\"453\" style=\"font-family: 'Open Sans', verdana, arial, sans-serif; font-size: 12px; fill: rgb(42, 63, 95); fill-opacity: 1; white-space: pre; opacity: 1;\" transform=\"translate(638,0)\">9</text></g><g class=\"xtick\"><text text-anchor=\"middle\" x=\"0\" y=\"453\" style=\"font-family: 'Open Sans', verdana, arial, sans-serif; font-size: 12px; fill: rgb(42, 63, 95); fill-opacity: 1; white-space: pre; opacity: 1;\" transform=\"translate(700,0)\">10</text></g></g><g class=\"yaxislayer-above\"><g class=\"ytick\"><text text-anchor=\"end\" x=\"79\" y=\"4.199999999999999\" transform=\"translate(0,440)\" style=\"font-family: 'Open Sans', verdana, arial, sans-serif; font-size: 12px; fill: rgb(42, 63, 95); fill-opacity: 1; white-space: pre; opacity: 1;\">0</text></g><g class=\"ytick\"><text text-anchor=\"end\" x=\"79\" y=\"4.199999999999999\" style=\"font-family: 'Open Sans', verdana, arial, sans-serif; font-size: 12px; fill: rgb(42, 63, 95); fill-opacity: 1; white-space: pre; opacity: 1;\" transform=\"translate(0,388.27)\">1000</text></g><g class=\"ytick\"><text text-anchor=\"end\" x=\"79\" y=\"4.199999999999999\" style=\"font-family: 'Open Sans', verdana, arial, sans-serif; font-size: 12px; fill: rgb(42, 63, 95); fill-opacity: 1; white-space: pre; opacity: 1;\" transform=\"translate(0,336.53999999999996)\">2000</text></g><g class=\"ytick\"><text text-anchor=\"end\" x=\"79\" y=\"4.199999999999999\" style=\"font-family: 'Open Sans', verdana, arial, sans-serif; font-size: 12px; fill: rgb(42, 63, 95); fill-opacity: 1; white-space: pre; opacity: 1;\" transform=\"translate(0,284.81)\">3000</text></g><g class=\"ytick\"><text text-anchor=\"end\" x=\"79\" y=\"4.199999999999999\" style=\"font-family: 'Open Sans', verdana, arial, sans-serif; font-size: 12px; fill: rgb(42, 63, 95); fill-opacity: 1; white-space: pre; opacity: 1;\" transform=\"translate(0,233.08)\">4000</text></g><g class=\"ytick\"><text text-anchor=\"end\" x=\"79\" y=\"4.199999999999999\" style=\"font-family: 'Open Sans', verdana, arial, sans-serif; font-size: 12px; fill: rgb(42, 63, 95); fill-opacity: 1; white-space: pre; opacity: 1;\" transform=\"translate(0,181.35)\">5000</text></g><g class=\"ytick\"><text text-anchor=\"end\" x=\"79\" y=\"4.199999999999999\" style=\"font-family: 'Open Sans', verdana, arial, sans-serif; font-size: 12px; fill: rgb(42, 63, 95); fill-opacity: 1; white-space: pre; opacity: 1;\" transform=\"translate(0,129.62)\">6000</text></g></g><g class=\"overaxes-above\"/></g></g><g class=\"polarlayer\"/><g class=\"ternarylayer\"/><g class=\"geolayer\"/><g class=\"funnelarealayer\"/><g class=\"pielayer\"/><g class=\"iciclelayer\"/><g class=\"treemaplayer\"/><g class=\"sunburstlayer\"/><g class=\"glimages\"/><defs id=\"topdefs-33b577\"><g class=\"clips\"/></defs><g class=\"layer-above\"><g class=\"imagelayer\"/><g class=\"shapelayer\"/></g><g class=\"infolayer\"><g class=\"g-gtitle\"><text class=\"gtitle\" x=\"375\" y=\"50\" text-anchor=\"middle\" dy=\"0em\" style=\"font-family: 'Open Sans', verdana, arial, sans-serif; font-size: 26px; fill: rgb(0, 98, 26); opacity: 1; font-weight: normal; white-space: pre;\">Histograma Precio Menor a 10 USD</text></g><g class=\"g-xtitle\"><text class=\"xtitle\" x=\"390\" y=\"480.8\" text-anchor=\"middle\" style=\"font-family: 'Open Sans', verdana, arial, sans-serif; font-size: 14px; fill: rgb(42, 63, 95); opacity: 1; font-weight: normal; white-space: pre;\">Precio (USD)</text></g><g class=\"g-ytitle\"><text class=\"ytitle\" transform=\"rotate(-90,23.684375000000003,270)\" x=\"23.684375000000003\" y=\"270\" text-anchor=\"middle\" style=\"font-family: 'Open Sans', verdana, arial, sans-serif; font-size: 14px; fill: rgb(42, 63, 95); opacity: 1; font-weight: normal; white-space: pre;\">Frecuencia</text></g></g></svg>"
     },
     "metadata": {}
    }
   ],
   "metadata": {
    "collapsed": false,
    "pycharm": {
     "name": "#%%\n"
    }
   }
  },
  {
   "cell_type": "markdown",
   "source": [
    "## RANGOS DE CANTIDAD DE INSTALACIONES"
   ],
   "metadata": {
    "collapsed": false
   }
  },
  {
   "cell_type": "code",
   "execution_count": 54,
   "source": [
    "installs_groups = datos['Installs'].value_counts().sort_values()\r\n",
    "installs_groups"
   ],
   "outputs": [
    {
     "output_type": "execute_result",
     "data": {
      "text/plain": [
       "10,000,000,000+         1\n",
       "5,000,000,000+          9\n",
       "1,000,000,000+         46\n",
       "500,000,000+           51\n",
       "0+                     59\n",
       "1+                    111\n",
       "5+                    252\n",
       "100,000,000+          399\n",
       "50,000,000+           680\n",
       "10+                  4648\n",
       "10,000,000+          5083\n",
       "5,000,000+           5437\n",
       "50+                  6152\n",
       "500,000+            20586\n",
       "1,000,000+          26827\n",
       "100+                39344\n",
       "500+                39400\n",
       "50,000+             51275\n",
       "5,000+              78391\n",
       "100,000+            79889\n",
       "10,000+            156913\n",
       "1,000+             160781\n",
       "Name: Installs, dtype: int64"
      ]
     },
     "metadata": {},
     "execution_count": 54
    }
   ],
   "metadata": {
    "collapsed": false,
    "pycharm": {
     "name": "#%%\n"
    }
   }
  },
  {
   "cell_type": "code",
   "execution_count": 55,
   "source": [
    "order_installs_ranges = ['0+', '1+', '5+', '10+', '50+', '100+', '500+', '1,000+', '5,000+', '10,000+',\r\n",
    "                         '50,000+', '100,000+', '500,000+', '1,000,000+', '5,000,000+', '10,000,000+', '50,000,000+',\r\n",
    "                         '100,000,000+', '500,000,000+', '1,000,000,000+', '5,000,000,000+', '10,000,000,000+']\r\n",
    "installs_groups_ordered = []\r\n",
    "for i_group in order_installs_ranges:\r\n",
    "    installs_groups_ordered.append(installs_groups[i_group])"
   ],
   "outputs": [],
   "metadata": {
    "collapsed": false,
    "pycharm": {
     "name": "#%%\n"
    }
   }
  },
  {
   "cell_type": "code",
   "execution_count": 56,
   "source": [
    "installs_ordered_hist = go.Figure()\r\n",
    "installs_ordered_hist.add_trace(go.Bar(\r\n",
    "    x = order_installs_ranges,\r\n",
    "    y = installs_groups_ordered,\r\n",
    "    marker = dict(color = '#761A16'),\r\n",
    "))\r\n",
    "installs_ordered_hist.update_layout(\r\n",
    "    width = 750,\r\n",
    "    margin = dict(r = 40),\r\n",
    "    title = dict(\r\n",
    "        font = dict(size = 26, color = '#761A16'),\r\n",
    "        text = 'Histograma Instalaciones Mínimas de<br>Aplicaciones Ordenado por Grupos',\r\n",
    "        x = 0.5\r\n",
    "    ),\r\n",
    "    plot_bgcolor = '#E3E3D6',\r\n",
    "    yaxis_title_text = 'Frecuencia',\r\n",
    ")\r\n",
    "installs_ordered_hist.show(renderer = 'svg')"
   ],
   "outputs": [
    {
     "output_type": "display_data",
     "data": {
      "image/svg+xml": "<svg class=\"main-svg\" xmlns=\"http://www.w3.org/2000/svg\" xmlns:xlink=\"http://www.w3.org/1999/xlink\" width=\"750\" height=\"500\" style=\"\" viewBox=\"0 0 750 500\"><rect x=\"0\" y=\"0\" width=\"750\" height=\"500\" style=\"fill: rgb(255, 255, 255); fill-opacity: 1;\"/><defs id=\"defs-697fb0\"><g class=\"clips\"><clipPath id=\"clip697fb0xyplot\" class=\"plotclip\"><rect width=\"630\" height=\"274\"/></clipPath><clipPath class=\"axesclip\" id=\"clip697fb0x\"><rect x=\"80\" y=\"0\" width=\"630\" height=\"500\"/></clipPath><clipPath class=\"axesclip\" id=\"clip697fb0y\"><rect x=\"0\" y=\"100\" width=\"750\" height=\"274\"/></clipPath><clipPath class=\"axesclip\" id=\"clip697fb0xy\"><rect x=\"80\" y=\"100\" width=\"630\" height=\"274\"/></clipPath></g><g class=\"gradients\"/><g class=\"patterns\"/></defs><g class=\"bglayer\"><rect class=\"bg\" x=\"80\" y=\"100\" width=\"630\" height=\"274\" style=\"fill: rgb(227, 227, 214); fill-opacity: 1; stroke-width: 0;\"/></g><g class=\"layer-below\"><g class=\"imagelayer\"/><g class=\"shapelayer\"/></g><g class=\"cartesianlayer\"><g class=\"subplot xy\"><g class=\"layer-subplot\"><g class=\"shapelayer\"/><g class=\"imagelayer\"/></g><g class=\"gridlayer\"><g class=\"x\"/><g class=\"y\"><path class=\"ygrid crisp\" transform=\"translate(0,293.05)\" d=\"M80,0h630\" style=\"stroke: rgb(255, 255, 255); stroke-opacity: 1; stroke-width: 1px;\"/><path class=\"ygrid crisp\" transform=\"translate(0,212.1)\" d=\"M80,0h630\" style=\"stroke: rgb(255, 255, 255); stroke-opacity: 1; stroke-width: 1px;\"/><path class=\"ygrid crisp\" transform=\"translate(0,131.15)\" d=\"M80,0h630\" style=\"stroke: rgb(255, 255, 255); stroke-opacity: 1; stroke-width: 1px;\"/></g></g><g class=\"zerolinelayer\"><path class=\"yzl zl crisp\" transform=\"translate(0,374)\" d=\"M80,0h630\" style=\"stroke: rgb(255, 255, 255); stroke-opacity: 1; stroke-width: 2px;\"/></g><path class=\"xlines-below\"/><path class=\"ylines-below\"/><g class=\"overlines-below\"/><g class=\"xaxislayer-below\"/><g class=\"yaxislayer-below\"/><g class=\"overaxes-below\"/><g class=\"plot\" transform=\"translate(80,100)\" clip-path=\"url(#clip697fb0xyplot)\"><g class=\"barlayer mlayer\"><g class=\"trace bars\" style=\"opacity: 1;\"><g class=\"points\"><g class=\"point\"><path d=\"M2.86,274V273.9H25.77V274Z\" style=\"vector-effect: non-scaling-stroke; opacity: 1; stroke-width: 0.5px; fill: rgb(118, 26, 22); fill-opacity: 1; stroke: rgb(229, 236, 246); stroke-opacity: 1;\"/></g><g class=\"point\"><path d=\"M31.5,274V273.82H54.41V274Z\" style=\"vector-effect: non-scaling-stroke; opacity: 1; stroke-width: 0.5px; fill: rgb(118, 26, 22); fill-opacity: 1; stroke: rgb(229, 236, 246); stroke-opacity: 1;\"/></g><g class=\"point\"><path d=\"M60.14,274V273.59H83.05V274Z\" style=\"vector-effect: non-scaling-stroke; opacity: 1; stroke-width: 0.5px; fill: rgb(118, 26, 22); fill-opacity: 1; stroke: rgb(229, 236, 246); stroke-opacity: 1;\"/></g><g class=\"point\"><path d=\"M88.77,274V266.48H111.68V274Z\" style=\"vector-effect: non-scaling-stroke; opacity: 1; stroke-width: 0.5px; fill: rgb(118, 26, 22); fill-opacity: 1; stroke: rgb(229, 236, 246); stroke-opacity: 1;\"/></g><g class=\"point\"><path d=\"M117.41,274V264.04H140.32V274Z\" style=\"vector-effect: non-scaling-stroke; opacity: 1; stroke-width: 0.5px; fill: rgb(118, 26, 22); fill-opacity: 1; stroke: rgb(229, 236, 246); stroke-opacity: 1;\"/></g><g class=\"point\"><path d=\"M146.05,274V210.3H168.95V274Z\" style=\"vector-effect: non-scaling-stroke; opacity: 1; stroke-width: 0.5px; fill: rgb(118, 26, 22); fill-opacity: 1; stroke: rgb(229, 236, 246); stroke-opacity: 1;\"/></g><g class=\"point\"><path d=\"M174.68,274V210.21H197.59V274Z\" style=\"vector-effect: non-scaling-stroke; opacity: 1; stroke-width: 0.5px; fill: rgb(118, 26, 22); fill-opacity: 1; stroke: rgb(229, 236, 246); stroke-opacity: 1;\"/></g><g class=\"point\"><path d=\"M203.32,274V13.7H226.23V274Z\" style=\"vector-effect: non-scaling-stroke; opacity: 1; stroke-width: 0.5px; fill: rgb(118, 26, 22); fill-opacity: 1; stroke: rgb(229, 236, 246); stroke-opacity: 1;\"/></g><g class=\"point\"><path d=\"M231.95,274V147.09H254.86V274Z\" style=\"vector-effect: non-scaling-stroke; opacity: 1; stroke-width: 0.5px; fill: rgb(118, 26, 22); fill-opacity: 1; stroke: rgb(229, 236, 246); stroke-opacity: 1;\"/></g><g class=\"point\"><path d=\"M260.59,274V19.96H283.5V274Z\" style=\"vector-effect: non-scaling-stroke; opacity: 1; stroke-width: 0.5px; fill: rgb(118, 26, 22); fill-opacity: 1; stroke: rgb(229, 236, 246); stroke-opacity: 1;\"/></g><g class=\"point\"><path d=\"M289.23,274V190.99H312.14V274Z\" style=\"vector-effect: non-scaling-stroke; opacity: 1; stroke-width: 0.5px; fill: rgb(118, 26, 22); fill-opacity: 1; stroke: rgb(229, 236, 246); stroke-opacity: 1;\"/></g><g class=\"point\"><path d=\"M317.86,274V144.66H340.77V274Z\" style=\"vector-effect: non-scaling-stroke; opacity: 1; stroke-width: 0.5px; fill: rgb(118, 26, 22); fill-opacity: 1; stroke: rgb(229, 236, 246); stroke-opacity: 1;\"/></g><g class=\"point\"><path d=\"M346.5,274V240.67H369.41V274Z\" style=\"vector-effect: non-scaling-stroke; opacity: 1; stroke-width: 0.5px; fill: rgb(118, 26, 22); fill-opacity: 1; stroke: rgb(229, 236, 246); stroke-opacity: 1;\"/></g><g class=\"point\"><path d=\"M375.14,274V230.57H398.05V274Z\" style=\"vector-effect: non-scaling-stroke; opacity: 1; stroke-width: 0.5px; fill: rgb(118, 26, 22); fill-opacity: 1; stroke: rgb(229, 236, 246); stroke-opacity: 1;\"/></g><g class=\"point\"><path d=\"M403.77,274V265.2H426.68V274Z\" style=\"vector-effect: non-scaling-stroke; opacity: 1; stroke-width: 0.5px; fill: rgb(118, 26, 22); fill-opacity: 1; stroke: rgb(229, 236, 246); stroke-opacity: 1;\"/></g><g class=\"point\"><path d=\"M432.41,274V265.77H455.32V274Z\" style=\"vector-effect: non-scaling-stroke; opacity: 1; stroke-width: 0.5px; fill: rgb(118, 26, 22); fill-opacity: 1; stroke: rgb(229, 236, 246); stroke-opacity: 1;\"/></g><g class=\"point\"><path d=\"M461.05,274V272.9H483.95V274Z\" style=\"vector-effect: non-scaling-stroke; opacity: 1; stroke-width: 0.5px; fill: rgb(118, 26, 22); fill-opacity: 1; stroke: rgb(229, 236, 246); stroke-opacity: 1;\"/></g><g class=\"point\"><path d=\"M489.68,274V273.35H512.59V274Z\" style=\"vector-effect: non-scaling-stroke; opacity: 1; stroke-width: 0.5px; fill: rgb(118, 26, 22); fill-opacity: 1; stroke: rgb(229, 236, 246); stroke-opacity: 1;\"/></g><g class=\"point\"><path d=\"M518.32,274V273.92H541.23V274Z\" style=\"vector-effect: non-scaling-stroke; opacity: 1; stroke-width: 0.5px; fill: rgb(118, 26, 22); fill-opacity: 1; stroke: rgb(229, 236, 246); stroke-opacity: 1;\"/></g><g class=\"point\"><path d=\"M546.95,274V273.93H569.86V274Z\" style=\"vector-effect: non-scaling-stroke; opacity: 1; stroke-width: 0.5px; fill: rgb(118, 26, 22); fill-opacity: 1; stroke: rgb(229, 236, 246); stroke-opacity: 1;\"/></g><g class=\"point\"><path d=\"M575.59,274V273.99H598.5V274Z\" style=\"vector-effect: non-scaling-stroke; opacity: 1; stroke-width: 0.5px; fill: rgb(118, 26, 22); fill-opacity: 1; stroke: rgb(229, 236, 246); stroke-opacity: 1;\"/></g><g class=\"point\"><path d=\"M604.23,274V274H627.14V274Z\" style=\"vector-effect: non-scaling-stroke; opacity: 1; stroke-width: 0.5px; fill: rgb(118, 26, 22); fill-opacity: 1; stroke: rgb(229, 236, 246); stroke-opacity: 1;\"/></g></g></g></g></g><g class=\"overplot\"/><path class=\"xlines-above crisp\" d=\"M0,0\" style=\"fill: none;\"/><path class=\"ylines-above crisp\" d=\"M0,0\" style=\"fill: none;\"/><g class=\"overlines-above\"/><g class=\"xaxislayer-above\"><g class=\"xtick\"><text text-anchor=\"start\" x=\"0\" y=\"387\" transform=\"translate(94.32,0) rotate(90,0,381)\" style=\"font-family: 'Open Sans', verdana, arial, sans-serif; font-size: 12px; fill: rgb(42, 63, 95); fill-opacity: 1; white-space: pre; opacity: 1;\">0+</text></g><g class=\"xtick\"><text text-anchor=\"start\" x=\"0\" y=\"387\" transform=\"translate(122.95,0) rotate(90,0,381)\" style=\"font-family: 'Open Sans', verdana, arial, sans-serif; font-size: 12px; fill: rgb(42, 63, 95); fill-opacity: 1; white-space: pre; opacity: 1;\">1+</text></g><g class=\"xtick\"><text text-anchor=\"start\" x=\"0\" y=\"387\" transform=\"translate(151.59,0) rotate(90,0,381)\" style=\"font-family: 'Open Sans', verdana, arial, sans-serif; font-size: 12px; fill: rgb(42, 63, 95); fill-opacity: 1; white-space: pre; opacity: 1;\">5+</text></g><g class=\"xtick\"><text text-anchor=\"start\" x=\"0\" y=\"387\" transform=\"translate(180.23000000000002,0) rotate(90,0,381)\" style=\"font-family: 'Open Sans', verdana, arial, sans-serif; font-size: 12px; fill: rgb(42, 63, 95); fill-opacity: 1; white-space: pre; opacity: 1;\">10+</text></g><g class=\"xtick\"><text text-anchor=\"start\" x=\"0\" y=\"387\" transform=\"translate(208.86,0) rotate(90,0,381)\" style=\"font-family: 'Open Sans', verdana, arial, sans-serif; font-size: 12px; fill: rgb(42, 63, 95); fill-opacity: 1; white-space: pre; opacity: 1;\">50+</text></g><g class=\"xtick\"><text text-anchor=\"start\" x=\"0\" y=\"387\" transform=\"translate(237.5,0) rotate(90,0,381)\" style=\"font-family: 'Open Sans', verdana, arial, sans-serif; font-size: 12px; fill: rgb(42, 63, 95); fill-opacity: 1; white-space: pre; opacity: 1;\">100+</text></g><g class=\"xtick\"><text text-anchor=\"start\" x=\"0\" y=\"387\" transform=\"translate(266.14,0) rotate(90,0,381)\" style=\"font-family: 'Open Sans', verdana, arial, sans-serif; font-size: 12px; fill: rgb(42, 63, 95); fill-opacity: 1; white-space: pre; opacity: 1;\">500+</text></g><g class=\"xtick\"><text text-anchor=\"start\" x=\"0\" y=\"387\" transform=\"translate(294.77,0) rotate(90,0,381)\" style=\"font-family: 'Open Sans', verdana, arial, sans-serif; font-size: 12px; fill: rgb(42, 63, 95); fill-opacity: 1; white-space: pre; opacity: 1;\">1,000+</text></g><g class=\"xtick\"><text text-anchor=\"start\" x=\"0\" y=\"387\" transform=\"translate(323.40999999999997,0) rotate(90,0,381)\" style=\"font-family: 'Open Sans', verdana, arial, sans-serif; font-size: 12px; fill: rgb(42, 63, 95); fill-opacity: 1; white-space: pre; opacity: 1;\">5,000+</text></g><g class=\"xtick\"><text text-anchor=\"start\" x=\"0\" y=\"387\" transform=\"translate(352.05,0) rotate(90,0,381)\" style=\"font-family: 'Open Sans', verdana, arial, sans-serif; font-size: 12px; fill: rgb(42, 63, 95); fill-opacity: 1; white-space: pre; opacity: 1;\">10,000+</text></g><g class=\"xtick\"><text text-anchor=\"start\" x=\"0\" y=\"387\" transform=\"translate(380.68,0) rotate(90,0,381)\" style=\"font-family: 'Open Sans', verdana, arial, sans-serif; font-size: 12px; fill: rgb(42, 63, 95); fill-opacity: 1; white-space: pre; opacity: 1;\">50,000+</text></g><g class=\"xtick\"><text text-anchor=\"start\" x=\"0\" y=\"387\" transform=\"translate(409.32,0) rotate(90,0,381)\" style=\"font-family: 'Open Sans', verdana, arial, sans-serif; font-size: 12px; fill: rgb(42, 63, 95); fill-opacity: 1; white-space: pre; opacity: 1;\">100,000+</text></g><g class=\"xtick\"><text text-anchor=\"start\" x=\"0\" y=\"387\" transform=\"translate(437.95,0) rotate(90,0,381)\" style=\"font-family: 'Open Sans', verdana, arial, sans-serif; font-size: 12px; fill: rgb(42, 63, 95); fill-opacity: 1; white-space: pre; opacity: 1;\">500,000+</text></g><g class=\"xtick\"><text text-anchor=\"start\" x=\"0\" y=\"387\" transform=\"translate(466.59,0) rotate(90,0,381)\" style=\"font-family: 'Open Sans', verdana, arial, sans-serif; font-size: 12px; fill: rgb(42, 63, 95); fill-opacity: 1; white-space: pre; opacity: 1;\">1,000,000+</text></g><g class=\"xtick\"><text text-anchor=\"start\" x=\"0\" y=\"387\" transform=\"translate(495.23,0) rotate(90,0,381)\" style=\"font-family: 'Open Sans', verdana, arial, sans-serif; font-size: 12px; fill: rgb(42, 63, 95); fill-opacity: 1; white-space: pre; opacity: 1;\">5,000,000+</text></g><g class=\"xtick\"><text text-anchor=\"start\" x=\"0\" y=\"387\" transform=\"translate(523.86,0) rotate(90,0,381)\" style=\"font-family: 'Open Sans', verdana, arial, sans-serif; font-size: 12px; fill: rgb(42, 63, 95); fill-opacity: 1; white-space: pre; opacity: 1;\">10,000,000+</text></g><g class=\"xtick\"><text text-anchor=\"start\" x=\"0\" y=\"387\" transform=\"translate(552.5,0) rotate(90,0,381)\" style=\"font-family: 'Open Sans', verdana, arial, sans-serif; font-size: 12px; fill: rgb(42, 63, 95); fill-opacity: 1; white-space: pre; opacity: 1;\">50,000,000+</text></g><g class=\"xtick\"><text text-anchor=\"start\" x=\"0\" y=\"387\" transform=\"translate(581.14,0) rotate(90,0,381)\" style=\"font-family: 'Open Sans', verdana, arial, sans-serif; font-size: 12px; fill: rgb(42, 63, 95); fill-opacity: 1; white-space: pre; opacity: 1;\">100,000,000+</text></g><g class=\"xtick\"><text text-anchor=\"start\" x=\"0\" y=\"387\" transform=\"translate(609.77,0) rotate(90,0,381)\" style=\"font-family: 'Open Sans', verdana, arial, sans-serif; font-size: 12px; fill: rgb(42, 63, 95); fill-opacity: 1; white-space: pre; opacity: 1;\">500,000,000+</text></g><g class=\"xtick\"><text text-anchor=\"start\" x=\"0\" y=\"387\" transform=\"translate(638.41,0) rotate(90,0,381)\" style=\"font-family: 'Open Sans', verdana, arial, sans-serif; font-size: 12px; fill: rgb(42, 63, 95); fill-opacity: 1; white-space: pre; opacity: 1;\">1,000,000,000+</text></g><g class=\"xtick\"><text text-anchor=\"start\" x=\"0\" y=\"387\" transform=\"translate(667.05,0) rotate(90,0,381)\" style=\"font-family: 'Open Sans', verdana, arial, sans-serif; font-size: 12px; fill: rgb(42, 63, 95); fill-opacity: 1; white-space: pre; opacity: 1;\">5,000,000,000+</text></g><g class=\"xtick\"><text text-anchor=\"start\" x=\"0\" y=\"387\" transform=\"translate(695.68,0) rotate(90,0,381)\" style=\"font-family: 'Open Sans', verdana, arial, sans-serif; font-size: 12px; fill: rgb(42, 63, 95); fill-opacity: 1; white-space: pre; opacity: 1;\">10,000,000,000+</text></g></g><g class=\"yaxislayer-above\"><g class=\"ytick\"><text text-anchor=\"end\" x=\"79\" y=\"4.199999999999999\" transform=\"translate(0,374)\" style=\"font-family: 'Open Sans', verdana, arial, sans-serif; font-size: 12px; fill: rgb(42, 63, 95); fill-opacity: 1; white-space: pre; opacity: 1;\">0</text></g><g class=\"ytick\"><text text-anchor=\"end\" x=\"79\" y=\"4.199999999999999\" style=\"font-family: 'Open Sans', verdana, arial, sans-serif; font-size: 12px; fill: rgb(42, 63, 95); fill-opacity: 1; white-space: pre; opacity: 1;\" transform=\"translate(0,293.05)\">50k</text></g><g class=\"ytick\"><text text-anchor=\"end\" x=\"79\" y=\"4.199999999999999\" style=\"font-family: 'Open Sans', verdana, arial, sans-serif; font-size: 12px; fill: rgb(42, 63, 95); fill-opacity: 1; white-space: pre; opacity: 1;\" transform=\"translate(0,212.1)\">100k</text></g><g class=\"ytick\"><text text-anchor=\"end\" x=\"79\" y=\"4.199999999999999\" style=\"font-family: 'Open Sans', verdana, arial, sans-serif; font-size: 12px; fill: rgb(42, 63, 95); fill-opacity: 1; white-space: pre; opacity: 1;\" transform=\"translate(0,131.15)\">150k</text></g></g><g class=\"overaxes-above\"/></g></g><g class=\"polarlayer\"/><g class=\"ternarylayer\"/><g class=\"geolayer\"/><g class=\"funnelarealayer\"/><g class=\"pielayer\"/><g class=\"iciclelayer\"/><g class=\"treemaplayer\"/><g class=\"sunburstlayer\"/><g class=\"glimages\"/><defs id=\"topdefs-697fb0\"><g class=\"clips\"/></defs><g class=\"layer-above\"><g class=\"imagelayer\"/><g class=\"shapelayer\"/></g><g class=\"infolayer\"><g class=\"g-gtitle\"><text class=\"gtitle\" x=\"375\" y=\"50\" text-anchor=\"middle\" dy=\"0em\" style=\"font-family: 'Open Sans', verdana, arial, sans-serif; font-size: 26px; fill: rgb(118, 26, 22); opacity: 1; font-weight: normal; white-space: pre;\"><tspan class=\"line\" dy=\"0em\" x=\"375\" y=\"50\">Histograma Instalaciones Mínimas de</tspan><tspan class=\"line\" dy=\"1.3em\" x=\"375\" y=\"50\">Aplicaciones Ordenado por Grupos</tspan></text></g><g class=\"g-xtitle\"/><g class=\"g-ytitle\"><text class=\"ytitle\" transform=\"rotate(-90,24.200000000000003,237)\" x=\"24.200000000000003\" y=\"237\" text-anchor=\"middle\" style=\"font-family: 'Open Sans', verdana, arial, sans-serif; font-size: 14px; fill: rgb(42, 63, 95); opacity: 1; font-weight: normal; white-space: pre;\">Frecuencia</text></g></g></svg>"
     },
     "metadata": {}
    }
   ],
   "metadata": {
    "collapsed": false,
    "pycharm": {
     "name": "#%%\n"
    }
   }
  },
  {
   "cell_type": "code",
   "execution_count": 57,
   "source": [
    "installs_hist = go.Figure()\r\n",
    "installs_hist.add_trace(go.Bar(\r\n",
    "    x = installs_groups.index,\r\n",
    "    y = installs_groups,\r\n",
    "    marker = dict(color = '#761A16'),\r\n",
    "))\r\n",
    "installs_hist.update_layout(\r\n",
    "    width = 750,\r\n",
    "    margin = dict(r = 40),\r\n",
    "    plot_bgcolor = '#E3E3D6',\r\n",
    "    title = dict(\r\n",
    "        font = dict(size = 26, color = '#761A16'),\r\n",
    "        text = 'Histograma Instalaciones Mínimas de<br>Aplicaciones Ordenado por frecuencia',\r\n",
    "        x = 0.5,\r\n",
    "    ),\r\n",
    "    yaxis_title_text = 'Frecuencia',\r\n",
    ")\r\n",
    "installs_hist.show(renderer = 'svg')"
   ],
   "outputs": [
    {
     "output_type": "display_data",
     "data": {
      "image/svg+xml": "<svg class=\"main-svg\" xmlns=\"http://www.w3.org/2000/svg\" xmlns:xlink=\"http://www.w3.org/1999/xlink\" width=\"750\" height=\"500\" style=\"\" viewBox=\"0 0 750 500\"><rect x=\"0\" y=\"0\" width=\"750\" height=\"500\" style=\"fill: rgb(255, 255, 255); fill-opacity: 1;\"/><defs id=\"defs-e756db\"><g class=\"clips\"><clipPath id=\"clipe756dbxyplot\" class=\"plotclip\"><rect width=\"630\" height=\"274\"/></clipPath><clipPath class=\"axesclip\" id=\"clipe756dbx\"><rect x=\"80\" y=\"0\" width=\"630\" height=\"500\"/></clipPath><clipPath class=\"axesclip\" id=\"clipe756dby\"><rect x=\"0\" y=\"100\" width=\"750\" height=\"274\"/></clipPath><clipPath class=\"axesclip\" id=\"clipe756dbxy\"><rect x=\"80\" y=\"100\" width=\"630\" height=\"274\"/></clipPath></g><g class=\"gradients\"/><g class=\"patterns\"/></defs><g class=\"bglayer\"><rect class=\"bg\" x=\"80\" y=\"100\" width=\"630\" height=\"274\" style=\"fill: rgb(227, 227, 214); fill-opacity: 1; stroke-width: 0;\"/></g><g class=\"layer-below\"><g class=\"imagelayer\"/><g class=\"shapelayer\"/></g><g class=\"cartesianlayer\"><g class=\"subplot xy\"><g class=\"layer-subplot\"><g class=\"shapelayer\"/><g class=\"imagelayer\"/></g><g class=\"gridlayer\"><g class=\"x\"/><g class=\"y\"><path class=\"ygrid crisp\" transform=\"translate(0,293.05)\" d=\"M80,0h630\" style=\"stroke: rgb(255, 255, 255); stroke-opacity: 1; stroke-width: 1px;\"/><path class=\"ygrid crisp\" transform=\"translate(0,212.1)\" d=\"M80,0h630\" style=\"stroke: rgb(255, 255, 255); stroke-opacity: 1; stroke-width: 1px;\"/><path class=\"ygrid crisp\" transform=\"translate(0,131.15)\" d=\"M80,0h630\" style=\"stroke: rgb(255, 255, 255); stroke-opacity: 1; stroke-width: 1px;\"/></g></g><g class=\"zerolinelayer\"><path class=\"yzl zl crisp\" transform=\"translate(0,374)\" d=\"M80,0h630\" style=\"stroke: rgb(255, 255, 255); stroke-opacity: 1; stroke-width: 2px;\"/></g><path class=\"xlines-below\"/><path class=\"ylines-below\"/><g class=\"overlines-below\"/><g class=\"xaxislayer-below\"/><g class=\"yaxislayer-below\"/><g class=\"overaxes-below\"/><g class=\"plot\" transform=\"translate(80,100)\" clip-path=\"url(#clipe756dbxyplot)\"><g class=\"barlayer mlayer\"><g class=\"trace bars\" style=\"opacity: 1;\"><g class=\"points\"><g class=\"point\"><path d=\"M2.86,274V274H25.77V274Z\" style=\"vector-effect: non-scaling-stroke; opacity: 1; stroke-width: 0.5px; fill: rgb(118, 26, 22); fill-opacity: 1; stroke: rgb(229, 236, 246); stroke-opacity: 1;\"/></g><g class=\"point\"><path d=\"M31.5,274V273.99H54.41V274Z\" style=\"vector-effect: non-scaling-stroke; opacity: 1; stroke-width: 0.5px; fill: rgb(118, 26, 22); fill-opacity: 1; stroke: rgb(229, 236, 246); stroke-opacity: 1;\"/></g><g class=\"point\"><path d=\"M60.14,274V273.93H83.05V274Z\" style=\"vector-effect: non-scaling-stroke; opacity: 1; stroke-width: 0.5px; fill: rgb(118, 26, 22); fill-opacity: 1; stroke: rgb(229, 236, 246); stroke-opacity: 1;\"/></g><g class=\"point\"><path d=\"M88.77,274V273.92H111.68V274Z\" style=\"vector-effect: non-scaling-stroke; opacity: 1; stroke-width: 0.5px; fill: rgb(118, 26, 22); fill-opacity: 1; stroke: rgb(229, 236, 246); stroke-opacity: 1;\"/></g><g class=\"point\"><path d=\"M117.41,274V273.9H140.32V274Z\" style=\"vector-effect: non-scaling-stroke; opacity: 1; stroke-width: 0.5px; fill: rgb(118, 26, 22); fill-opacity: 1; stroke: rgb(229, 236, 246); stroke-opacity: 1;\"/></g><g class=\"point\"><path d=\"M146.05,274V273.82H168.95V274Z\" style=\"vector-effect: non-scaling-stroke; opacity: 1; stroke-width: 0.5px; fill: rgb(118, 26, 22); fill-opacity: 1; stroke: rgb(229, 236, 246); stroke-opacity: 1;\"/></g><g class=\"point\"><path d=\"M174.68,274V273.59H197.59V274Z\" style=\"vector-effect: non-scaling-stroke; opacity: 1; stroke-width: 0.5px; fill: rgb(118, 26, 22); fill-opacity: 1; stroke: rgb(229, 236, 246); stroke-opacity: 1;\"/></g><g class=\"point\"><path d=\"M203.32,274V273.35H226.23V274Z\" style=\"vector-effect: non-scaling-stroke; opacity: 1; stroke-width: 0.5px; fill: rgb(118, 26, 22); fill-opacity: 1; stroke: rgb(229, 236, 246); stroke-opacity: 1;\"/></g><g class=\"point\"><path d=\"M231.95,274V272.9H254.86V274Z\" style=\"vector-effect: non-scaling-stroke; opacity: 1; stroke-width: 0.5px; fill: rgb(118, 26, 22); fill-opacity: 1; stroke: rgb(229, 236, 246); stroke-opacity: 1;\"/></g><g class=\"point\"><path d=\"M260.59,274V266.48H283.5V274Z\" style=\"vector-effect: non-scaling-stroke; opacity: 1; stroke-width: 0.5px; fill: rgb(118, 26, 22); fill-opacity: 1; stroke: rgb(229, 236, 246); stroke-opacity: 1;\"/></g><g class=\"point\"><path d=\"M289.23,274V265.77H312.14V274Z\" style=\"vector-effect: non-scaling-stroke; opacity: 1; stroke-width: 0.5px; fill: rgb(118, 26, 22); fill-opacity: 1; stroke: rgb(229, 236, 246); stroke-opacity: 1;\"/></g><g class=\"point\"><path d=\"M317.86,274V265.2H340.77V274Z\" style=\"vector-effect: non-scaling-stroke; opacity: 1; stroke-width: 0.5px; fill: rgb(118, 26, 22); fill-opacity: 1; stroke: rgb(229, 236, 246); stroke-opacity: 1;\"/></g><g class=\"point\"><path d=\"M346.5,274V264.04H369.41V274Z\" style=\"vector-effect: non-scaling-stroke; opacity: 1; stroke-width: 0.5px; fill: rgb(118, 26, 22); fill-opacity: 1; stroke: rgb(229, 236, 246); stroke-opacity: 1;\"/></g><g class=\"point\"><path d=\"M375.14,274V240.67H398.05V274Z\" style=\"vector-effect: non-scaling-stroke; opacity: 1; stroke-width: 0.5px; fill: rgb(118, 26, 22); fill-opacity: 1; stroke: rgb(229, 236, 246); stroke-opacity: 1;\"/></g><g class=\"point\"><path d=\"M403.77,274V230.57H426.68V274Z\" style=\"vector-effect: non-scaling-stroke; opacity: 1; stroke-width: 0.5px; fill: rgb(118, 26, 22); fill-opacity: 1; stroke: rgb(229, 236, 246); stroke-opacity: 1;\"/></g><g class=\"point\"><path d=\"M432.41,274V210.3H455.32V274Z\" style=\"vector-effect: non-scaling-stroke; opacity: 1; stroke-width: 0.5px; fill: rgb(118, 26, 22); fill-opacity: 1; stroke: rgb(229, 236, 246); stroke-opacity: 1;\"/></g><g class=\"point\"><path d=\"M461.05,274V210.21H483.95V274Z\" style=\"vector-effect: non-scaling-stroke; opacity: 1; stroke-width: 0.5px; fill: rgb(118, 26, 22); fill-opacity: 1; stroke: rgb(229, 236, 246); stroke-opacity: 1;\"/></g><g class=\"point\"><path d=\"M489.68,274V190.99H512.59V274Z\" style=\"vector-effect: non-scaling-stroke; opacity: 1; stroke-width: 0.5px; fill: rgb(118, 26, 22); fill-opacity: 1; stroke: rgb(229, 236, 246); stroke-opacity: 1;\"/></g><g class=\"point\"><path d=\"M518.32,274V147.09H541.23V274Z\" style=\"vector-effect: non-scaling-stroke; opacity: 1; stroke-width: 0.5px; fill: rgb(118, 26, 22); fill-opacity: 1; stroke: rgb(229, 236, 246); stroke-opacity: 1;\"/></g><g class=\"point\"><path d=\"M546.95,274V144.66H569.86V274Z\" style=\"vector-effect: non-scaling-stroke; opacity: 1; stroke-width: 0.5px; fill: rgb(118, 26, 22); fill-opacity: 1; stroke: rgb(229, 236, 246); stroke-opacity: 1;\"/></g><g class=\"point\"><path d=\"M575.59,274V19.96H598.5V274Z\" style=\"vector-effect: non-scaling-stroke; opacity: 1; stroke-width: 0.5px; fill: rgb(118, 26, 22); fill-opacity: 1; stroke: rgb(229, 236, 246); stroke-opacity: 1;\"/></g><g class=\"point\"><path d=\"M604.23,274V13.7H627.14V274Z\" style=\"vector-effect: non-scaling-stroke; opacity: 1; stroke-width: 0.5px; fill: rgb(118, 26, 22); fill-opacity: 1; stroke: rgb(229, 236, 246); stroke-opacity: 1;\"/></g></g></g></g></g><g class=\"overplot\"/><path class=\"xlines-above crisp\" d=\"M0,0\" style=\"fill: none;\"/><path class=\"ylines-above crisp\" d=\"M0,0\" style=\"fill: none;\"/><g class=\"overlines-above\"/><g class=\"xaxislayer-above\"><g class=\"xtick\"><text text-anchor=\"start\" x=\"0\" y=\"387\" transform=\"translate(94.32,0) rotate(90,0,381)\" style=\"font-family: 'Open Sans', verdana, arial, sans-serif; font-size: 12px; fill: rgb(42, 63, 95); fill-opacity: 1; white-space: pre; opacity: 1;\">10,000,000,000+</text></g><g class=\"xtick\"><text text-anchor=\"start\" x=\"0\" y=\"387\" transform=\"translate(122.95,0) rotate(90,0,381)\" style=\"font-family: 'Open Sans', verdana, arial, sans-serif; font-size: 12px; fill: rgb(42, 63, 95); fill-opacity: 1; white-space: pre; opacity: 1;\">5,000,000,000+</text></g><g class=\"xtick\"><text text-anchor=\"start\" x=\"0\" y=\"387\" transform=\"translate(151.59,0) rotate(90,0,381)\" style=\"font-family: 'Open Sans', verdana, arial, sans-serif; font-size: 12px; fill: rgb(42, 63, 95); fill-opacity: 1; white-space: pre; opacity: 1;\">1,000,000,000+</text></g><g class=\"xtick\"><text text-anchor=\"start\" x=\"0\" y=\"387\" transform=\"translate(180.23000000000002,0) rotate(90,0,381)\" style=\"font-family: 'Open Sans', verdana, arial, sans-serif; font-size: 12px; fill: rgb(42, 63, 95); fill-opacity: 1; white-space: pre; opacity: 1;\">500,000,000+</text></g><g class=\"xtick\"><text text-anchor=\"start\" x=\"0\" y=\"387\" transform=\"translate(208.86,0) rotate(90,0,381)\" style=\"font-family: 'Open Sans', verdana, arial, sans-serif; font-size: 12px; fill: rgb(42, 63, 95); fill-opacity: 1; white-space: pre; opacity: 1;\">0+</text></g><g class=\"xtick\"><text text-anchor=\"start\" x=\"0\" y=\"387\" transform=\"translate(237.5,0) rotate(90,0,381)\" style=\"font-family: 'Open Sans', verdana, arial, sans-serif; font-size: 12px; fill: rgb(42, 63, 95); fill-opacity: 1; white-space: pre; opacity: 1;\">1+</text></g><g class=\"xtick\"><text text-anchor=\"start\" x=\"0\" y=\"387\" transform=\"translate(266.14,0) rotate(90,0,381)\" style=\"font-family: 'Open Sans', verdana, arial, sans-serif; font-size: 12px; fill: rgb(42, 63, 95); fill-opacity: 1; white-space: pre; opacity: 1;\">5+</text></g><g class=\"xtick\"><text text-anchor=\"start\" x=\"0\" y=\"387\" transform=\"translate(294.77,0) rotate(90,0,381)\" style=\"font-family: 'Open Sans', verdana, arial, sans-serif; font-size: 12px; fill: rgb(42, 63, 95); fill-opacity: 1; white-space: pre; opacity: 1;\">100,000,000+</text></g><g class=\"xtick\"><text text-anchor=\"start\" x=\"0\" y=\"387\" transform=\"translate(323.40999999999997,0) rotate(90,0,381)\" style=\"font-family: 'Open Sans', verdana, arial, sans-serif; font-size: 12px; fill: rgb(42, 63, 95); fill-opacity: 1; white-space: pre; opacity: 1;\">50,000,000+</text></g><g class=\"xtick\"><text text-anchor=\"start\" x=\"0\" y=\"387\" transform=\"translate(352.05,0) rotate(90,0,381)\" style=\"font-family: 'Open Sans', verdana, arial, sans-serif; font-size: 12px; fill: rgb(42, 63, 95); fill-opacity: 1; white-space: pre; opacity: 1;\">10+</text></g><g class=\"xtick\"><text text-anchor=\"start\" x=\"0\" y=\"387\" transform=\"translate(380.68,0) rotate(90,0,381)\" style=\"font-family: 'Open Sans', verdana, arial, sans-serif; font-size: 12px; fill: rgb(42, 63, 95); fill-opacity: 1; white-space: pre; opacity: 1;\">10,000,000+</text></g><g class=\"xtick\"><text text-anchor=\"start\" x=\"0\" y=\"387\" transform=\"translate(409.32,0) rotate(90,0,381)\" style=\"font-family: 'Open Sans', verdana, arial, sans-serif; font-size: 12px; fill: rgb(42, 63, 95); fill-opacity: 1; white-space: pre; opacity: 1;\">5,000,000+</text></g><g class=\"xtick\"><text text-anchor=\"start\" x=\"0\" y=\"387\" transform=\"translate(437.95,0) rotate(90,0,381)\" style=\"font-family: 'Open Sans', verdana, arial, sans-serif; font-size: 12px; fill: rgb(42, 63, 95); fill-opacity: 1; white-space: pre; opacity: 1;\">50+</text></g><g class=\"xtick\"><text text-anchor=\"start\" x=\"0\" y=\"387\" transform=\"translate(466.59,0) rotate(90,0,381)\" style=\"font-family: 'Open Sans', verdana, arial, sans-serif; font-size: 12px; fill: rgb(42, 63, 95); fill-opacity: 1; white-space: pre; opacity: 1;\">500,000+</text></g><g class=\"xtick\"><text text-anchor=\"start\" x=\"0\" y=\"387\" transform=\"translate(495.23,0) rotate(90,0,381)\" style=\"font-family: 'Open Sans', verdana, arial, sans-serif; font-size: 12px; fill: rgb(42, 63, 95); fill-opacity: 1; white-space: pre; opacity: 1;\">1,000,000+</text></g><g class=\"xtick\"><text text-anchor=\"start\" x=\"0\" y=\"387\" transform=\"translate(523.86,0) rotate(90,0,381)\" style=\"font-family: 'Open Sans', verdana, arial, sans-serif; font-size: 12px; fill: rgb(42, 63, 95); fill-opacity: 1; white-space: pre; opacity: 1;\">100+</text></g><g class=\"xtick\"><text text-anchor=\"start\" x=\"0\" y=\"387\" transform=\"translate(552.5,0) rotate(90,0,381)\" style=\"font-family: 'Open Sans', verdana, arial, sans-serif; font-size: 12px; fill: rgb(42, 63, 95); fill-opacity: 1; white-space: pre; opacity: 1;\">500+</text></g><g class=\"xtick\"><text text-anchor=\"start\" x=\"0\" y=\"387\" transform=\"translate(581.14,0) rotate(90,0,381)\" style=\"font-family: 'Open Sans', verdana, arial, sans-serif; font-size: 12px; fill: rgb(42, 63, 95); fill-opacity: 1; white-space: pre; opacity: 1;\">50,000+</text></g><g class=\"xtick\"><text text-anchor=\"start\" x=\"0\" y=\"387\" transform=\"translate(609.77,0) rotate(90,0,381)\" style=\"font-family: 'Open Sans', verdana, arial, sans-serif; font-size: 12px; fill: rgb(42, 63, 95); fill-opacity: 1; white-space: pre; opacity: 1;\">5,000+</text></g><g class=\"xtick\"><text text-anchor=\"start\" x=\"0\" y=\"387\" transform=\"translate(638.41,0) rotate(90,0,381)\" style=\"font-family: 'Open Sans', verdana, arial, sans-serif; font-size: 12px; fill: rgb(42, 63, 95); fill-opacity: 1; white-space: pre; opacity: 1;\">100,000+</text></g><g class=\"xtick\"><text text-anchor=\"start\" x=\"0\" y=\"387\" transform=\"translate(667.05,0) rotate(90,0,381)\" style=\"font-family: 'Open Sans', verdana, arial, sans-serif; font-size: 12px; fill: rgb(42, 63, 95); fill-opacity: 1; white-space: pre; opacity: 1;\">10,000+</text></g><g class=\"xtick\"><text text-anchor=\"start\" x=\"0\" y=\"387\" transform=\"translate(695.68,0) rotate(90,0,381)\" style=\"font-family: 'Open Sans', verdana, arial, sans-serif; font-size: 12px; fill: rgb(42, 63, 95); fill-opacity: 1; white-space: pre; opacity: 1;\">1,000+</text></g></g><g class=\"yaxislayer-above\"><g class=\"ytick\"><text text-anchor=\"end\" x=\"79\" y=\"4.199999999999999\" transform=\"translate(0,374)\" style=\"font-family: 'Open Sans', verdana, arial, sans-serif; font-size: 12px; fill: rgb(42, 63, 95); fill-opacity: 1; white-space: pre; opacity: 1;\">0</text></g><g class=\"ytick\"><text text-anchor=\"end\" x=\"79\" y=\"4.199999999999999\" style=\"font-family: 'Open Sans', verdana, arial, sans-serif; font-size: 12px; fill: rgb(42, 63, 95); fill-opacity: 1; white-space: pre; opacity: 1;\" transform=\"translate(0,293.05)\">50k</text></g><g class=\"ytick\"><text text-anchor=\"end\" x=\"79\" y=\"4.199999999999999\" style=\"font-family: 'Open Sans', verdana, arial, sans-serif; font-size: 12px; fill: rgb(42, 63, 95); fill-opacity: 1; white-space: pre; opacity: 1;\" transform=\"translate(0,212.1)\">100k</text></g><g class=\"ytick\"><text text-anchor=\"end\" x=\"79\" y=\"4.199999999999999\" style=\"font-family: 'Open Sans', verdana, arial, sans-serif; font-size: 12px; fill: rgb(42, 63, 95); fill-opacity: 1; white-space: pre; opacity: 1;\" transform=\"translate(0,131.15)\">150k</text></g></g><g class=\"overaxes-above\"/></g></g><g class=\"polarlayer\"/><g class=\"ternarylayer\"/><g class=\"geolayer\"/><g class=\"funnelarealayer\"/><g class=\"pielayer\"/><g class=\"iciclelayer\"/><g class=\"treemaplayer\"/><g class=\"sunburstlayer\"/><g class=\"glimages\"/><defs id=\"topdefs-e756db\"><g class=\"clips\"/></defs><g class=\"layer-above\"><g class=\"imagelayer\"/><g class=\"shapelayer\"/></g><g class=\"infolayer\"><g class=\"g-gtitle\"><text class=\"gtitle\" x=\"375\" y=\"50\" text-anchor=\"middle\" dy=\"0em\" style=\"font-family: 'Open Sans', verdana, arial, sans-serif; font-size: 26px; fill: rgb(118, 26, 22); opacity: 1; font-weight: normal; white-space: pre;\"><tspan class=\"line\" dy=\"0em\" x=\"375\" y=\"50\">Histograma Instalaciones Mínimas de</tspan><tspan class=\"line\" dy=\"1.3em\" x=\"375\" y=\"50\">Aplicaciones Ordenado por frecuencia</tspan></text></g><g class=\"g-xtitle\"/><g class=\"g-ytitle\"><text class=\"ytitle\" transform=\"rotate(-90,24.200000000000003,237)\" x=\"24.200000000000003\" y=\"237\" text-anchor=\"middle\" style=\"font-family: 'Open Sans', verdana, arial, sans-serif; font-size: 14px; fill: rgb(42, 63, 95); opacity: 1; font-weight: normal; white-space: pre;\">Frecuencia</text></g></g></svg>"
     },
     "metadata": {}
    }
   ],
   "metadata": {
    "collapsed": false,
    "pycharm": {
     "name": "#%%\n"
    }
   }
  },
  {
   "cell_type": "markdown",
   "source": [
    "## CATEGORÍA DE JUEGOS"
   ],
   "metadata": {
    "collapsed": false
   }
  },
  {
   "cell_type": "code",
   "execution_count": 58,
   "source": [
    "only_games = datos[datos['Game Category'] != 'No Juego']\r\n",
    "game_categories_frequency = only_games['Game Category'].value_counts()"
   ],
   "outputs": [],
   "metadata": {
    "collapsed": false,
    "pycharm": {
     "name": "#%%\n"
    }
   }
  },
  {
   "cell_type": "code",
   "execution_count": 59,
   "source": [
    "game_category_hist = go.Figure()\r\n",
    "\r\n",
    "game_category_hist.add_trace(go.Bar(\r\n",
    "    y = game_categories_frequency.index,\r\n",
    "    x = game_categories_frequency,\r\n",
    "    marker = dict(color = '#0093E2'),\r\n",
    "    orientation = 'h',\r\n",
    "    textfont = dict(color = '#0093E2', size = 10),\r\n",
    "    textposition = 'outside',\r\n",
    "    texttemplate = [f'{y:,}' for y in game_categories_frequency]\r\n",
    "))\r\n",
    "game_category_hist.update_layout(\r\n",
    "    width = 700,\r\n",
    "    margin = dict(r = 40, b = 60),\r\n",
    "    plot_bgcolor = '#E3E3D6',\r\n",
    "    title = dict(\r\n",
    "        font = dict(size = 26, color = '#0093E2'),\r\n",
    "        text = 'Histograma Categorías de Juegos',\r\n",
    "        x = 0.5\r\n",
    "    ),\r\n",
    "    xaxis = dict(\r\n",
    "        tick0 = 0, dtick = 2000, range = (0, 16000),\r\n",
    "        title_text = 'Frecuencia'\r\n",
    "    )\r\n",
    ")\r\n",
    "game_category_hist.show(renderer = 'svg')"
   ],
   "outputs": [
    {
     "output_type": "display_data",
     "data": {
      "image/svg+xml": "<svg class=\"main-svg\" xmlns=\"http://www.w3.org/2000/svg\" xmlns:xlink=\"http://www.w3.org/1999/xlink\" width=\"700\" height=\"500\" style=\"\" viewBox=\"0 0 700 500\"><rect x=\"0\" y=\"0\" width=\"700\" height=\"500\" style=\"fill: rgb(255, 255, 255); fill-opacity: 1;\"/><defs id=\"defs-7764b6\"><g class=\"clips\"><clipPath id=\"clip7764b6xyplot\" class=\"plotclip\"><rect width=\"574\" height=\"340\"/></clipPath><clipPath class=\"axesclip\" id=\"clip7764b6x\"><rect x=\"86\" y=\"0\" width=\"574\" height=\"500\"/></clipPath><clipPath class=\"axesclip\" id=\"clip7764b6y\"><rect x=\"0\" y=\"100\" width=\"700\" height=\"340\"/></clipPath><clipPath class=\"axesclip\" id=\"clip7764b6xy\"><rect x=\"86\" y=\"100\" width=\"574\" height=\"340\"/></clipPath></g><g class=\"gradients\"/><g class=\"patterns\"/></defs><g class=\"bglayer\"><rect class=\"bg\" x=\"86\" y=\"100\" width=\"574\" height=\"340\" style=\"fill: rgb(227, 227, 214); fill-opacity: 1; stroke-width: 0;\"/></g><g class=\"layer-below\"><g class=\"imagelayer\"/><g class=\"shapelayer\"/></g><g class=\"cartesianlayer\"><g class=\"subplot xy\"><g class=\"layer-subplot\"><g class=\"shapelayer\"/><g class=\"imagelayer\"/></g><g class=\"gridlayer\"><g class=\"x\"><path class=\"xgrid crisp\" transform=\"translate(157.75,0)\" d=\"M0,100v340\" style=\"stroke: rgb(255, 255, 255); stroke-opacity: 1; stroke-width: 1px;\"/><path class=\"xgrid crisp\" transform=\"translate(229.5,0)\" d=\"M0,100v340\" style=\"stroke: rgb(255, 255, 255); stroke-opacity: 1; stroke-width: 1px;\"/><path class=\"xgrid crisp\" transform=\"translate(301.25,0)\" d=\"M0,100v340\" style=\"stroke: rgb(255, 255, 255); stroke-opacity: 1; stroke-width: 1px;\"/><path class=\"xgrid crisp\" transform=\"translate(373,0)\" d=\"M0,100v340\" style=\"stroke: rgb(255, 255, 255); stroke-opacity: 1; stroke-width: 1px;\"/><path class=\"xgrid crisp\" transform=\"translate(444.75,0)\" d=\"M0,100v340\" style=\"stroke: rgb(255, 255, 255); stroke-opacity: 1; stroke-width: 1px;\"/><path class=\"xgrid crisp\" transform=\"translate(516.5,0)\" d=\"M0,100v340\" style=\"stroke: rgb(255, 255, 255); stroke-opacity: 1; stroke-width: 1px;\"/><path class=\"xgrid crisp\" transform=\"translate(588.25,0)\" d=\"M0,100v340\" style=\"stroke: rgb(255, 255, 255); stroke-opacity: 1; stroke-width: 1px;\"/></g><g class=\"y\"/></g><g class=\"zerolinelayer\"><path class=\"xzl zl crisp\" transform=\"translate(86,0)\" d=\"M0,100v340\" style=\"stroke: rgb(255, 255, 255); stroke-opacity: 1; stroke-width: 2px;\"/></g><path class=\"xlines-below\"/><path class=\"ylines-below\"/><g class=\"overlines-below\"/><g class=\"xaxislayer-below\"/><g class=\"yaxislayer-below\"/><g class=\"overaxes-below\"/><g class=\"plot\" transform=\"translate(86,100)\" clip-path=\"url(#clip7764b6xyplot)\"><g class=\"barlayer mlayer\"><g class=\"trace bars\" style=\"opacity: 1;\"><g class=\"points\"><g class=\"point\"><path d=\"M0,337.73V319.6H520.76V337.73Z\" style=\"vector-effect: non-scaling-stroke; opacity: 1; stroke-width: 0.5px; fill: rgb(0, 147, 226); fill-opacity: 1; stroke: rgb(229, 236, 246); stroke-opacity: 1;\"/><text class=\"bartext bartext-outside\" text-anchor=\"middle\" data-notex=\"1\" x=\"0\" y=\"0\" style=\"font-family: 'Open Sans', verdana, arial, sans-serif; font-size: 10px; fill: rgb(0, 147, 226); fill-opacity: 1; white-space: pre;\" transform=\"translate(541.47875,332.665)\">14,516</text></g><g class=\"point\"><path d=\"M0,315.07V296.93H478.57V315.07Z\" style=\"vector-effect: non-scaling-stroke; opacity: 1; stroke-width: 0.5px; fill: rgb(0, 147, 226); fill-opacity: 1; stroke: rgb(229, 236, 246); stroke-opacity: 1;\"/><text class=\"bartext bartext-outside\" text-anchor=\"middle\" data-notex=\"1\" x=\"0\" y=\"0\" style=\"font-family: 'Open Sans', verdana, arial, sans-serif; font-size: 10px; fill: rgb(0, 147, 226); fill-opacity: 1; white-space: pre;\" transform=\"translate(499.28875,310)\">13,340</text></g><g class=\"point\"><path d=\"M0,292.4V274.27H421.93V292.4Z\" style=\"vector-effect: non-scaling-stroke; opacity: 1; stroke-width: 0.5px; fill: rgb(0, 147, 226); fill-opacity: 1; stroke: rgb(229, 236, 246); stroke-opacity: 1;\"/><text class=\"bartext bartext-outside\" text-anchor=\"middle\" data-notex=\"1\" x=\"0\" y=\"0\" style=\"font-family: 'Open Sans', verdana, arial, sans-serif; font-size: 10px; fill: rgb(0, 147, 226); fill-opacity: 1; white-space: pre;\" transform=\"translate(442.64875,287.335)\">11,761</text></g><g class=\"point\"><path d=\"M0,269.73V251.6H362.3V269.73Z\" style=\"vector-effect: non-scaling-stroke; opacity: 1; stroke-width: 0.5px; fill: rgb(0, 147, 226); fill-opacity: 1; stroke: rgb(229, 236, 246); stroke-opacity: 1;\"/><text class=\"bartext bartext-outside\" text-anchor=\"middle\" data-notex=\"1\" x=\"0\" y=\"0\" style=\"font-family: 'Open Sans', verdana, arial, sans-serif; font-size: 10px; fill: rgb(0, 147, 226); fill-opacity: 1; white-space: pre;\" transform=\"translate(383.01875,264.665)\">10,099</text></g><g class=\"point\"><path d=\"M0,247.07V228.93H281.94V247.07Z\" style=\"vector-effect: non-scaling-stroke; opacity: 1; stroke-width: 0.5px; fill: rgb(0, 147, 226); fill-opacity: 1; stroke: rgb(229, 236, 246); stroke-opacity: 1;\"/><text class=\"bartext bartext-outside\" text-anchor=\"middle\" data-notex=\"1\" x=\"0\" y=\"0\" style=\"font-family: 'Open Sans', verdana, arial, sans-serif; font-size: 10px; fill: rgb(0, 147, 226); fill-opacity: 1; white-space: pre;\" transform=\"translate(299.486875,242)\">7,859</text></g><g class=\"point\"><path d=\"M0,224.4V206.27H274.05V224.4Z\" style=\"vector-effect: non-scaling-stroke; opacity: 1; stroke-width: 0.5px; fill: rgb(0, 147, 226); fill-opacity: 1; stroke: rgb(229, 236, 246); stroke-opacity: 1;\"/><text class=\"bartext bartext-outside\" text-anchor=\"middle\" data-notex=\"1\" x=\"0\" y=\"0\" style=\"font-family: 'Open Sans', verdana, arial, sans-serif; font-size: 10px; fill: rgb(0, 147, 226); fill-opacity: 1; white-space: pre;\" transform=\"translate(291.596875,219.335)\">7,639</text></g><g class=\"point\"><path d=\"M0,201.73V183.6H180.88V201.73Z\" style=\"vector-effect: non-scaling-stroke; opacity: 1; stroke-width: 0.5px; fill: rgb(0, 147, 226); fill-opacity: 1; stroke: rgb(229, 236, 246); stroke-opacity: 1;\"/><text class=\"bartext bartext-outside\" text-anchor=\"middle\" data-notex=\"1\" x=\"0\" y=\"0\" style=\"font-family: 'Open Sans', verdana, arial, sans-serif; font-size: 10px; fill: rgb(0, 147, 226); fill-opacity: 1; white-space: pre;\" transform=\"translate(198.426875,196.665)\">5,042</text></g><g class=\"point\"><path d=\"M0,179.07V160.93H174.6V179.07Z\" style=\"vector-effect: non-scaling-stroke; opacity: 1; stroke-width: 0.5px; fill: rgb(0, 147, 226); fill-opacity: 1; stroke: rgb(229, 236, 246); stroke-opacity: 1;\"/><text class=\"bartext bartext-outside\" text-anchor=\"middle\" data-notex=\"1\" x=\"0\" y=\"0\" style=\"font-family: 'Open Sans', verdana, arial, sans-serif; font-size: 10px; fill: rgb(0, 147, 226); fill-opacity: 1; white-space: pre;\" transform=\"translate(192.146875,174)\">4,867</text></g><g class=\"point\"><path d=\"M0,156.4V138.27H145.15V156.4Z\" style=\"vector-effect: non-scaling-stroke; opacity: 1; stroke-width: 0.5px; fill: rgb(0, 147, 226); fill-opacity: 1; stroke: rgb(229, 236, 246); stroke-opacity: 1;\"/><text class=\"bartext bartext-outside\" text-anchor=\"middle\" data-notex=\"1\" x=\"0\" y=\"0\" style=\"font-family: 'Open Sans', verdana, arial, sans-serif; font-size: 10px; fill: rgb(0, 147, 226); fill-opacity: 1; white-space: pre;\" transform=\"translate(162.696875,151.335)\">4,046</text></g><g class=\"point\"><path d=\"M0,133.73V115.6H139.12V133.73Z\" style=\"vector-effect: non-scaling-stroke; opacity: 1; stroke-width: 0.5px; fill: rgb(0, 147, 226); fill-opacity: 1; stroke: rgb(229, 236, 246); stroke-opacity: 1;\"/><text class=\"bartext bartext-outside\" text-anchor=\"middle\" data-notex=\"1\" x=\"0\" y=\"0\" style=\"font-family: 'Open Sans', verdana, arial, sans-serif; font-size: 10px; fill: rgb(0, 147, 226); fill-opacity: 1; white-space: pre;\" transform=\"translate(156.666875,128.665)\">3,878</text></g><g class=\"point\"><path d=\"M0,111.07V92.93H132.16V111.07Z\" style=\"vector-effect: non-scaling-stroke; opacity: 1; stroke-width: 0.5px; fill: rgb(0, 147, 226); fill-opacity: 1; stroke: rgb(229, 236, 246); stroke-opacity: 1;\"/><text class=\"bartext bartext-outside\" text-anchor=\"middle\" data-notex=\"1\" x=\"0\" y=\"0\" style=\"font-family: 'Open Sans', verdana, arial, sans-serif; font-size: 10px; fill: rgb(0, 147, 226); fill-opacity: 1; white-space: pre;\" transform=\"translate(149.706875,106)\">3,684</text></g><g class=\"point\"><path d=\"M0,88.4V70.27H127V88.4Z\" style=\"vector-effect: non-scaling-stroke; opacity: 1; stroke-width: 0.5px; fill: rgb(0, 147, 226); fill-opacity: 1; stroke: rgb(229, 236, 246); stroke-opacity: 1;\"/><text class=\"bartext bartext-outside\" text-anchor=\"middle\" data-notex=\"1\" x=\"0\" y=\"0\" style=\"font-family: 'Open Sans', verdana, arial, sans-serif; font-size: 10px; fill: rgb(0, 147, 226); fill-opacity: 1; white-space: pre;\" transform=\"translate(144.546875,83.33500000000001)\">3,540</text></g><g class=\"point\"><path d=\"M0,65.73V47.6H119.86V65.73Z\" style=\"vector-effect: non-scaling-stroke; opacity: 1; stroke-width: 0.5px; fill: rgb(0, 147, 226); fill-opacity: 1; stroke: rgb(229, 236, 246); stroke-opacity: 1;\"/><text class=\"bartext bartext-outside\" text-anchor=\"middle\" data-notex=\"1\" x=\"0\" y=\"0\" style=\"font-family: 'Open Sans', verdana, arial, sans-serif; font-size: 10px; fill: rgb(0, 147, 226); fill-opacity: 1; white-space: pre;\" transform=\"translate(137.406875,60.665000000000006)\">3,341</text></g><g class=\"point\"><path d=\"M0,43.07V24.93H79.43V43.07Z\" style=\"vector-effect: non-scaling-stroke; opacity: 1; stroke-width: 0.5px; fill: rgb(0, 147, 226); fill-opacity: 1; stroke: rgb(229, 236, 246); stroke-opacity: 1;\"/><text class=\"bartext bartext-outside\" text-anchor=\"middle\" data-notex=\"1\" x=\"0\" y=\"0\" style=\"font-family: 'Open Sans', verdana, arial, sans-serif; font-size: 10px; fill: rgb(0, 147, 226); fill-opacity: 1; white-space: pre;\" transform=\"translate(96.976875,38)\">2,214</text></g><g class=\"point\"><path d=\"M0,20.4V2.27H61.45V20.4Z\" style=\"vector-effect: non-scaling-stroke; opacity: 1; stroke-width: 0.5px; fill: rgb(0, 147, 226); fill-opacity: 1; stroke: rgb(229, 236, 246); stroke-opacity: 1;\"/><text class=\"bartext bartext-outside\" text-anchor=\"middle\" data-notex=\"1\" x=\"0\" y=\"0\" style=\"font-family: 'Open Sans', verdana, arial, sans-serif; font-size: 10px; fill: rgb(0, 147, 226); fill-opacity: 1; white-space: pre;\" transform=\"translate(78.996875,15.334999999999999)\">1,713</text></g></g></g></g></g><g class=\"overplot\"/><path class=\"xlines-above crisp\" d=\"M0,0\" style=\"fill: none;\"/><path class=\"ylines-above crisp\" d=\"M0,0\" style=\"fill: none;\"/><g class=\"overlines-above\"/><g class=\"xaxislayer-above\"><g class=\"xtick\"><text text-anchor=\"middle\" x=\"0\" y=\"453\" transform=\"translate(86,0)\" style=\"font-family: 'Open Sans', verdana, arial, sans-serif; font-size: 12px; fill: rgb(42, 63, 95); fill-opacity: 1; white-space: pre; opacity: 1;\">0</text></g><g class=\"xtick\"><text text-anchor=\"middle\" x=\"0\" y=\"453\" style=\"font-family: 'Open Sans', verdana, arial, sans-serif; font-size: 12px; fill: rgb(42, 63, 95); fill-opacity: 1; white-space: pre; opacity: 1;\" transform=\"translate(157.75,0)\">2k</text></g><g class=\"xtick\"><text text-anchor=\"middle\" x=\"0\" y=\"453\" style=\"font-family: 'Open Sans', verdana, arial, sans-serif; font-size: 12px; fill: rgb(42, 63, 95); fill-opacity: 1; white-space: pre; opacity: 1;\" transform=\"translate(229.5,0)\">4k</text></g><g class=\"xtick\"><text text-anchor=\"middle\" x=\"0\" y=\"453\" style=\"font-family: 'Open Sans', verdana, arial, sans-serif; font-size: 12px; fill: rgb(42, 63, 95); fill-opacity: 1; white-space: pre; opacity: 1;\" transform=\"translate(301.25,0)\">6k</text></g><g class=\"xtick\"><text text-anchor=\"middle\" x=\"0\" y=\"453\" style=\"font-family: 'Open Sans', verdana, arial, sans-serif; font-size: 12px; fill: rgb(42, 63, 95); fill-opacity: 1; white-space: pre; opacity: 1;\" transform=\"translate(373,0)\">8k</text></g><g class=\"xtick\"><text text-anchor=\"middle\" x=\"0\" y=\"453\" style=\"font-family: 'Open Sans', verdana, arial, sans-serif; font-size: 12px; fill: rgb(42, 63, 95); fill-opacity: 1; white-space: pre; opacity: 1;\" transform=\"translate(444.75,0)\">10k</text></g><g class=\"xtick\"><text text-anchor=\"middle\" x=\"0\" y=\"453\" style=\"font-family: 'Open Sans', verdana, arial, sans-serif; font-size: 12px; fill: rgb(42, 63, 95); fill-opacity: 1; white-space: pre; opacity: 1;\" transform=\"translate(516.5,0)\">12k</text></g><g class=\"xtick\"><text text-anchor=\"middle\" x=\"0\" y=\"453\" style=\"font-family: 'Open Sans', verdana, arial, sans-serif; font-size: 12px; fill: rgb(42, 63, 95); fill-opacity: 1; white-space: pre; opacity: 1;\" transform=\"translate(588.25,0)\">14k</text></g><g class=\"xtick\"><text text-anchor=\"middle\" x=\"0\" y=\"453\" style=\"font-family: 'Open Sans', verdana, arial, sans-serif; font-size: 12px; fill: rgb(42, 63, 95); fill-opacity: 1; white-space: pre; opacity: 1;\" transform=\"translate(660,0)\">16k</text></g></g><g class=\"yaxislayer-above\"><g class=\"ytick\"><text text-anchor=\"end\" x=\"85\" y=\"4.199999999999999\" transform=\"translate(0,428.67)\" style=\"font-family: 'Open Sans', verdana, arial, sans-serif; font-size: 12px; fill: rgb(42, 63, 95); fill-opacity: 1; white-space: pre; opacity: 1;\">Casual</text></g><g class=\"ytick\"><text text-anchor=\"end\" x=\"85\" y=\"4.199999999999999\" transform=\"translate(0,406)\" style=\"font-family: 'Open Sans', verdana, arial, sans-serif; font-size: 12px; fill: rgb(42, 63, 95); fill-opacity: 1; white-space: pre; opacity: 1;\">Simulation</text></g><g class=\"ytick\"><text text-anchor=\"end\" x=\"85\" y=\"4.199999999999999\" transform=\"translate(0,383.33)\" style=\"font-family: 'Open Sans', verdana, arial, sans-serif; font-size: 12px; fill: rgb(42, 63, 95); fill-opacity: 1; white-space: pre; opacity: 1;\">Arcade</text></g><g class=\"ytick\"><text text-anchor=\"end\" x=\"85\" y=\"4.199999999999999\" transform=\"translate(0,360.67)\" style=\"font-family: 'Open Sans', verdana, arial, sans-serif; font-size: 12px; fill: rgb(42, 63, 95); fill-opacity: 1; white-space: pre; opacity: 1;\">Action</text></g><g class=\"ytick\"><text text-anchor=\"end\" x=\"85\" y=\"4.199999999999999\" transform=\"translate(0,338)\" style=\"font-family: 'Open Sans', verdana, arial, sans-serif; font-size: 12px; fill: rgb(42, 63, 95); fill-opacity: 1; white-space: pre; opacity: 1;\">Adventure</text></g><g class=\"ytick\"><text text-anchor=\"end\" x=\"85\" y=\"4.199999999999999\" transform=\"translate(0,315.33000000000004)\" style=\"font-family: 'Open Sans', verdana, arial, sans-serif; font-size: 12px; fill: rgb(42, 63, 95); fill-opacity: 1; white-space: pre; opacity: 1;\">Educational</text></g><g class=\"ytick\"><text text-anchor=\"end\" x=\"85\" y=\"4.199999999999999\" transform=\"translate(0,292.66999999999996)\" style=\"font-family: 'Open Sans', verdana, arial, sans-serif; font-size: 12px; fill: rgb(42, 63, 95); fill-opacity: 1; white-space: pre; opacity: 1;\">Role Playing</text></g><g class=\"ytick\"><text text-anchor=\"end\" x=\"85\" y=\"4.199999999999999\" transform=\"translate(0,270)\" style=\"font-family: 'Open Sans', verdana, arial, sans-serif; font-size: 12px; fill: rgb(42, 63, 95); fill-opacity: 1; white-space: pre; opacity: 1;\">Racing</text></g><g class=\"ytick\"><text text-anchor=\"end\" x=\"85\" y=\"4.199999999999999\" transform=\"translate(0,247.33)\" style=\"font-family: 'Open Sans', verdana, arial, sans-serif; font-size: 12px; fill: rgb(42, 63, 95); fill-opacity: 1; white-space: pre; opacity: 1;\">Board</text></g><g class=\"ytick\"><text text-anchor=\"end\" x=\"85\" y=\"4.199999999999999\" transform=\"translate(0,224.67000000000002)\" style=\"font-family: 'Open Sans', verdana, arial, sans-serif; font-size: 12px; fill: rgb(42, 63, 95); fill-opacity: 1; white-space: pre; opacity: 1;\">Card</text></g><g class=\"ytick\"><text text-anchor=\"end\" x=\"85\" y=\"4.199999999999999\" transform=\"translate(0,202)\" style=\"font-family: 'Open Sans', verdana, arial, sans-serif; font-size: 12px; fill: rgb(42, 63, 95); fill-opacity: 1; white-space: pre; opacity: 1;\">Trivia</text></g><g class=\"ytick\"><text text-anchor=\"end\" x=\"85\" y=\"4.199999999999999\" transform=\"translate(0,179.32999999999998)\" style=\"font-family: 'Open Sans', verdana, arial, sans-serif; font-size: 12px; fill: rgb(42, 63, 95); fill-opacity: 1; white-space: pre; opacity: 1;\">Word</text></g><g class=\"ytick\"><text text-anchor=\"end\" x=\"85\" y=\"4.199999999999999\" transform=\"translate(0,156.67000000000002)\" style=\"font-family: 'Open Sans', verdana, arial, sans-serif; font-size: 12px; fill: rgb(42, 63, 95); fill-opacity: 1; white-space: pre; opacity: 1;\">Strategy</text></g><g class=\"ytick\"><text text-anchor=\"end\" x=\"85\" y=\"4.199999999999999\" transform=\"translate(0,134)\" style=\"font-family: 'Open Sans', verdana, arial, sans-serif; font-size: 12px; fill: rgb(42, 63, 95); fill-opacity: 1; white-space: pre; opacity: 1;\">Casino</text></g><g class=\"ytick\"><text text-anchor=\"end\" x=\"85\" y=\"4.199999999999999\" transform=\"translate(0,111.33)\" style=\"font-family: 'Open Sans', verdana, arial, sans-serif; font-size: 12px; fill: rgb(42, 63, 95); fill-opacity: 1; white-space: pre; opacity: 1;\">Music</text></g></g><g class=\"overaxes-above\"/></g></g><g class=\"polarlayer\"/><g class=\"ternarylayer\"/><g class=\"geolayer\"/><g class=\"funnelarealayer\"/><g class=\"pielayer\"/><g class=\"iciclelayer\"/><g class=\"treemaplayer\"/><g class=\"sunburstlayer\"/><g class=\"glimages\"/><defs id=\"topdefs-7764b6\"><g class=\"clips\"/></defs><g class=\"layer-above\"><g class=\"imagelayer\"/><g class=\"shapelayer\"/></g><g class=\"infolayer\"><g class=\"g-gtitle\"><text class=\"gtitle\" x=\"350\" y=\"50\" text-anchor=\"middle\" dy=\"0em\" style=\"font-family: 'Open Sans', verdana, arial, sans-serif; font-size: 26px; fill: rgb(0, 147, 226); opacity: 1; font-weight: normal; white-space: pre;\">Histograma Categorías de Juegos</text></g><g class=\"g-xtitle\"><text class=\"xtitle\" x=\"373\" y=\"480.8\" text-anchor=\"middle\" style=\"font-family: 'Open Sans', verdana, arial, sans-serif; font-size: 14px; fill: rgb(42, 63, 95); opacity: 1; font-weight: normal; white-space: pre;\">Frecuencia</text></g><g class=\"g-ytitle\"/></g></svg>"
     },
     "metadata": {}
    }
   ],
   "metadata": {
    "collapsed": false,
    "pycharm": {
     "name": "#%%\n"
    }
   }
  },
  {
   "cell_type": "markdown",
   "source": [
    "# PREPROCESSING EN ANÁLISIS EXPLORATORIO\r\n",
    "\r\n",
    "Segundo pre-procesado realizado en la exploración univariable de los datos:\r\n",
    "1. Se eliminan las filas cuya cantidad de reviews o rating sea cero.\r\n",
    "2. Se elimina la columna Game Category que solo fue empleada para guardado temporal de categorías de juego y para su\r\n",
    "análisis y visualización.\r\n",
    "3. Se elimina columna App Name.\r\n",
    "4. Se elimina columna Installs, usada como descripción de datos para análisis.\r\n",
    "5. Es tan poca la cantidad de aplicaciones con sello del editor que resulta ser despreciable en comparación al total de\r\n",
    "aplicaciones disponibles con reviews, por lo tanto, también se elimina esta columna.\r\n",
    "6. Se cambia el tipo de dato de las columnas “Rating Count” y “Size” de float64 a int64."
   ],
   "metadata": {
    "collapsed": false
   }
  },
  {
   "cell_type": "code",
   "execution_count": 60,
   "source": [
    "datos = datos.drop(columns = ['App Name', 'Installs', 'Editors Choice', 'Game Category'])\r\n",
    "datos['Rating Count'] = datos['Rating Count'].astype('int64')\r\n",
    "datos['Size'] = datos['Size'].astype('int64')\r\n",
    "datos.info()"
   ],
   "outputs": [
    {
     "output_type": "stream",
     "name": "stdout",
     "text": [
      "<class 'pandas.core.frame.DataFrame'>\n",
      "Int64Index: 676334 entries, 0 to 1118135\n",
      "Data columns (total 14 columns):\n",
      " #   Column            Non-Null Count   Dtype         \n",
      "---  ------            --------------   -----         \n",
      " 0   App Id            676334 non-null  object        \n",
      " 1   Category          676334 non-null  object        \n",
      " 2   Rating            676334 non-null  float64       \n",
      " 3   Rating Count      676334 non-null  int64         \n",
      " 4   Minimum Installs  676334 non-null  int64         \n",
      " 5   Maximum Installs  676334 non-null  int64         \n",
      " 6   Free              676334 non-null  bool          \n",
      " 7   Size              676334 non-null  int64         \n",
      " 8   Minimum Android   676334 non-null  float64       \n",
      " 9   Released          676334 non-null  datetime64[ns]\n",
      " 10  Content Rating    676334 non-null  object        \n",
      " 11  Ad Supported      676334 non-null  bool          \n",
      " 12  In App Purchases  676334 non-null  bool          \n",
      " 13  Price USD         676334 non-null  float64       \n",
      "dtypes: bool(3), datetime64[ns](1), float64(3), int64(4), object(3)\n",
      "memory usage: 63.9+ MB\n"
     ]
    }
   ],
   "metadata": {
    "collapsed": false,
    "pycharm": {
     "name": "#%%\n"
    }
   }
  },
  {
   "cell_type": "markdown",
   "source": [
    "Se crea un nuevo dataset ya limpio, arreglado y listo para trabajar:"
   ],
   "metadata": {
    "collapsed": false
   }
  },
  {
   "cell_type": "code",
   "execution_count": 61,
   "source": [
    "datos.to_csv('GooglePlayStore_Preprocesed.csv', index = False)\r\n"
   ],
   "outputs": [],
   "metadata": {
    "collapsed": false,
    "pycharm": {
     "name": "#%%\n"
    }
   }
  }
 ],
 "metadata": {
  "kernelspec": {
   "name": "python3",
   "display_name": "Python 3.9.6 64-bit"
  },
  "language_info": {
   "codemirror_mode": {
    "name": "ipython",
    "version": 3
   },
   "file_extension": ".py",
   "mimetype": "text/x-python",
   "name": "python",
   "nbconvert_exporter": "python",
   "pygments_lexer": "ipython3",
   "version": "3.9.6"
  },
  "orig_nbformat": 3,
  "interpreter": {
   "hash": "ac59ebe37160ed0dfa835113d9b8498d9f09ceb179beaac4002f036b9467c963"
  }
 },
 "nbformat": 4,
 "nbformat_minor": 2
}